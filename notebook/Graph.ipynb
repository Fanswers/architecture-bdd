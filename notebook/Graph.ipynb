{
 "cells": [
  {
   "cell_type": "code",
   "execution_count": 42,
   "id": "9ea8434a",
   "metadata": {},
   "outputs": [],
   "source": [
    "import pandas as pd\n",
    "import json\n",
    "import plotly.express as px\n",
    "import plotly.graph_objects as go\n",
    "import seaborn as sns\n",
    "import matplotlib.pyplot as plt"
   ]
  },
  {
   "cell_type": "code",
   "execution_count": 43,
   "id": "181ee99e",
   "metadata": {},
   "outputs": [
    {
     "name": "stdout",
     "output_type": "stream",
     "text": [
      "[{'_id': 'AYA NAKAMURA', 'concerts': {'2023-05-28T18:00:00': {'location': 'Paris', 'salle': 'Accorhotels Arena - Popb Bercy', 'price': None}, '2023-05-26T20:00:00': {'location': 'Paris', 'salle': 'Accorhotels Arena - Popb Bercy', 'price': None}, '2023-05-27T00:00:00': {'location': 'Paris', 'salle': 'Accorhotels Arena - Popb Bercy', 'price': None}}, 'spotify_id': '7IlRNXHjoOCgEAWN5qYksg', 'followers': {'13/01/2023': 3749329, '19/01/2023': 3761948, '20/01/2023': 3763975}, 'popularity': 72}, {'_id': 'TIAKOLA', 'concerts': {'2022-10-06T20:00:00': {'location': 'Lyon', 'salle': 'Ninkasi Gerland / Kao', 'price': None}, '2023-02-03T18:00:00': {'location': 'Reims', 'salle': 'Reims Arena', 'price': 35}, '2023-02-04T20:30:00': {'location': 'Saint Germain En Laye', 'salle': 'La Clef A Saint Germain En Laye', 'price': None}, '2023-02-10T20:30:00': {'location': 'Saint Malo', 'salle': 'La Nouvelle Vague A Saint Malo', 'price': None}, '2023-02-25T20:00:00': {'location': 'Chateaurenard', 'salle': \"Salle De L'etoile A Chateaurenard\", 'price': None}, '2023-03-10T18:00:00': {'location': 'Dijon', 'salle': 'Zenith De Dijon', 'price': 35}, '2023-03-12T20:00:00': {'location': 'Paris', 'salle': \"L'olympia\", 'price': None}, '2023-03-17T20:30:00': {'location': 'Blois', 'salle': 'Chato Do A Blois', 'price': None}, '2023-03-18T20:30:00': {'location': 'Saint Malo', 'salle': 'La Nouvelle Vague A Saint Malo', 'price': None}, '2022-12-09T20:15:00': {'location': 'Esch sur Alzette', 'salle': 'Rockhal', 'price': None}, '2022-12-02T20:30:00': {'location': 'Sannois', 'salle': 'Emb De Sannois', 'price': None}, '2022-11-30T20:00:00': {'location': 'Lille', 'salle': 'Splendid De Lille', 'price': None}, '2022-11-25T19:30:00': {'location': 'Montpellier', 'salle': 'Le Rockstore', 'price': None}, '2022-11-18T20:00:00': {'location': 'Le Havre', 'salle': 'Le Tetris / La Halle / Fort De Tourneville', 'price': None}, '2022-11-12T20:30:00': {'location': 'Nancy', 'salle': \"L'autre Canal\", 'price': None}, '2022-11-10T20:00:00': {'location': 'Tournefeuille', 'salle': 'Le Phare De Tournefeuille', 'price': None}, '2022-10-30T19:30:00': {'location': 'Strasbourg', 'salle': 'La Laiterie', 'price': None}, '2022-10-21T20:30:00': {'location': 'Rennes', 'salle': 'Le Mem A Rennes', 'price': None}, '2022-10-20T20:00:00': {'location': 'Nantes', 'salle': 'Warehouse A Nantes', 'price': None}, '2022-10-14T20:30:00': {'location': 'Bordeaux', 'salle': 'Rock School Barbey', 'price': None}, '2022-10-07T20:00:00': {'location': 'Paris', 'salle': 'La Cigale A Paris', 'price': None}}, 'spotify_id': '3vUMXQ9kPnZAQkMkZZ7Hfh', 'followers': {'13/01/2023': 630498, '19/01/2023': 643069, '20/01/2023': 645064}, 'popularity': 75}, {'_id': 'DAMSO', 'concerts': {'2022-10-28T20:00:00': {'location': 'Amneville', 'salle': 'Le Galaxie A Amneville', 'price': None}, '2022-12-17T20:00:00': {'location': 'Paris', 'salle': 'Accorhotels Arena - Popb Bercy', 'price': None}, '2022-12-16T20:00:00': {'location': 'Paris', 'salle': 'Accorhotels Arena - Popb Bercy', 'price': None}, '2022-12-15T20:00:00': {'location': 'Paris', 'salle': 'Accorhotels Arena - Popb Bercy', 'price': None}, '2022-12-14T20:00:00': {'location': 'Paris', 'salle': 'Accorhotels Arena - Popb Bercy', 'price': None}, '2022-12-09T20:00:00': {'location': 'Lille', 'salle': 'Zenith De Lille - Arena', 'price': None}, '2022-12-03T20:00:00': {'location': 'Bordeaux', 'salle': 'Arkea Arena - Bordeaux', 'price': None}, '2022-11-27T20:00:00': {'location': 'Rennes', 'salle': 'Musikhall - Parc Expo Rennes Aeroport', 'price': None}, '2022-11-26T20:00:00': {'location': 'Cournon', 'salle': \"Zenith D'auvergne\", 'price': None}, '2022-11-23T20:00:00': {'location': 'Reims', 'salle': 'Reims Arena', 'price': None}, '2022-11-20T20:00:00': {'location': 'Eckbolsheim', 'salle': 'Zenith Europe De Strasbourg', 'price': None}, '2022-11-19T20:00:00': {'location': 'Rouen', 'salle': 'Zenith De Rouen / Grand Quevilly', 'price': None}, '2022-11-17T20:00:00': {'location': 'Lyon', 'salle': 'Halle Tony Garnier (Htg)', 'price': None}, '2022-11-09T20:00:00': {'location': 'Nantes', 'salle': 'Zenith De Nantes Metropole', 'price': None}, '2022-11-06T20:00:00': {'location': 'Dijon', 'salle': 'Zenith De Dijon', 'price': None}, '2022-11-05T20:00:00': {'location': 'Marseille', 'salle': 'Le Dome De Marseille', 'price': None}, '2022-10-29T20:00:00': {'location': 'Caen', 'salle': 'Zenith De Caen', 'price': None}}, 'spotify_id': '2UwqpfQtNuhBwviIC0f2ie', 'followers': {'13/01/2023': 4160205, '19/01/2023': 4176590, '20/01/2023': 4179212}, 'popularity': 77}, {'_id': 'MUSE', 'concerts': {'2022-10-25T20:00:00': {'location': 'Paris', 'salle': 'Salle Pleyel', 'price': 374.0}, '2023-06-15T18:30:00': {'location': 'Decines', 'salle': 'Groupama Stadium Lyon', 'price': None}, '2023-06-20T17:00:00': {'location': 'Huddersfied', 'salle': \"The John Smith's Stadium - Huddersfield\", 'price': 2673.0}, '2023-06-25T17:00:00': {'location': 'Milton Keynes', 'salle': 'The National Bowl - Milton Keynes', 'price': 5425.0}, '2023-06-29T18:30:00': {'location': 'Bordeaux', 'salle': 'Stade Matmut Atlantique A Bordeaux', 'price': None}, '2023-07-08T18:30:00': {'location': 'Paris', 'salle': 'Stade De France (Saint Denis)', 'price': None}, '2023-07-15T18:30:00': {'location': 'Marseille', 'salle': 'Orange Velodrome De Marseille', 'price': 374.0}}, 'spotify_id': '12Chz98pHFMPJEknJQMWvI', 'followers': {'13/01/2023': 7291529, '19/01/2023': 7302782, '20/01/2023': 7304686}, 'popularity': 77}, {'_id': 'LOUISE ATTAQUE', 'concerts': {'2022-04-26T11:00:00': {'location': 'Paris', 'salle': 'Elysee Montmartre', 'price': 570.5}, '2023-03-15T20:00:00': {'location': 'Eckbolsheim', 'salle': 'Zenith Europe De Strasbourg', 'price': 528.0}, '2023-03-16T20:00:00': {'location': 'Lyon', 'salle': 'Halle Tony Garnier (Htg)', 'price': 528.0}, '2023-03-17T20:00:00': {'location': 'Dijon', 'salle': 'Zenith De Dijon', 'price': 528.0}, '2023-03-20T20:00:00': {'location': 'Nantes', 'salle': 'Zenith De Nantes Metropole', 'price': 528.0}, '2023-03-21T20:00:00': {'location': 'Rouen', 'salle': 'Zenith De Rouen / Grand Quevilly', 'price': 538.0}, '2023-03-22T20:00:00': {'location': 'Bruxelles', 'salle': 'Forest National', 'price': 47.5}, '2023-03-25T20:00:00': {'location': 'Bordeaux', 'salle': 'Arkea Arena - Bordeaux', 'price': None}, '2023-03-28T20:00:00': {'location': 'Lille', 'salle': 'Zenith De Lille - Arena', 'price': None}, '2023-03-29T20:00:00': {'location': 'Paris', 'salle': 'Zenith De Paris La Villette', 'price': None}, '2023-03-31T20:00:00': {'location': 'Toulouse', 'salle': 'Zenith De Toulouse', 'price': 528.0}, '2023-07-23T20:30:00': {'location': 'Bayonne', 'salle': 'Arenes De Bayonne', 'price': 50.5}, '2023-07-30T20:30:00': {'location': 'Vienne', 'salle': 'Theatre Antique De Vienne', 'price': 58}, '2023-09-06T20:00:00': {'location': 'Lille', 'salle': 'Zenith De Lille - Arena', 'price': 528.0}, '2023-09-09T20:00:00': {'location': 'Paris', 'salle': 'Accorhotels Arena - Popb Bercy', 'price': 570.5}, '2022-11-05T19:20:00': {'location': 'Paris', 'salle': 'Cafe De La Danse', 'price': 570.5}, '2022-04-26T21:00:00': {'location': 'Paris', 'salle': 'Elysee Montmartre', 'price': 570.5}, '2022-04-26T19:00:00': {'location': 'Paris', 'salle': 'Elysee Montmartre', 'price': 570.5}, '2022-04-26T17:00:00': {'location': 'Paris', 'salle': 'Elysee Montmartre', 'price': 570.5}, '2022-04-26T15:00:00': {'location': 'Paris', 'salle': 'Elysee Montmartre', 'price': 570.5}, '2022-04-26T13:00:00': {'location': 'Paris', 'salle': 'Elysee Montmartre', 'price': 570.5}}, 'spotify_id': '4CAsSAU842glNKJX71ndA9', 'followers': {'13/01/2023': 408175, '19/01/2023': 409596, '20/01/2023': 409772}, 'popularity': 59}, {'_id': 'METALLICA', 'concerts': {'2023-05-19T00:00:00': {'location': 'Paris', 'salle': 'Stade De France (Saint Denis)', 'price': None}, '2023-05-17T00:00:00': {'location': 'Paris', 'salle': 'Stade De France (Saint Denis)', 'price': None}, '2023-05-17T18:00:00': {'location': 'Paris', 'salle': 'Stade De France (Saint Denis)', 'price': 473.0}, '2023-05-19T18:00:00': {'location': 'Paris', 'salle': 'Stade De France (Saint Denis)', 'price': 473.0}}, 'spotify_id': '2ye2Wgw4gimLv2eAKyk1NB', 'followers': {'13/01/2023': 23446408, '19/01/2023': 23504100, '20/01/2023': 23514159}, 'popularity': 83}, {'_id': '-M- (MATTHIEU CHEDID)', 'concerts': {'2023-03-17T20:00:00': {'location': 'Bordeaux', 'salle': 'Arkea Arena - Bordeaux', 'price': 53.5}, '2023-03-18T20:00:00': {'location': \"Isle d'Espagnac\", 'salle': 'Parc Des Expos Du Grand Angouleme (Espace Carat)', 'price': 53.5}, '2023-03-19T19:00:00': {'location': 'Poitiers', 'salle': 'Parc Du Futuroscope A Poitiers', 'price': 53.5}, '2023-03-23T20:00:00': {'location': 'Douai', 'salle': 'Gayant Expo', 'price': 53.5}, '2023-03-24T20:00:00': {'location': 'Epernay', 'salle': 'Parc Expositions Le Millesium De Epernay', 'price': 53.5}, '2023-03-25T20:00:00': {'location': 'Dijon', 'salle': 'Zenith De Dijon', 'price': 53.5}, '2023-03-29T20:00:00': {'location': 'Brest', 'salle': 'Brest Arena', 'price': 53.5}, '2023-03-30T20:00:00': {'location': 'Tours', 'salle': 'Parc Des Expositions De Tours (Grand Hall)', 'price': 53.5}, '2023-03-31T20:00:00': {'location': 'Longuenesse', 'salle': 'Sceneo A Saint Omer', 'price': 53.5}, '2023-04-01T20:00:00': {'location': 'Amneville', 'salle': 'Le Galaxie A Amneville', 'price': 53.5}, '2023-04-04T20:00:00': {'location': 'Amiens', 'salle': \"Zenith D'amiens\", 'price': 53.5}, '2023-04-05T20:00:00': {'location': 'Rouen', 'salle': 'Zenith De Rouen / Grand Quevilly', 'price': 53.5}, '2023-04-06T20:00:00': {'location': 'Nantes', 'salle': 'Zenith De Nantes Metropole', 'price': 53.5}, '2023-04-07T20:00:00': {'location': 'Rennes', 'salle': 'Musikhall - Parc Expo Rennes Aeroport', 'price': 53.5}, '2023-04-12T20:00:00': {'location': 'Chambery', 'salle': 'Le Phare A Chambery', 'price': 53.5}, '2023-04-13T20:00:00': {'location': 'Lyon', 'salle': 'Halle Tony Garnier (Htg)', 'price': 53.5}, '2023-04-14T20:00:00': {'location': 'Riorges', 'salle': 'Le Scarabee A Riorges (Roanne)', 'price': 53.5}, '2023-04-15T20:00:00': {'location': 'Aix En Provence', 'salle': \"Arena Du Pays D'aix\", 'price': 53.5}, '2023-04-19T20:00:00': {'location': 'Toulouse', 'salle': 'Zenith De Toulouse', 'price': 53.5}, '2023-04-20T20:00:00': {'location': 'Narbonne', 'salle': 'Narbonne Arena', 'price': 53.5}, '2023-04-21T20:00:00': {'location': 'Pau', 'salle': 'Zenith De Pau', 'price': 53.5}, '2023-05-10T20:00:00': {'location': 'Le Mans', 'salle': 'Antares Au Mans', 'price': 53.5}, '2023-05-11T20:00:00': {'location': 'Nantes', 'salle': 'Zenith De Nantes Metropole', 'price': 53.5}, '2023-05-12T20:00:00': {'location': 'Caen', 'salle': 'Zenith De Caen', 'price': 53.5}, '2023-05-13T20:00:00': {'location': 'Rennes', 'salle': 'Musikhall - Parc Expo Rennes Aeroport', 'price': 53.5}, '2023-05-17T20:00:00': {'location': 'Trelaze', 'salle': 'Arena Loire Trelaze (Angers)', 'price': 53.5}, '2023-05-22T20:00:00': {'location': 'Lille', 'salle': 'Zenith De Lille - Arena', 'price': 53.5}, '2023-05-23T20:00:00': {'location': 'Lille', 'salle': 'Zenith De Lille - Arena', 'price': 53.5}, '2023-05-25T20:00:00': {'location': 'Orleans', 'salle': \"Zenith D'orleans\", 'price': 53.5}, '2023-05-26T20:00:00': {'location': 'Limoges', 'salle': 'Zenith De Limoges', 'price': 53.5}, '2023-06-01T20:00:00': {'location': 'Paris', 'salle': 'Accorhotels Arena - Popb Bercy', 'price': 60.0}, '2023-06-02T20:00:00': {'location': 'Paris', 'salle': 'Accorhotels Arena - Popb Bercy', 'price': 60.0}, '2023-06-03T20:00:00': {'location': 'Paris', 'salle': 'Accorhotels Arena - Popb Bercy', 'price': 60.0}, '2023-07-18T21:00:00': {'location': 'Bayonne', 'salle': 'Arenes De Bayonne', 'price': 56.5}, '2023-07-20T20:30:00': {'location': 'Vienne', 'salle': 'Theatre Antique De Vienne', 'price': 55}, '2023-09-08T20:00:00': {'location': 'Lunel', 'salle': 'Arenes San Juan A Lunel', 'price': 47.0}, '2023-09-09T20:30:00': {'location': 'Orange', 'salle': \"Theatre Antique D'orange\", 'price': None}, '2022-12-23T20:00:00': {'location': 'Paris', 'salle': 'Zenith De Paris La Villette', 'price': None}, '2022-12-22T20:00:00': {'location': 'Paris', 'salle': 'Zenith De Paris La Villette', 'price': None}, '2022-12-21T20:00:00': {'location': 'Paris', 'salle': 'Zenith De Paris La Villette', 'price': None}, '2022-12-20T20:00:00': {'location': 'Paris', 'salle': 'Zenith De Paris La Villette', 'price': None}, '2022-12-16T20:00:00': {'location': 'Nice', 'salle': 'Palais Nikaia', 'price': None}, '2022-12-15T20:00:00': {'location': 'Toulon', 'salle': 'Zenith Omega A Toulon', 'price': None}, '2022-12-14T20:00:00': {'location': 'Montpellier', 'salle': 'Sud De France Arena Montpellier', 'price': None}, '2022-12-13T20:00:00': {'location': 'Grenoble', 'salle': 'Palais Des Sports De Grenoble', 'price': None}, '2022-12-10T20:00:00': {'location': 'Aix En Provence', 'salle': \"Arena Du Pays D'aix\", 'price': None}, '2022-12-08T00:00:00': {'location': 'Geneve', 'salle': 'Geneva Arena', 'price': None}, '2022-12-07T20:00:00': {'location': 'Montbeliard', 'salle': \"L'axone A Montbeliard\", 'price': None}, '2022-12-06T20:00:00': {'location': 'Eckbolsheim', 'salle': 'Zenith Europe De Strasbourg', 'price': None}, '2022-12-01T20:00:00': {'location': 'Pau', 'salle': 'Zenith De Pau', 'price': None}, '2022-11-29T20:00:00': {'location': 'Toulouse', 'salle': 'Zenith De Toulouse', 'price': None}, '2022-11-26T20:00:00': {'location': 'Bourg En Bresse', 'salle': 'Ekinox / Ainterexpo / Parc Expo Bourg En Bresse', 'price': None}, '2022-11-25T20:00:00': {'location': 'Lyon', 'salle': 'Halle Tony Garnier (Htg)', 'price': None}, '2022-11-24T20:00:00': {'location': 'Reims', 'salle': 'Reims Arena', 'price': None}, '2022-11-23T20:00:00': {'location': 'Caen', 'salle': 'Zenith De Caen', 'price': None}, '2022-11-18T20:00:00': {'location': 'Trelaze', 'salle': 'Arena Loire Trelaze (Angers)', 'price': None}, '2022-11-17T20:00:00': {'location': 'Perigueux', 'salle': 'Le Palio A Boulazac (Perigueux)', 'price': None}, '2022-11-15T20:00:00': {'location': 'Bordeaux', 'salle': 'Arkea Arena - Bordeaux', 'price': None}, '2022-11-10T20:00:00': {'location': 'Le Mans', 'salle': 'Antares Au Mans', 'price': None}, '2022-11-09T20:00:00': {'location': 'Chasseneuil du Poitou', 'salle': 'Palais Des Congres / Le Futuroscope De Poitiers (Jaunay)', 'price': None}, '2022-11-08T20:00:00': {'location': 'Cournon', 'salle': \"Zenith D'auvergne\", 'price': None}, '2022-10-21T20:00:00': {'location': 'Rennes', 'salle': 'Musikhall - Parc Expo Rennes Aeroport', 'price': None}, '2022-10-19T20:00:00': {'location': 'Nantes', 'salle': 'Zenith De Nantes Metropole', 'price': None}, '2022-10-14T20:00:00': {'location': 'Bruxelles', 'salle': 'Forest National', 'price': None}, '2022-10-13T20:00:00': {'location': 'Esch sur Alzette', 'salle': 'Rockhal', 'price': None}, '2022-10-12T20:00:00': {'location': 'Maxeville', 'salle': 'Zenith De Nancy', 'price': None}, '2022-10-09T19:00:00': {'location': 'Rouen', 'salle': 'Zenith De Rouen / Grand Quevilly', 'price': None}, '2022-10-08T20:00:00': {'location': 'Orleans', 'salle': \"Zenith D'orleans\", 'price': None}, '2022-10-07T20:00:00': {'location': 'Dijon', 'salle': 'Zenith De Dijon', 'price': None}, '2022-10-06T20:00:00': {'location': 'Saint Etienne', 'salle': 'Zenith De Saint Etienne', 'price': None}, '2022-10-02T19:00:00': {'location': 'Lille', 'salle': 'Zenith De Lille - Arena', 'price': None}, '2022-10-01T20:00:00': {'location': 'Lille', 'salle': 'Zenith De Lille - Arena', 'price': None}, '2022-09-30T20:00:00': {'location': 'Amiens', 'salle': \"Zenith D'amiens\", 'price': None}, '2022-09-16T20:00:00': {'location': 'Tourcoing', 'salle': 'Plein Air A Tourcoing', 'price': None}, '2022-06-10T20:00:00': {'location': 'Paris', 'salle': 'Maison De Radio France / Studio 104', 'price': None}, '2022-05-22T19:00:00': {'location': 'Paris', 'salle': 'Theatre Des Folies Bergere', 'price': None}, '2022-05-21T20:00:00': {'location': 'Paris', 'salle': 'Theatre Des Folies Bergere', 'price': None}, '2022-05-20T20:00:00': {'location': 'Paris', 'salle': 'Theatre Des Folies Bergere', 'price': None}, '2022-05-18T20:00:00': {'location': 'Paris', 'salle': 'Theatre Des Folies Bergere', 'price': None}, '2022-05-17T20:00:00': {'location': 'Paris', 'salle': 'Theatre Des Folies Bergere', 'price': None}, '2022-05-16T20:00:00': {'location': 'Paris', 'salle': 'Theatre Des Folies Bergere', 'price': None}, '2022-05-14T21:00:00': {'location': 'Paris', 'salle': 'Stade De France (Saint Denis)', 'price': None}, '2022-05-12T20:00:00': {'location': 'Paris', 'salle': 'Theatre Des Folies Bergere', 'price': None}, '2022-05-11T20:00:00': {'location': 'Paris', 'salle': 'Theatre Des Folies Bergere', 'price': None}, '2022-05-10T20:00:00': {'location': 'Paris', 'salle': 'Theatre Des Folies Bergere', 'price': None}, '2022-05-07T20:00:00': {'location': 'Paris', 'salle': 'Theatre Des Folies Bergere', 'price': None}, '2022-05-06T20:00:00': {'location': 'Paris', 'salle': 'Theatre Des Folies Bergere', 'price': None}, '2022-05-05T20:00:00': {'location': 'Paris', 'salle': 'Theatre Des Folies Bergere', 'price': None}, '2022-05-04T20:00:00': {'location': 'Paris', 'salle': 'Theatre Des Folies Bergere', 'price': None}, '2022-04-30T20:00:00': {'location': 'Ramonville', 'salle': 'Le Bikini', 'price': None}, '2022-04-29T20:30:00': {'location': 'Cenon', 'salle': 'Le Rocher De Palmer A Cenon', 'price': None}, '2022-04-28T20:00:00': {'location': 'La Rochelle', 'salle': 'La Sirene A La Rochelle', 'price': None}, '2022-04-27T20:00:00': {'location': 'Angers', 'salle': 'Le Chabada', 'price': None}, '2022-04-22T20:00:00': {'location': 'Istres', 'salle': \"L'usine D'istres\", 'price': None}, '2022-04-21T20:30:00': {'location': 'Saint Etienne', 'salle': 'Le Fil A Saint Etienne', 'price': None}, '2022-04-15T20:00:00': {'location': 'Rouen', 'salle': 'Le 106 A Rouen', 'price': None}, '2022-04-14T20:00:00': {'location': 'Lille', 'salle': 'Aeronef', 'price': None}, '2022-04-10T00:00:00': {'location': 'Lausanne', 'salle': 'Metropole A Lausanne', 'price': None}, '2022-04-09T20:00:00': {'location': 'Clermont Ferrand', 'salle': 'La Cooperative De Mai', 'price': None}, '2022-04-08T20:00:00': {'location': 'Clermont Ferrand', 'salle': 'La Cooperative De Mai', 'price': None}}}, {'_id': \"NEJ'\", 'concerts': {'2022-01-22T20:00:00': {'location': 'Paris', 'salle': 'La Cigale A Paris', 'price': None}, '2023-05-13T20:30:00': {'location': 'Villiers Le Bel', 'salle': 'Espace Marcel Pagnol De Villiers Le Bel', 'price': None}, '2022-12-19T20:00:00': {'location': 'Paris', 'salle': \"L'olympia\", 'price': None}, '2022-12-18T20:00:00': {'location': 'Paris', 'salle': \"L'olympia\", 'price': None}, '2022-12-10T20:00:00': {'location': 'Montpellier', 'salle': 'Le Rockstore', 'price': None}, '2022-12-09T20:00:00': {'location': 'Lyon', 'salle': 'Ninkasi Gerland / Kao', 'price': None}, '2022-12-02T20:30:00': {'location': 'Rennes', 'salle': \"L'antipode A Rennes (Mjc Cleunay)\", 'price': None}, '2022-12-01T20:00:00': {'location': 'Nantes', 'salle': 'Warehouse A Nantes', 'price': None}, '2022-11-25T20:30:00': {'location': 'Bordeaux', 'salle': 'Rock School Barbey', 'price': None}, '2022-11-18T20:00:00': {'location': 'Lille', 'salle': 'Splendid De Lille', 'price': None}, '2022-11-05T19:30:00': {'location': 'Strasbourg', 'salle': 'La Laiterie', 'price': None}, '2022-11-04T20:00:00': {'location': 'Bruxelles', 'salle': 'Salle De La Madeleine A Bruxelles', 'price': None}, '2022-10-27T20:30:00': {'location': 'Marseille', 'salle': 'Le Moulin A Marseille', 'price': None}, '2022-10-26T20:30:00': {'location': 'Toulouse', 'salle': 'Metronum (La Music Box) A Toulouse', 'price': None}, '2022-09-10T20:00:00': {'location': 'Montbeliard', 'salle': \"L'axone A Montbeliard\", 'price': None}, '2022-05-31T20:00:00': {'location': 'Paris', 'salle': 'La Cigale A Paris', 'price': None}, '2022-05-30T20:00:00': {'location': 'Paris', 'salle': 'La Cigale A Paris', 'price': None}, '2022-01-25T20:00:00': {'location': 'Paris', 'salle': 'La Cigale A Paris', 'price': None}}, 'spotify_id': '2OHKEe204spO7G7NcbeO2o', 'followers': {'13/01/2023': 3553506, '19/01/2023': 3567023, '20/01/2023': 3569283}, 'popularity': 70}, {'_id': 'STROMAE', 'concerts': {'2022-02-22T20:30:00': {'location': 'Bruxelles', 'salle': 'Palais 12 A Bruxelles', 'price': 72.5}, '2023-03-04T20:00:00': {'location': 'Bordeaux', 'salle': 'Arkea Arena - Bordeaux', 'price': None}, '2023-03-05T20:00:00': {'location': 'Bordeaux', 'salle': 'Arkea Arena - Bordeaux', 'price': None}, '2023-03-09T20:00:00': {'location': 'Marseille', 'salle': 'Le Dome De Marseille', 'price': None}, '2023-03-10T20:00:00': {'location': 'Marseille', 'salle': 'Le Dome De Marseille', 'price': None}, '2023-03-15T20:00:00': {'location': 'Bruxelles', 'salle': 'Palais 12 A Bruxelles', 'price': None}, '2023-03-16T20:00:00': {'location': 'Bruxelles', 'salle': 'Palais 12 A Bruxelles', 'price': None}, '2023-03-17T20:00:00': {'location': 'Bruxelles', 'salle': 'Palais 12 A Bruxelles', 'price': None}, '2023-03-22T20:00:00': {'location': 'Eckbolsheim', 'salle': 'Zenith Europe De Strasbourg', 'price': None}, '2023-03-23T20:00:00': {'location': 'Amneville', 'salle': 'Le Galaxie A Amneville', 'price': 64.0}, '2023-03-24T20:00:00': {'location': 'Amneville', 'salle': 'Le Galaxie A Amneville', 'price': None}, '2023-03-29T20:00:00': {'location': 'Nantes', 'salle': 'Zenith De Nantes Metropole', 'price': None}, '2023-03-30T20:00:00': {'location': 'Nantes', 'salle': 'Zenith De Nantes Metropole', 'price': None}, '2023-03-31T20:00:00': {'location': 'Nantes', 'salle': 'Zenith De Nantes Metropole', 'price': None}, '2023-04-20T20:00:00': {'location': 'Toulouse', 'salle': 'Zenith De Toulouse', 'price': None}, '2023-04-21T20:00:00': {'location': 'Toulouse', 'salle': 'Zenith De Toulouse', 'price': None}, '2023-04-26T20:00:00': {'location': 'Bale (Basel)', 'salle': 'St Jakobshalle A Bale', 'price': None}, '2023-04-27T20:00:00': {'location': 'Geneve', 'salle': 'Geneva Arena', 'price': None}, '2023-04-28T20:00:00': {'location': 'Geneve', 'salle': 'Geneva Arena', 'price': None}, '2023-05-24T20:00:00': {'location': 'Lyon', 'salle': 'Halle Tony Garnier (Htg)', 'price': None}, '2023-05-25T20:00:00': {'location': 'Lyon', 'salle': 'Halle Tony Garnier (Htg)', 'price': None}, '2023-05-26T20:00:00': {'location': 'Lyon', 'salle': 'Halle Tony Garnier (Htg)', 'price': None}, '2023-06-01T20:00:00': {'location': 'Bruxelles', 'salle': 'Palais 12 A Bruxelles', 'price': None}, '2023-06-02T20:00:00': {'location': 'Bruxelles', 'salle': 'Palais 12 A Bruxelles', 'price': None}, '2023-06-03T20:00:00': {'location': 'Bruxelles', 'salle': 'Palais 12 A Bruxelles', 'price': None}, '2023-06-10T20:00:00': {'location': 'Lille', 'salle': 'Stade Pierre Mauroy A Lille', 'price': None}, '2023-06-11T20:00:00': {'location': 'Lille', 'salle': 'Stade Pierre Mauroy A Lille', 'price': None}, '2023-06-16T20:00:00': {'location': 'Nanterre', 'salle': 'Paris La Defense Arena', 'price': None}, '2023-06-17T20:00:00': {'location': 'Nanterre', 'salle': 'Paris La Defense Arena', 'price': None}, '2023-09-21T20:00:00': {'location': 'Montpellier', 'salle': 'Sud De France Arena Montpellier', 'price': 74.0}, '2023-09-27T20:00:00': {'location': 'Cournon', 'salle': \"Zenith D'auvergne\", 'price': 74.0}, '2023-09-28T20:00:00': {'location': 'Cournon', 'salle': \"Zenith D'auvergne\", 'price': 74.0}, '2023-10-03T20:00:00': {'location': 'Nantes', 'salle': 'Zenith De Nantes Metropole', 'price': 65.5}, '2023-10-04T20:00:00': {'location': 'Nantes', 'salle': 'Zenith De Nantes Metropole', 'price': None}, '2023-10-13T20:00:00': {'location': 'Lille', 'salle': 'Stade Pierre Mauroy A Lille', 'price': None}, '2023-10-14T20:00:00': {'location': 'Lille', 'salle': 'Stade Pierre Mauroy A Lille', 'price': 99.0}, '2023-10-18T20:00:00': {'location': 'Toulouse', 'salle': 'Zenith De Toulouse', 'price': 74.0}, '2023-10-19T20:00:00': {'location': 'Toulouse', 'salle': 'Zenith De Toulouse', 'price': 74.0}, '2023-10-26T20:00:00': {'location': 'Lyon', 'salle': 'Halle Tony Garnier (Htg)', 'price': 64.0}, '2023-11-09T20:00:00': {'location': 'Eckbolsheim', 'salle': 'Zenith Europe De Strasbourg', 'price': 74.0}, '2023-11-15T20:00:00': {'location': 'Bordeaux', 'salle': 'Arkea Arena - Bordeaux', 'price': 74.0}, '2023-11-16T20:00:00': {'location': 'Bordeaux', 'salle': 'Arkea Arena - Bordeaux', 'price': 74.0}, '2023-12-02T20:00:00': {'location': 'Nanterre', 'salle': 'Paris La Defense Arena', 'price': None}, '2023-12-03T19:00:00': {'location': 'Nanterre', 'salle': 'Paris La Defense Arena', 'price': 99.0}, '2023-12-08T20:00:00': {'location': 'Bruxelles', 'salle': 'Palais 12 A Bruxelles', 'price': 64.5}, '2023-12-09T20:00:00': {'location': 'Bruxelles', 'salle': 'Palais 12 A Bruxelles', 'price': 72.5}, '2022-02-27T00:00:00': {'location': 'Amsterdam', 'salle': 'Afas Live Amsterdam', 'price': 72.5}, '2022-02-24T00:00:00': {'location': 'Paris', 'salle': 'Accorhotels Arena - Popb Bercy', 'price': 72.5}}, 'spotify_id': '5j4HeCoUlzhfWtjAfM1acR', 'followers': {'13/01/2023': 2804105, '19/01/2023': 2815212, '20/01/2023': 2816855}, 'popularity': 75}, {'_id': 'RED HOT CHILI PEPPERS', 'concerts': {'2022-07-08T18:30:00': {'location': 'Paris', 'salle': 'Stade De France (Saint Denis)', 'price': 652.0}, '2023-07-11T20:00:00': {'location': 'Decines', 'salle': 'Groupama Stadium Lyon', 'price': 652.0}, '2022-07-09T18:30:00': {'location': 'Paris', 'salle': 'Stade De France (Saint Denis)', 'price': 652.0}}, 'spotify_id': '0L8ExT028jH3ddEcZwqJJ5', 'followers': {'13/01/2023': 18991766, '19/01/2023': 19024390, '20/01/2023': 19029693}, 'popularity': 83}, {'_id': 'JULIETTE ARMANET', 'concerts': {'2022-01-20T18:00:00': {'location': 'Paris', 'salle': 'Fnac Des Ternes', 'price': None}, '2023-02-25T20:00:00': {'location': 'Grenoble', 'salle': 'Summum', 'price': 45.5}, '2023-03-03T20:00:00': {'location': 'Annecy', 'salle': 'Arcadium A Annecy', 'price': None}, '2023-03-08T20:00:00': {'location': 'Dijon', 'salle': 'Zenith De Dijon', 'price': 45.5}, '2023-03-10T20:00:00': {'location': 'Caen', 'salle': 'Zenith De Caen', 'price': 45.5}, '2023-03-15T20:00:00': {'location': 'Maxeville', 'salle': 'Zenith De Nancy', 'price': 265.5}, '2023-03-17T20:00:00': {'location': 'Paris', 'salle': 'Accorhotels Arena - Popb Bercy', 'price': None}, '2022-12-01T20:00:00': {'location': 'Toulouse', 'salle': 'Zenith De Toulouse', 'price': None}, '2022-11-29T20:00:00': {'location': 'Paris', 'salle': 'Zenith De Paris La Villette', 'price': None}, '2022-11-26T20:00:00': {'location': 'Bordeaux', 'salle': 'Arkea Arena - Bordeaux', 'price': None}, '2022-11-23T20:00:00': {'location': 'Paris', 'salle': 'Zenith De Paris La Villette', 'price': None}, '2022-11-18T20:00:00': {'location': 'Lille', 'salle': 'Zenith De Lille - Arena', 'price': None}, '2022-11-17T20:00:00': {'location': 'Nantes', 'salle': 'Zenith De Nantes Metropole', 'price': None}, '2022-10-15T20:30:00': {'location': 'Monaco', 'salle': 'Grimaldi Forum Monaco', 'price': None}, '2022-10-01T20:00:00': {'location': 'Vichy', 'salle': 'Opera De Vichy', 'price': None}, '2022-09-29T20:30:00': {'location': 'Cenon', 'salle': 'Le Rocher De Palmer A Cenon', 'price': None}, '2022-09-06T00:00:00': {'location': 'Le Mans', 'salle': 'Parking Des Quinconces Au Mans', 'price': None}, '2022-06-07T20:00:00': {'location': 'Ramonville', 'salle': 'Le Bikini', 'price': None}, '2022-04-15T20:00:00': {'location': 'Grenoble', 'salle': 'La Belle Electrique A Grenoble', 'price': None}, '2022-04-14T00:00:00': {'location': 'Lausanne', 'salle': 'Les Docks A Lausanne', 'price': None}, '2022-04-07T20:00:00': {'location': 'Nimes', 'salle': 'Paloma', 'price': None}, '2022-04-06T20:00:00': {'location': 'Strasbourg', 'salle': 'La Laiterie', 'price': None}, '2022-04-02T20:30:00': {'location': 'Aix En Provence', 'salle': \"6mic (Salle Des Musiques Actuelles Du Pays D'aix)\", 'price': None}, '2022-03-31T20:30:00': {'location': 'Nancy', 'salle': \"L'autre Canal\", 'price': None}, '2022-03-30T20:30:00': {'location': 'Clermont Ferrand', 'salle': 'La Cooperative De Mai', 'price': None}, '2022-03-29T20:00:00': {'location': 'Caluire Et Cuire', 'salle': 'Radiant Bellevue A Caluire', 'price': None}, '2022-03-26T19:00:00': {'location': 'Ramonville', 'salle': 'Le Bikini', 'price': None}, '2022-03-22T00:00:00': {'location': 'Antibes', 'salle': \"Anthea / Antipolis Theatre D'antibes\", 'price': None}, '2022-03-20T18:30:00': {'location': 'Nantes', 'salle': 'Stereolux A Nantes', 'price': None}, '2022-03-19T19:30:00': {'location': 'Sin Le Noble', 'salle': 'Salle Henri Martel A Sin Le Noble', 'price': None}, '2022-03-19T00:00:00': {'location': 'Douai', 'salle': 'Tandem Scene Nationale / Hippodrome De Douai', 'price': None}, '2022-03-18T21:00:00': {'location': 'Rennes', 'salle': 'Le Mem A Rennes', 'price': None}, '2022-03-11T20:00:00': {'location': 'Paris', 'salle': \"L'olympia\", 'price': None}, '2022-03-10T20:00:00': {'location': 'Paris', 'salle': \"L'olympia\", 'price': None}, '2022-03-05T20:30:00': {'location': 'Metz', 'salle': 'La Boite A Musique (Bam) A Metz', 'price': None}, '2022-03-04T20:00:00': {'location': 'Chenove', 'salle': 'Le Cedre A Chenove', 'price': None}, '2022-02-26T00:00:00': {'location': 'Lille', 'salle': 'Aeronef', 'price': None}, '2022-02-25T19:30:00': {'location': 'Rouen', 'salle': 'Le 106 A Rouen', 'price': None}, '2022-02-17T20:00:00': {'location': 'Paris', 'salle': \"L'olympia\", 'price': None}, '2022-02-16T20:00:00': {'location': 'Paris', 'salle': \"L'olympia\", 'price': None}, '2022-02-04T20:00:00': {'location': 'Nantes', 'salle': 'Stereolux A Nantes', 'price': None}, '2022-02-03T00:00:00': {'location': 'Poitiers', 'salle': 'Tap Bar A Poitiers', 'price': None}, '2022-02-02T00:00:00': {'location': 'Cenon', 'salle': 'Le Rocher De Palmer A Cenon', 'price': None}, '2022-01-29T20:30:00': {'location': 'Aix En Provence', 'salle': \"6mic (Salle Des Musiques Actuelles Du Pays D'aix)\", 'price': None}, '2022-01-28T20:00:00': {'location': 'Grenoble', 'salle': 'La Belle Electrique A Grenoble', 'price': None}, '2022-01-27T00:00:00': {'location': 'Lausanne', 'salle': 'Les Docks A Lausanne', 'price': None}, '2022-01-26T20:00:00': {'location': 'Strasbourg', 'salle': 'La Laiterie', 'price': None}, '2022-01-22T20:00:00': {'location': 'Nimes', 'salle': 'Paloma', 'price': None}}, 'spotify_id': '61CPKXT0bcKj8MKTNTMOXa', 'followers': {'13/01/2023': 224426, '19/01/2023': 225806, '20/01/2023': 225995}, 'popularity': 60}, {'_id': 'DEPECHE MODE', 'concerts': {'2023-07-04T20:00:00': {'location': 'Bordeaux', 'salle': 'Stade Matmut Atlantique A Bordeaux', 'price': 895.0}, '2023-05-20T18:30:00': {'location': 'Anvers', 'salle': \"Palais Des Sports D'anvers / Antwerps Sportpaleis\", 'price': None}, '2023-05-31T20:00:00': {'location': 'Decines', 'salle': 'Groupama Stadium Lyon', 'price': None}, '2023-06-17T19:00:00': {'location': 'Londres', 'salle': 'Twickenham Stadium Londres', 'price': None}, '2023-06-22T20:00:00': {'location': 'Lille', 'salle': 'Stade Pierre Mauroy A Lille', 'price': None}, '2023-06-24T20:00:00': {'location': 'Paris', 'salle': 'Stade De France (Saint Denis)', 'price': None}}, 'spotify_id': '762310PdDnwsDxAQxzQkfX', 'followers': {'13/01/2023': 4987460, '19/01/2023': 5010922, '20/01/2023': 5014775}, 'popularity': 75}, {'_id': 'LOMEPAL', 'concerts': {'2022-07-07T20:00:00': {'location': 'Vaison La Romaine', 'salle': 'Theatre Antique De Vaison La Romaine', 'price': 53.0}, '2023-02-10T20:00:00': {'location': 'Amiens', 'salle': \"Zenith D'amiens\", 'price': None}, '2023-02-23T00:00:00': {'location': 'Bruxelles', 'salle': 'Palais 12 A Bruxelles', 'price': None}, '2023-02-24T20:00:00': {'location': 'Esch sur Alzette', 'salle': 'Rockhal', 'price': None}, '2023-02-25T00:00:00': {'location': 'Geneve', 'salle': 'Geneva Arena', 'price': None}, '2023-02-28T20:00:00': {'location': 'Nantes', 'salle': 'Zenith De Nantes Metropole', 'price': None}, '2023-03-01T20:00:00': {'location': 'Nantes', 'salle': 'Zenith De Nantes Metropole', 'price': None}, '2023-03-02T20:00:00': {'location': 'Reims', 'salle': 'Reims Arena', 'price': None}, '2023-03-03T20:00:00': {'location': 'Caen', 'salle': 'Zenith De Caen', 'price': None}, '2023-03-09T20:00:00': {'location': 'Bordeaux', 'salle': 'Arkea Arena - Bordeaux', 'price': None}, '2023-03-10T20:00:00': {'location': 'Trelaze', 'salle': 'Arena Loire Trelaze (Angers)', 'price': None}, '2023-03-16T20:00:00': {'location': 'Toulouse', 'salle': 'Zenith De Toulouse', 'price': None}, '2023-03-17T20:00:00': {'location': 'Marseille', 'salle': 'Le Dome De Marseille', 'price': None}, '2023-03-18T20:00:00': {'location': 'Nice', 'salle': 'Palais Nikaia', 'price': None}, '2023-03-20T20:00:00': {'location': 'Lyon', 'salle': 'Halle Tony Garnier (Htg)', 'price': None}, '2023-03-21T20:00:00': {'location': 'Lyon', 'salle': 'Halle Tony Garnier (Htg)', 'price': None}, '2023-03-22T20:00:00': {'location': 'Cournon', 'salle': \"Zenith D'auvergne\", 'price': None}, '2023-03-24T20:00:00': {'location': 'Maxeville', 'salle': 'Zenith De Nancy', 'price': None}, '2023-03-28T20:00:00': {'location': 'Paris', 'salle': 'Accorhotels Arena - Popb Bercy', 'price': None}, '2023-03-29T20:00:00': {'location': 'Paris', 'salle': 'Accorhotels Arena - Popb Bercy', 'price': None}, '2023-03-30T20:00:00': {'location': 'Paris', 'salle': 'Accorhotels Arena - Popb Bercy', 'price': None}, '2023-04-04T20:00:00': {'location': 'Rennes', 'salle': 'Le Liberte A Rennes', 'price': None}, '2023-04-05T20:00:00': {'location': 'Dijon', 'salle': 'Zenith De Dijon', 'price': None}, '2023-04-06T20:00:00': {'location': 'Montpellier', 'salle': 'Zenith Sud De Montpellier', 'price': None}, '2023-04-12T20:00:00': {'location': 'Lille', 'salle': 'Zenith De Lille - Arena', 'price': None}, '2023-04-13T20:00:00': {'location': 'Lille', 'salle': 'Zenith De Lille - Arena', 'price': None}, '2023-04-14T20:00:00': {'location': 'Eckbolsheim', 'salle': 'Zenith Europe De Strasbourg', 'price': None}, '2023-11-08T20:00:00': {'location': 'Lille', 'salle': 'Zenith De Lille - Arena', 'price': None}, '2023-11-09T20:00:00': {'location': 'Rouen', 'salle': 'Zenith De Rouen / Grand Quevilly', 'price': 41.5}, '2023-11-11T20:00:00': {'location': 'Amneville', 'salle': 'Le Galaxie A Amneville', 'price': 44.0}, '2023-11-12T19:00:00': {'location': 'Lyon', 'salle': 'Halle Tony Garnier (Htg)', 'price': 44.0}, '2023-11-14T20:00:00': {'location': 'Rennes', 'salle': 'Musikhall - Parc Expo Rennes Aeroport', 'price': None}, '2023-11-15T20:00:00': {'location': 'Orleans', 'salle': \"Zenith D'orleans\", 'price': 44.0}, '2023-11-16T20:00:00': {'location': 'Toulouse', 'salle': 'Zenith De Toulouse', 'price': 44.0}, '2023-11-19T19:00:00': {'location': 'Grenoble', 'salle': 'Palais Des Sports De Grenoble', 'price': 44.0}, '2023-11-21T20:00:00': {'location': 'Bordeaux', 'salle': 'Arkea Arena - Bordeaux', 'price': 44.0}, '2023-11-24T00:00:00': {'location': 'Geneve', 'salle': 'Geneva Arena', 'price': None}, '2023-12-05T20:00:00': {'location': 'Paris', 'salle': 'Accorhotels Arena - Popb Bercy', 'price': 53.0}, '2022-07-30T20:00:00': {'location': 'Vienne', 'salle': 'Theatre Antique De Vienne', 'price': 53.0}, '2022-07-23T20:00:00': {'location': 'Arles', 'salle': \"Theatre Antique D'arles\", 'price': 53.0}, '2022-07-21T20:30:00': {'location': 'Bayonne', 'salle': 'Arenes De Bayonne', 'price': 53.0}, '2022-07-12T19:30:00': {'location': 'Sete', 'salle': 'Theatre De La Mer A Sete', 'price': 53.0}, '2022-07-08T20:00:00': {'location': 'Gemenos', 'salle': 'Theatre De Verdure De Gemenos', 'price': 53.0}}, 'spotify_id': '1Yfe3ONJlioHys7jwHdfVm', 'followers': {'13/01/2023': 1726109, '19/01/2023': 1733388, '20/01/2023': 1734602}, 'popularity': 73}, {'_id': 'BEN MAZUE', 'concerts': {'2022-01-06T00:00:00': {'location': 'Elancourt', 'salle': 'Le Prisme A Elancourt', 'price': None}, '2023-03-10T20:00:00': {'location': 'Paris', 'salle': 'Salle Pleyel', 'price': None}, '2023-03-11T20:00:00': {'location': 'Paris', 'salle': 'Salle Pleyel', 'price': None}, '2023-03-12T20:00:00': {'location': 'Paris', 'salle': 'Salle Pleyel', 'price': None}, '2022-12-03T22:00:00': {'location': 'Saint Gilles les Bains', 'salle': 'Teat Plein Air', 'price': None}, '2022-12-03T19:00:00': {'location': 'Le Port', 'salle': 'Le Kabardock', 'price': None}, '2022-09-30T20:00:00': {'location': 'Paris', 'salle': 'Salle Pleyel', 'price': None}, '2022-09-29T20:00:00': {'location': 'Paris', 'salle': 'Salle Pleyel', 'price': None}, '2022-08-06T21:00:00': {'location': 'Nice', 'salle': 'Theatre De Verdure De Nice', 'price': None}, '2022-07-13T19:00:00': {'location': 'Beziers', 'salle': 'Scene De Bayssan - Amphitheatre Claude Nougaro', 'price': None}, '2022-06-17T20:00:00': {'location': 'Nimes', 'salle': 'Paloma', 'price': None}, '2022-05-15T18:00:00': {'location': 'Nancy', 'salle': 'Salle Poirel', 'price': None}, '2022-05-13T20:00:00': {'location': 'Thionville', 'salle': 'Theatre De Thionville', 'price': None}, '2022-05-12T20:30:00': {'location': 'Elancourt', 'salle': 'Le Prisme A Elancourt', 'price': None}, '2022-05-11T20:00:00': {'location': 'Sausheim', 'salle': 'Espace Dollfus Et Noack (Ed&N / Eden) A Sausheim', 'price': None}, '2022-04-13T19:30:00': {'location': 'Lyon', 'salle': 'Cite Internationale (Amphitheatre/Salle 3000/Auditorium Lumiere) A Lyon', 'price': None}, '2022-04-08T19:40:00': {'location': 'Paris', 'salle': 'Zenith De Paris La Villette', 'price': None}, '2022-04-05T20:00:00': {'location': 'Nantes', 'salle': 'Zenith De Nantes Metropole', 'price': None}, '2022-04-04T20:00:00': {'location': 'Rouen', 'salle': 'Zenith De Rouen / Grand Quevilly', 'price': None}, '2022-03-30T20:00:00': {'location': 'Lille', 'salle': 'Zenith De Lille - Arena', 'price': None}, '2022-03-23T20:00:00': {'location': 'Rennes', 'salle': 'Le Liberte A Rennes', 'price': None}, '2022-03-02T20:00:00': {'location': 'Nimes', 'salle': 'Paloma', 'price': None}, '2022-02-17T20:30:00': {'location': 'Juvisy sur Orge', 'salle': 'Espace Jean Lurcat A Juvisy', 'price': None}, '2022-02-16T20:30:00': {'location': 'Clermont Ferrand', 'salle': 'Maison De La Culture A Clermont Ferrand', 'price': None}, '2022-02-05T20:00:00': {'location': 'Strasbourg', 'salle': 'Pmc - Salle Erasme / Palais De La Musique Et Des Congres A Strasbourg', 'price': None}, '2022-02-01T20:00:00': {'location': 'Mons', 'salle': 'Theatre Royal De Mons', 'price': None}, '2022-01-23T20:00:00': {'location': 'Chenove', 'salle': 'Le Cedre A Chenove', 'price': None}, '2022-01-22T20:30:00': {'location': 'Saint Chamond', 'salle': 'Salle Aristide Briand A Saint Chamond', 'price': None}, '2022-01-21T20:30:00': {'location': 'Vittel', 'salle': 'Palais Des Congres De Vittel', 'price': None}, '2022-01-19T20:30:00': {'location': 'Perpignan', 'salle': 'Palais Des Congres De Perpignan (Satellite)', 'price': None}, '2022-01-09T18:00:00': {'location': 'Nancy', 'salle': 'Salle Poirel', 'price': None}, '2022-01-08T20:00:00': {'location': 'Thionville', 'salle': 'Theatre De Thionville', 'price': None}, '2022-01-07T20:00:00': {'location': 'Sausheim', 'salle': 'Espace Dollfus Et Noack (Ed&N / Eden) A Sausheim', 'price': None}}, 'spotify_id': '73BDzWqbf1grbgQ8xYn2ou', 'followers': {'13/01/2023': 180212, '19/01/2023': 180729, '20/01/2023': 180798}, 'popularity': 61}, {'_id': 'ONE NIGHT OF QUEEN', 'concerts': {'2023-01-13T20:00:00': {'location': 'Chambery', 'salle': 'Le Phare A Chambery', 'price': 55.0}, '2023-01-14T20:00:00': {'location': 'Besancon', 'salle': 'Micropolis A Besancon', 'price': 55.0}, '2023-01-15T17:00:00': {'location': 'Lyon', 'salle': 'Cite Internationale (Amphitheatre/Salle 3000/Auditorium Lumiere) A Lyon', 'price': 55.0}, '2023-01-17T20:30:00': {'location': 'Riorges', 'salle': 'Le Scarabee A Riorges (Roanne)', 'price': 55.0}, '2023-01-19T20:30:00': {'location': 'Saint Etienne', 'salle': 'Zenith De Saint Etienne', 'price': 55.0}, '2023-01-21T20:30:00': {'location': 'Nice', 'salle': 'Palais Nikaia', 'price': 55.0}, '2023-01-22T17:00:00': {'location': 'Marseille', 'salle': 'Le Dome De Marseille', 'price': 55.0}, '2023-01-23T20:00:00': {'location': 'Toulouse', 'salle': 'Zenith De Toulouse', 'price': 55.0}, '2023-01-25T20:00:00': {'location': 'Narbonne', 'salle': 'Narbonne Arena', 'price': 55.0}, '2023-01-29T17:00:00': {'location': 'Nantes', 'salle': 'Zenith De Nantes Metropole', 'price': 55.0}, '2023-01-30T20:00:00': {'location': 'Longuenesse', 'salle': 'Sceneo A Saint Omer', 'price': 55.0}, '2023-01-31T20:00:00': {'location': 'Rennes', 'salle': 'Le Liberte A Rennes', 'price': None}, '2023-07-06T20:00:00': {'location': 'Lille', 'salle': 'Zenith De Lille - Arena', 'price': 55.0}, '2023-07-08T20:00:00': {'location': 'Longuenesse', 'salle': 'Sceneo A Saint Omer', 'price': 55.0}, '2023-07-09T17:00:00': {'location': 'Beauvais', 'salle': 'Elispace', 'price': 55.0}, '2023-07-11T20:30:00': {'location': 'Le Havre', 'salle': \"Centre De Congres Et D'expositions Le Carre Des Docks Au Havre\", 'price': 53.0}, '2024-01-04T20:00:00': {'location': 'Troyes', 'salle': 'Le Cube Troyes Champagne Expo', 'price': 57.0}, '2024-01-06T20:30:00': {'location': 'Dijon', 'salle': 'Zenith De Dijon', 'price': 57.0}, '2024-01-09T20:00:00': {'location': 'Cournon', 'salle': \"Zenith D'auvergne\", 'price': 52.0}, '2024-01-13T20:30:00': {'location': 'Montpellier', 'salle': 'Zenith Sud De Montpellier', 'price': 57.0}, '2024-01-14T17:00:00': {'location': 'Lyon', 'salle': 'Cite Internationale (Amphitheatre/Salle 3000/Auditorium Lumiere) A Lyon', 'price': 57.0}, '2024-01-18T20:30:00': {'location': 'Rouen', 'salle': 'Zenith De Rouen / Grand Quevilly', 'price': 57.0}, '2024-01-19T20:30:00': {'location': 'Le Mans', 'salle': 'Antares Au Mans', 'price': 57.0}, '2024-01-21T17:00:00': {'location': 'Orleans', 'salle': \"Zenith D'orleans\", 'price': 57.0}, '2024-01-23T20:00:00': {'location': 'Rennes', 'salle': 'Le Liberte A Rennes', 'price': 57.0}, '2024-01-24T20:00:00': {'location': 'Nantes', 'salle': 'Zenith De Nantes Metropole', 'price': 57.0}, '2024-01-25T20:00:00': {'location': 'Tours', 'salle': 'Vinci Centre De Congres A Tours', 'price': 57.0}, '2024-01-27T20:00:00': {'location': 'Besancon', 'salle': 'Micropolis A Besancon', 'price': 57.0}, '2024-01-30T20:00:00': {'location': 'Grenoble', 'salle': 'Summum', 'price': 57.0}, '2024-01-31T20:00:00': {'location': 'Bourg En Bresse', 'salle': 'Ekinox / Ainterexpo / Parc Expo Bourg En Bresse', 'price': 57.0}, '2023-01-11T20:00:00': {'location': 'Eckbolsheim', 'salle': 'Zenith Europe De Strasbourg', 'price': 57.0}, '2023-01-10T20:00:00': {'location': 'Amneville', 'salle': 'Le Galaxie A Amneville', 'price': 57.0}, '2023-01-07T20:30:00': {'location': 'Grenoble', 'salle': 'Summum', 'price': 57.0}, '2023-01-06T20:00:00': {'location': 'Le Mans', 'salle': 'Antares Au Mans', 'price': 57.0}, '2023-01-05T20:00:00': {'location': 'Lille', 'salle': 'Zenith De Lille - Arena', 'price': 57.0}, '2023-01-03T20:00:00': {'location': 'Caen', 'salle': 'Zenith De Caen', 'price': 57.0}}}, {'_id': 'FLORENT PAGNY', 'concerts': {'2022-01-22T20:00:00': {'location': 'Epernay', 'salle': 'Parc Expositions Le Millesium De Epernay', 'price': 66.5}, '2023-07-21T21:00:00': {'location': 'Bayonne', 'salle': 'Arenes De Bayonne', 'price': 57.0}, '2023-07-29T20:30:00': {'location': 'Vienne', 'salle': 'Theatre Antique De Vienne', 'price': 66.5}, '2022-01-25T20:00:00': {'location': 'Tours', 'salle': 'Parc Des Expositions De Tours (Grand Hall)', 'price': 66.5}}, 'spotify_id': '0g7hZVprd3orBpMrSLWeJ9', 'followers': {'13/01/2023': 643918, '19/01/2023': 646172, '20/01/2023': 646468}, 'popularity': 55}, {'_id': 'LORENZO', 'concerts': {'2022-04-16T20:00:00': {'location': 'Paris', 'salle': 'Zenith De Paris La Villette', 'price': 36}, '2023-01-19T20:30:00': {'location': 'Saint Malo', 'salle': 'La Nouvelle Vague A Saint Malo', 'price': 36}, '2023-01-20T20:00:00': {'location': 'Biarritz', 'salle': 'Atabal A Biarritz', 'price': None}, '2023-01-21T20:30:00': {'location': 'Merignac', 'salle': 'Le Krakatoa', 'price': None}, '2023-01-26T20:00:00': {'location': 'Nimes', 'salle': 'Paloma', 'price': None}, '2023-01-27T19:30:00': {'location': 'Ramonville', 'salle': 'Le Bikini', 'price': None}, '2023-01-28T19:30:00': {'location': 'Marseille', 'salle': 'Le Moulin A Marseille', 'price': None}, '2023-01-31T20:00:00': {'location': 'Lille', 'salle': 'Zenith De Lille - Arena', 'price': None}, '2023-02-01T20:00:00': {'location': 'Paris', 'salle': 'Zenith De Paris La Villette', 'price': None}, '2023-02-08T20:00:00': {'location': 'Nantes', 'salle': 'Stereolux A Nantes', 'price': None}, '2023-02-09T20:00:00': {'location': 'Rennes', 'salle': 'Le Liberte A Rennes', 'price': None}, '2023-02-23T20:30:00': {'location': 'Saint Etienne', 'salle': 'Le Fil A Saint Etienne', 'price': None}, '2023-02-24T20:30:00': {'location': 'Clermont Ferrand', 'salle': 'La Cooperative De Mai', 'price': None}, '2023-02-25T20:30:00': {'location': 'Besancon', 'salle': 'La Rodia', 'price': None}, '2023-03-04T20:00:00': {'location': 'Caluire Et Cuire', 'salle': 'Radiant Bellevue A Caluire', 'price': None}, '2023-03-10T20:30:00': {'location': 'Esch sur Alzette', 'salle': 'Rockhal', 'price': 295}, '2023-03-11T21:00:00': {'location': 'Nancy', 'salle': \"L'autre Canal\", 'price': 28}, '2023-03-15T20:30:00': {'location': 'Limoges', 'salle': 'Ccm John Lennon De Limoges', 'price': None}, '2023-03-16T20:00:00': {'location': 'Le Havre', 'salle': 'Le Tetris / La Halle / Fort De Tourneville', 'price': None}, '2023-03-17T20:30:00': {'location': 'Caen', 'salle': 'Le Cargo A Caen', 'price': None}, '2023-03-18T20:30:00': {'location': 'Brest', 'salle': 'La Carene A Brest', 'price': None}, '2023-11-19T20:00:00': {'location': 'Paris', 'salle': 'Zenith De Paris La Villette', 'price': 36}, '2023-01-14T19:30:00': {'location': 'Strasbourg', 'salle': 'La Laiterie', 'price': 36}, '2023-01-13T20:00:00': {'location': 'Reims', 'salle': 'La Cartonnerie A Reims', 'price': 36}}, 'spotify_id': '7tm9Tuc70geXOOyKhtZHIj', 'followers': {'13/01/2023': 88623, '19/01/2023': 89076, '20/01/2023': 89160}, 'popularity': 63}, {'_id': 'MYLENE FARMER', 'concerts': {'2023-07-29T20:30:00': {'location': 'Nice', 'salle': 'Stade Allianz Riviera A Nice', 'price': 120.0}, '2023-06-03T20:30:00': {'location': 'Lille', 'salle': 'Stade Pierre Mauroy A Lille', 'price': None}, '2023-06-09T20:30:00': {'location': 'Nantes', 'salle': 'Stade De La Beaujoire A Nantes', 'price': None}, '2023-06-10T20:30:00': {'location': 'Nantes', 'salle': 'Stade De La Beaujoire A Nantes', 'price': None}, '2023-06-16T00:00:00': {'location': 'Geneve', 'salle': 'Stade De Geneve', 'price': None}, '2023-06-17T00:00:00': {'location': 'Geneve', 'salle': 'Stade De Geneve', 'price': None}, '2023-06-23T20:30:00': {'location': 'Decines', 'salle': 'Groupama Stadium Lyon', 'price': 120.0}, '2023-06-24T20:30:00': {'location': 'Decines', 'salle': 'Groupama Stadium Lyon', 'price': None}, '2023-06-30T20:30:00': {'location': 'Paris', 'salle': 'Stade De France (Saint Denis)', 'price': None}, '2023-07-01T20:30:00': {'location': 'Paris', 'salle': 'Stade De France (Saint Denis)', 'price': None}, '2023-07-08T20:30:00': {'location': 'Marseille', 'salle': 'Orange Velodrome De Marseille', 'price': 120.0}, '2023-07-14T20:30:00': {'location': 'Bordeaux', 'salle': 'Stade Matmut Atlantique A Bordeaux', 'price': 120.0}, '2023-07-15T20:30:00': {'location': 'Bordeaux', 'salle': 'Stade Matmut Atlantique A Bordeaux', 'price': None}, '2023-07-22T20:30:00': {'location': 'Bruxelles', 'salle': 'Stade Du Roi Baudouin', 'price': 120.0}}, 'spotify_id': '0e04xgVBPU6mE2QkSHlufD', 'followers': {'13/01/2023': 426400, '19/01/2023': 428555, '20/01/2023': 428864}, 'popularity': 59}, {'_id': 'RENAUD', 'concerts': {'2023-01-10T20:00:00': {'location': 'Avignon', 'salle': 'La Scala Provence A Avignon', 'price': 75}, '2023-02-03T20:00:00': {'location': 'Nancy', 'salle': 'Salle Poirel', 'price': None}, '2023-02-07T20:00:00': {'location': 'Mons', 'salle': 'Theatre Royal De Mons', 'price': 54.0}, '2023-02-08T20:00:00': {'location': 'Mons', 'salle': 'Theatre Royal De Mons', 'price': 54.0}, '2023-02-14T20:00:00': {'location': 'Merignac', 'salle': 'Le Pin Galant', 'price': 54.0}, '2023-02-15T20:00:00': {'location': 'Merignac', 'salle': 'Le Pin Galant', 'price': 54.0}, '2023-02-20T20:00:00': {'location': 'Lille', 'salle': 'Theatre Sebastopol', 'price': None}, '2023-02-21T20:00:00': {'location': 'Lille', 'salle': 'Theatre Sebastopol', 'price': None}, '2023-02-22T20:00:00': {'location': 'Lille', 'salle': 'Theatre Sebastopol', 'price': 54.0}, '2023-02-28T20:00:00': {'location': 'Le Mans', 'salle': 'Palais Des Congres Et De La Culture Du Mans', 'price': 54.0}, '2023-03-01T20:00:00': {'location': 'Saint Brieuc', 'salle': 'Palais Des Congres Et Des Expos De Saint Brieuc (Hermione/ Equinoxe / Espace Brezillet))', 'price': None}, '2023-03-06T20:00:00': {'location': 'Annecy', 'salle': 'Arcadium A Annecy', 'price': None}, '2023-03-07T20:00:00': {'location': 'Clermont Ferrand', 'salle': 'Maison De La Culture A Clermont Ferrand', 'price': None}, '2023-03-13T20:00:00': {'location': 'Geneve', 'salle': 'Theatre Du Leman A Geneve', 'price': 54.0}, '2023-03-14T00:00:00': {'location': 'Lausanne', 'salle': 'Salle Metropole A Lausanne', 'price': None}, '2023-03-18T00:00:00': {'location': 'Mondorf les Bains', 'salle': 'Casino 2000 (Chapito / Purple Lounge) A Mondorf Les Bains', 'price': None}, '2023-03-21T20:00:00': {'location': 'Liege', 'salle': 'Theatre Le Forum A Liege', 'price': 54.0}, '2023-03-22T20:00:00': {'location': 'Liege', 'salle': 'Theatre Le Forum A Liege', 'price': 54.0}, '2023-03-25T20:00:00': {'location': 'Metz', 'salle': 'Arsenal A Metz', 'price': None}, '2023-03-28T20:00:00': {'location': 'Sausheim', 'salle': 'Espace Dollfus Et Noack (Ed&N / Eden) A Sausheim', 'price': 54.0}, '2023-03-29T20:00:00': {'location': 'Strasbourg', 'salle': 'Pmc - Salle Erasme / Palais De La Musique Et Des Congres A Strasbourg', 'price': 54.0}, '2023-04-25T20:00:00': {'location': 'Toulouse', 'salle': 'Casino Theatre Barriere A Toulouse', 'price': 54.0}, '2023-04-26T20:00:00': {'location': 'Toulouse', 'salle': 'Casino Theatre Barriere A Toulouse', 'price': 54.0}, '2023-04-28T20:00:00': {'location': 'Biarritz', 'salle': 'La Gare Du Midi', 'price': 54.0}, '2023-05-04T20:00:00': {'location': 'Marseille', 'salle': 'Le Cepac Silo - Marseille', 'price': 54.0}, '2023-05-05T20:00:00': {'location': 'Marseille', 'salle': 'Le Cepac Silo - Marseille', 'price': 54.0}, '2023-05-09T20:00:00': {'location': 'Paris', 'salle': 'La Scala A Paris', 'price': None}, '2023-05-10T20:00:00': {'location': 'Paris', 'salle': 'La Scala A Paris', 'price': None}, '2023-05-13T20:00:00': {'location': 'Angers', 'salle': \"Centre Des Congres D'angers\", 'price': None}, '2023-05-14T20:00:00': {'location': 'Tours', 'salle': 'Vinci Centre De Congres A Tours', 'price': 54.0}, '2023-05-17T20:00:00': {'location': 'Nantes', 'salle': 'Cite Des Congres Nantes Atlantique', 'price': None}, '2023-05-22T20:00:00': {'location': 'Bruxelles', 'salle': 'Cirque Royal De Bruxelles - Koninklijk Circus  (Le Botanique)', 'price': 54.0}, '2023-05-23T20:00:00': {'location': 'Bruxelles', 'salle': 'Cirque Royal De Bruxelles - Koninklijk Circus  (Le Botanique)', 'price': 54.0}, '2023-05-26T20:00:00': {'location': 'Paris', 'salle': 'Casino De Paris', 'price': None}, '2023-05-27T20:00:00': {'location': 'Paris', 'salle': 'Casino De Paris', 'price': None}, '2023-05-30T20:00:00': {'location': 'Paris', 'salle': \"L'olympia\", 'price': None}, '2023-05-31T20:00:00': {'location': 'Paris', 'salle': \"L'olympia\", 'price': None}, '2023-06-08T20:00:00': {'location': 'Borgo', 'salle': 'Complexe Sportif Paul Natali A Borgo', 'price': 54.0}, '2023-06-10T20:30:00': {'location': 'Ajaccio', 'salle': 'U Palatinu / Palais Des Sports Et Spectacles A Ajaccio', 'price': 54.0}, '2023-07-05T20:00:00': {'location': 'Vaison La Romaine', 'salle': 'Theatre Antique De Vaison La Romaine', 'price': 595}, '2023-07-26T20:00:00': {'location': 'Sete', 'salle': 'Theatre De La Mer A Sete', 'price': 75}}, 'spotify_id': '6ttz1LgWFVgRiNDOjtDb2L', 'followers': {'13/01/2023': 13519, '19/01/2023': 13569, '20/01/2023': 13573}, 'popularity': 50}, {'_id': 'INDOCHINE', 'concerts': {'2022-05-21T20:00:00': {'location': 'Paris', 'salle': 'Stade De France (Saint Denis)', 'price': None}, '2022-07-03T20:00:00': {'location': 'Lille', 'salle': 'Stade Pierre Mauroy A Lille', 'price': None}, '2022-07-02T20:00:00': {'location': 'Lille', 'salle': 'Stade Pierre Mauroy A Lille', 'price': None}, '2022-06-25T20:00:00': {'location': 'Decines', 'salle': 'Groupama Stadium Lyon', 'price': None}, '2022-06-11T20:00:00': {'location': 'Marseille', 'salle': 'Orange Velodrome De Marseille', 'price': None}, '2022-06-04T20:00:00': {'location': 'Bordeaux', 'salle': 'Stade Matmut Atlantique A Bordeaux', 'price': None}}, 'spotify_id': '7knmbOGe07k85GmK50vACB', 'followers': {'13/01/2023': 901024, '19/01/2023': 904953, '20/01/2023': 905489}, 'popularity': 61}, {'_id': 'IMAGINE DRAGONS', 'concerts': {'2022-06-16T18:00:00': {'location': 'Esch sur Alzette', 'salle': 'Open Air Belval', 'price': None}, '2023-08-22T20:00:00': {'location': 'Nanterre', 'salle': 'Paris La Defense Arena', 'price': None}, '2023-08-23T20:00:00': {'location': 'Nanterre', 'salle': 'Paris La Defense Arena', 'price': None}, '2023-09-08T16:00:00': {'location': 'Chambord', 'salle': 'Domaine De Chambord / Cour Du Chateau', 'price': None}, '2022-07-02T00:00:00': {'location': 'Werchter', 'salle': 'Festivalpark Werchter', 'price': None}}, 'spotify_id': '53XhwfbYqKCa1cC15pYq2q', 'followers': {'13/01/2023': 44761567, '19/01/2023': 44922687, '20/01/2023': 44947158}, 'popularity': 89}, {'_id': 'DADJU', 'concerts': {'2022-01-06T20:00:00': {'location': 'Limoges', 'salle': 'Zenith De Limoges', 'price': 66}, '2023-07-20T21:00:00': {'location': 'Bayonne', 'salle': 'Arenes De Bayonne', 'price': 52.5}, '2023-07-26T20:30:00': {'location': 'Vienne', 'salle': 'Theatre Antique De Vienne', 'price': 66}, '2022-12-16T20:00:00': {'location': 'Toulouse', 'salle': 'Zenith De Toulouse', 'price': 66}, '2022-12-15T20:00:00': {'location': 'Pau', 'salle': 'Zenith De Pau', 'price': 66}, '2022-12-14T20:00:00': {'location': 'Bordeaux', 'salle': 'Arkea Arena - Bordeaux', 'price': 66}, '2022-12-13T20:00:00': {'location': 'Nantes', 'salle': 'Zenith De Nantes Metropole', 'price': 66}, '2022-12-09T20:00:00': {'location': 'Deols', 'salle': 'M.A.Ch (Mach) 36 A Deols (Chateauroux)', 'price': 66}, '2022-12-08T20:00:00': {'location': 'Dijon', 'salle': 'Zenith De Dijon', 'price': 66}, '2022-12-07T20:00:00': {'location': 'Lyon', 'salle': 'Halle Tony Garnier (Htg)', 'price': 66}, '2022-12-06T20:00:00': {'location': 'Marseille', 'salle': 'Le Dome De Marseille', 'price': 66}, '2022-12-03T20:00:00': {'location': 'Rouen', 'salle': 'Zenith De Rouen / Grand Quevilly', 'price': 66}, '2022-12-02T20:00:00': {'location': 'Amiens', 'salle': \"Zenith D'amiens\", 'price': 66}, '2022-12-01T20:00:00': {'location': 'Eckbolsheim', 'salle': 'Zenith Europe De Strasbourg', 'price': 66}, '2022-11-30T00:00:00': {'location': 'Geneve', 'salle': 'Geneva Arena', 'price': 66}, '2022-11-26T20:00:00': {'location': 'Bruxelles', 'salle': 'Forest National', 'price': 66}, '2022-11-25T20:00:00': {'location': 'Caen', 'salle': 'Zenith De Caen', 'price': 66}, '2022-11-24T20:00:00': {'location': 'Rennes', 'salle': 'Le Liberte A Rennes', 'price': 66}, '2022-11-23T20:00:00': {'location': 'Lille', 'salle': 'Zenith De Lille - Arena', 'price': 66}, '2022-11-20T20:00:00': {'location': 'Esch sur Alzette', 'salle': 'Rockhal', 'price': 66}, '2022-11-19T20:00:00': {'location': 'Cournon', 'salle': \"Zenith D'auvergne\", 'price': 66}, '2022-11-16T20:00:00': {'location': 'Montpellier', 'salle': 'Sud De France Arena Montpellier', 'price': 66}, '2022-08-11T23:59:00': {'location': \"Cap d'Agde\", 'salle': 'Discotheque Bora Club', 'price': 66}, '2022-07-14T20:30:00': {'location': 'Toulouse', 'salle': 'Prairie Des Filtres', 'price': 66}, '2022-07-09T19:30:00': {'location': 'Montataire', 'salle': 'Stade Marcel Coene A Montataire', 'price': 66}, '2022-07-01T20:00:00': {'location': 'Trelaze', 'salle': 'Parc Du Vissoir A Trelaze', 'price': 66}, '2022-06-18T20:00:00': {'location': 'Paris', 'salle': 'Parc Des Princes', 'price': 66}, '2022-05-17T17:00:00': {'location': 'Paris', 'salle': 'Westfield Forum Des Halles', 'price': 66}, '2022-03-31T20:00:00': {'location': 'Limoges', 'salle': 'Zenith De Limoges', 'price': 66}, '2022-03-30T20:00:00': {'location': 'Trelaze', 'salle': 'Arena Loire Trelaze (Angers)', 'price': 66}, '2022-03-29T20:00:00': {'location': 'Orleans', 'salle': \"Zenith D'orleans\", 'price': 66}, '2022-03-23T20:00:00': {'location': 'Brest', 'salle': 'Brest Arena', 'price': 66}, '2022-03-20T18:00:00': {'location': 'Rouen', 'salle': 'Zenith De Rouen / Grand Quevilly', 'price': 66}, '2022-03-19T20:00:00': {'location': 'Amiens', 'salle': \"Zenith D'amiens\", 'price': 66}, '2022-03-18T20:00:00': {'location': 'Epernay', 'salle': 'Parc Expositions Le Millesium De Epernay', 'price': 66}, '2022-03-17T20:00:00': {'location': 'Maxeville', 'salle': 'Zenith De Nancy', 'price': 66}, '2022-02-27T18:00:00': {'location': 'Aix En Provence', 'salle': \"Arena Du Pays D'aix\", 'price': 66}, '2022-02-26T20:00:00': {'location': 'Toulon', 'salle': 'Zenith Omega A Toulon', 'price': 66}, '2022-02-11T20:00:00': {'location': 'Grenoble', 'salle': 'Summum', 'price': 66}, '2022-02-10T20:00:00': {'location': 'Bourg En Bresse', 'salle': 'Ekinox / Ainterexpo / Parc Expo Bourg En Bresse', 'price': 66}, '2022-02-09T20:00:00': {'location': 'Montbeliard', 'salle': \"L'axone A Montbeliard\", 'price': 66}, '2022-02-05T20:00:00': {'location': 'Metz', 'salle': 'Arenes De Metz / Palais Des Sports', 'price': 66}, '2022-02-04T20:00:00': {'location': 'Eckbolsheim', 'salle': 'Zenith Europe De Strasbourg', 'price': 66}, '2022-02-03T20:00:00': {'location': 'Esch sur Alzette', 'salle': 'Rockhal', 'price': 66}, '2022-01-16T18:00:00': {'location': 'Orleans', 'salle': \"Zenith D'orleans\", 'price': 66}, '2022-01-15T20:00:00': {'location': 'Amiens', 'salle': \"Zenith D'amiens\", 'price': 66}, '2022-01-14T20:00:00': {'location': 'Trelaze', 'salle': 'Arena Loire Trelaze (Angers)', 'price': 66}, '2022-01-13T20:00:00': {'location': 'Brest', 'salle': 'Brest Arena', 'price': 66}, '2022-01-09T18:00:00': {'location': 'Epernay', 'salle': 'Parc Expositions Le Millesium De Epernay', 'price': 66}, '2022-01-08T20:00:00': {'location': 'Maxeville', 'salle': 'Zenith De Nancy', 'price': 66}, '2022-01-07T20:00:00': {'location': 'Rouen', 'salle': 'Zenith De Rouen / Grand Quevilly', 'price': 66}, '2023-02-03T23:59:00': {'location': 'Saint Pierre Des Corps', 'salle': 'Le new80 A Saint Pierre Des Corps', 'price': 32.5}}, 'spotify_id': '4sbXXFzEWJY2zsZjelerjX', 'followers': {'13/01/2023': 4719071, '19/01/2023': 4734981, '20/01/2023': 4737587}, 'popularity': 73}, {'_id': 'ORELSAN', 'concerts': {'2022-01-15T20:00:00': {'location': 'Caen', 'salle': 'Zenith De Caen', 'price': 485.0}, '2022-12-10T20:00:00': {'location': 'Nanterre', 'salle': 'Paris La Defense Arena', 'price': 485.0}, '2022-12-09T20:00:00': {'location': 'Nanterre', 'salle': 'Paris La Defense Arena', 'price': 485.0}, '2022-12-08T20:00:00': {'location': 'Nanterre', 'salle': 'Paris La Defense Arena', 'price': 485.0}, '2022-12-01T20:00:00': {'location': 'Geneve', 'salle': 'Geneva Arena', 'price': 485.0}, '2022-11-30T20:00:00': {'location': 'Marseille', 'salle': 'Le Dome De Marseille', 'price': 485.0}, '2022-11-29T20:00:00': {'location': 'Montpellier', 'salle': 'Sud De France Arena Montpellier', 'price': 485.0}, '2022-11-26T20:00:00': {'location': 'Lille', 'salle': 'Zenith De Lille - Arena', 'price': 485.0}, '2022-11-25T20:00:00': {'location': 'Lille', 'salle': 'Zenith De Lille - Arena', 'price': 485.0}, '2022-11-20T20:00:00': {'location': 'Toulouse', 'salle': 'Zenith De Toulouse', 'price': 485.0}, '2022-11-19T20:00:00': {'location': 'Bordeaux', 'salle': 'Arkea Arena - Bordeaux', 'price': 485.0}, '2022-11-18T20:00:00': {'location': 'Nantes', 'salle': 'Zenith De Nantes Metropole', 'price': 485.0}, '2022-11-15T20:00:00': {'location': 'Lyon', 'salle': 'Halle Tony Garnier (Htg)', 'price': 485.0}, '2022-11-12T20:00:00': {'location': 'Nantes', 'salle': 'Zenith De Nantes Metropole', 'price': 485.0}, '2022-11-06T20:00:00': {'location': 'Eckbolsheim', 'salle': 'Zenith Europe De Strasbourg', 'price': 485.0}, '2022-11-05T20:00:00': {'location': 'Bruxelles', 'salle': 'Palais 12 A Bruxelles', 'price': 485.0}, '2022-11-04T20:00:00': {'location': 'Bruxelles', 'salle': 'Palais 12 A Bruxelles', 'price': 485.0}, '2022-10-29T20:00:00': {'location': 'Rennes', 'salle': 'Musikhall - Parc Expo Rennes Aeroport', 'price': 485.0}, '2022-10-28T20:00:00': {'location': 'Rennes', 'salle': 'Musikhall - Parc Expo Rennes Aeroport', 'price': 485.0}, '2022-10-27T20:00:00': {'location': 'Caen', 'salle': 'Zenith De Caen', 'price': 485.0}, '2022-10-26T20:00:00': {'location': 'Caen', 'salle': 'Zenith De Caen', 'price': 485.0}, '2022-10-25T20:00:00': {'location': 'Rouen', 'salle': 'Zenith De Rouen / Grand Quevilly', 'price': 485.0}, '2022-07-29T20:00:00': {'location': 'Vienne', 'salle': 'Theatre Antique De Vienne', 'price': 485.0}, '2022-06-25T19:00:00': {'location': 'Maxeville', 'salle': 'Zenith De Nancy - Amphitheatre Plein Air', 'price': 485.0}, '2022-05-06T20:00:00': {'location': 'Nice', 'salle': 'Palais Nikaia', 'price': 485.0}, '2022-05-05T20:00:00': {'location': 'Marseille', 'salle': 'Le Dome De Marseille', 'price': 485.0}, '2022-05-04T20:00:00': {'location': 'Lyon', 'salle': 'Halle Tony Garnier (Htg)', 'price': 485.0}, '2022-04-29T20:00:00': {'location': 'Lille', 'salle': 'Zenith De Lille - Arena', 'price': 485.0}, '2022-04-28T20:00:00': {'location': 'Caen', 'salle': 'Zenith De Caen', 'price': 485.0}, '2022-04-27T20:00:00': {'location': 'Rouen', 'salle': 'Zenith De Rouen / Grand Quevilly', 'price': 485.0}, '2022-04-26T20:00:00': {'location': 'Orleans', 'salle': \"Zenith D'orleans\", 'price': 485.0}, '2022-04-25T20:00:00': {'location': 'Amiens', 'salle': \"Zenith D'amiens\", 'price': 485.0}, '2022-04-16T20:00:00': {'location': 'Grenoble', 'salle': 'Palais Des Sports De Grenoble', 'price': 485.0}, '2022-04-15T20:00:00': {'location': 'Geneve', 'salle': 'Geneva Arena', 'price': 485.0}, '2022-04-05T00:00:00': {'location': 'Herouville Saint Clair', 'salle': 'Big Band Cafe / Bbc', 'price': 485.0}, '2022-04-01T20:00:00': {'location': 'Cournon', 'salle': \"Zenith D'auvergne\", 'price': 485.0}, '2022-03-31T20:00:00': {'location': 'Toulouse', 'salle': 'Zenith De Toulouse', 'price': 485.0}, '2022-03-27T20:00:00': {'location': 'Lille', 'salle': 'Zenith De Lille - Arena', 'price': 485.0}, '2022-03-26T20:00:00': {'location': 'Reims', 'salle': 'Reims Arena', 'price': 485.0}, '2022-03-25T20:00:00': {'location': 'Bruxelles', 'salle': 'Palais 12 A Bruxelles', 'price': 485.0}, '2022-03-19T20:00:00': {'location': 'Paris', 'salle': 'Accorhotels Arena - Popb Bercy', 'price': 485.0}, '2022-03-18T20:00:00': {'location': 'Paris', 'salle': 'Accorhotels Arena - Popb Bercy', 'price': 485.0}, '2022-03-17T20:00:00': {'location': 'Paris', 'salle': 'Accorhotels Arena - Popb Bercy', 'price': 485.0}, '2022-03-16T20:00:00': {'location': 'Paris', 'salle': 'Accorhotels Arena - Popb Bercy', 'price': 485.0}, '2022-03-15T20:00:00': {'location': 'Paris', 'salle': 'Accorhotels Arena - Popb Bercy', 'price': 485.0}, '2022-03-12T20:00:00': {'location': 'Limoges', 'salle': 'Zenith De Limoges', 'price': 485.0}, '2022-03-11T20:00:00': {'location': 'Bordeaux', 'salle': 'Arkea Arena - Bordeaux', 'price': 485.0}, '2022-03-10T20:00:00': {'location': 'Pau', 'salle': 'Zenith De Pau', 'price': 485.0}, '2022-03-05T20:00:00': {'location': 'Eckbolsheim', 'salle': 'Zenith Europe De Strasbourg', 'price': 485.0}, '2022-03-04T20:00:00': {'location': 'Dijon', 'salle': 'Zenith De Dijon', 'price': 485.0}, '2022-03-03T20:00:00': {'location': 'Amneville', 'salle': 'Le Galaxie A Amneville', 'price': 485.0}, '2022-03-02T20:00:00': {'location': 'Montbeliard', 'salle': \"L'axone A Montbeliard\", 'price': 485.0}, '2022-02-25T20:00:00': {'location': 'Nantes', 'salle': 'Zenith De Nantes Metropole', 'price': 485.0}, '2022-02-24T20:00:00': {'location': 'Trelaze', 'salle': 'Arena Loire Trelaze (Angers)', 'price': 485.0}, '2022-02-23T20:00:00': {'location': 'Rennes', 'salle': 'Musikhall - Parc Expo Rennes Aeroport', 'price': 485.0}, '2022-02-22T20:00:00': {'location': 'Caen', 'salle': 'Zenith De Caen', 'price': 485.0}, '2022-02-12T20:00:00': {'location': 'Geneve', 'salle': 'Geneva Arena', 'price': 485.0}, '2022-02-05T20:00:00': {'location': 'Grenoble', 'salle': 'Palais Des Sports De Grenoble', 'price': 485.0}, '2022-02-04T20:00:00': {'location': 'Marseille', 'salle': 'Le Dome De Marseille', 'price': 485.0}, '2022-02-03T20:00:00': {'location': 'Nice', 'salle': 'Palais Nikaia', 'price': 485.0}, '2022-01-29T20:00:00': {'location': 'Orleans', 'salle': \"Zenith D'orleans\", 'price': 485.0}, '2022-01-28T20:00:00': {'location': 'Lyon', 'salle': 'Halle Tony Garnier (Htg)', 'price': 485.0}, '2022-01-27T20:00:00': {'location': 'Toulouse', 'salle': 'Zenith De Toulouse', 'price': 485.0}, '2022-01-26T20:00:00': {'location': 'Cournon', 'salle': \"Zenith D'auvergne\", 'price': 485.0}, '2022-01-21T20:00:00': {'location': 'Amiens', 'salle': \"Zenith D'amiens\", 'price': 485.0}, '2022-01-20T20:00:00': {'location': 'Lille', 'salle': 'Zenith De Lille - Arena', 'price': 485.0}, '2022-01-19T20:00:00': {'location': 'Rouen', 'salle': 'Zenith De Rouen / Grand Quevilly', 'price': 485.0}}, 'spotify_id': '4FpJcNgOvIpSBeJgRg3OfN', 'followers': {'13/01/2023': 2080004, '19/01/2023': 2088215, '20/01/2023': 2089447}, 'popularity': 72}, {'_id': 'YANNS', 'concerts': {'2022-07-01T20:00:00': {'location': 'Trelaze', 'salle': 'Parc Du Vissoir A Trelaze', 'price': 34.0}, '2023-02-18T20:00:00': {'location': 'Bainville sur Madon', 'salle': 'Fort Pelissier & Hangar Du Fort De Bainville Sur Madon', 'price': 15}, '2023-03-11T20:30:00': {'location': 'Saint Avold', 'salle': 'Centre Culturel Pierre Messmer A Saint Avold', 'price': 319}, '2023-03-26T15:30:00': {'location': 'Paris', 'salle': 'Le Trianon', 'price': 34.0}, '2023-03-26T20:00:00': {'location': 'Paris', 'salle': 'Le Trianon', 'price': 34.0}, '2022-07-14T20:30:00': {'location': 'Toulouse', 'salle': 'Prairie Des Filtres', 'price': 34.0}, '2022-07-08T20:30:00': {'location': 'Monaco', 'salle': 'Espace Leo Ferre A Monaco', 'price': 34.0}}, 'spotify_id': '3mirzmIKVfvqcW0M5OKAzR', 'followers': {'13/01/2023': 233567, '19/01/2023': 237704, '20/01/2023': 238287}, 'popularity': 59}, {'_id': 'SHAKA PONK', 'concerts': {'2024-03-29T20:00:00': {'location': 'Grenoble', 'salle': 'Palais Des Sports De Grenoble', 'price': 53.5}, '2023-10-12T20:00:00': {'location': 'Amiens', 'salle': \"Zenith D'amiens\", 'price': 60.0}, '2023-10-13T20:00:00': {'location': 'Lille', 'salle': 'Zenith De Lille - Arena', 'price': None}, '2023-10-14T20:00:00': {'location': 'Lille', 'salle': 'Zenith De Lille - Arena', 'price': 58.5}, '2023-10-18T20:00:00': {'location': 'Paris', 'salle': 'Zenith De Paris La Villette', 'price': 58.5}, '2023-10-19T20:00:00': {'location': 'Paris', 'salle': 'Zenith De Paris La Villette', 'price': 58.5}, '2023-11-08T20:00:00': {'location': 'Paris', 'salle': 'Zenith De Paris La Villette', 'price': 58.5}, '2023-11-09T20:00:00': {'location': 'Paris', 'salle': 'Zenith De Paris La Villette', 'price': 58.5}, '2023-11-10T20:00:00': {'location': 'Rouen', 'salle': 'Zenith De Rouen / Grand Quevilly', 'price': 58.5}, '2023-11-16T20:00:00': {'location': 'Rouen', 'salle': 'Zenith De Rouen / Grand Quevilly', 'price': 58.5}, '2023-11-17T20:00:00': {'location': 'Trelaze', 'salle': 'Arena Loire Trelaze (Angers)', 'price': 58.5}, '2023-11-18T20:00:00': {'location': 'Deols', 'salle': 'M.A.Ch (Mach) 36 A Deols (Chateauroux)', 'price': 58.5}, '2023-11-23T20:00:00': {'location': 'Maxeville', 'salle': 'Zenith De Nancy', 'price': 58.5}, '2023-11-24T20:00:00': {'location': 'Dijon', 'salle': 'Zenith De Dijon', 'price': 58.5}, '2023-11-25T20:00:00': {'location': 'Eckbolsheim', 'salle': 'Zenith Europe De Strasbourg', 'price': 58.5}, '2023-11-30T20:00:00': {'location': 'Saint Etienne', 'salle': 'Zenith De Saint Etienne', 'price': 58.5}, '2023-12-01T20:00:00': {'location': 'Toulon', 'salle': 'Zenith Omega A Toulon', 'price': 58.5}, '2023-12-02T20:00:00': {'location': 'Toulouse', 'salle': 'Zenith De Toulouse', 'price': 58.5}, '2023-12-07T20:00:00': {'location': 'Cournon', 'salle': \"Zenith D'auvergne\", 'price': 58.5}, '2023-12-08T20:00:00': {'location': 'Montpellier', 'salle': 'Sud De France Arena Montpellier', 'price': 58.5}, '2024-02-01T20:00:00': {'location': 'Nice', 'salle': 'Palais Nikaia', 'price': 58.5}, '2024-02-02T20:00:00': {'location': 'Decines', 'salle': 'Ldlc Arena A Lyon', 'price': 58.5}, '2024-02-08T20:00:00': {'location': 'Nantes', 'salle': 'Zenith De Nantes Metropole', 'price': 58.5}, '2024-02-09T20:00:00': {'location': 'Nantes', 'salle': 'Zenith De Nantes Metropole', 'price': 58.5}, '2024-02-10T20:00:00': {'location': 'Brest', 'salle': 'Brest Arena', 'price': 58.5}, '2024-02-15T20:00:00': {'location': 'Pau', 'salle': 'Zenith De Pau', 'price': 58.5}, '2024-02-16T20:00:00': {'location': 'Narbonne', 'salle': 'Narbonne Arena', 'price': 58.5}, '2024-02-17T20:00:00': {'location': 'Marseille', 'salle': 'Le Dome De Marseille', 'price': 58.5}, '2024-02-22T20:00:00': {'location': 'Orleans', 'salle': \"Zenith D'orleans\", 'price': 58.5}, '2024-02-23T20:00:00': {'location': 'Mouilleron Le Captif', 'salle': 'Vendespace A Mouilleron Le Captif (La Roche Sur Yon)', 'price': 58.5}, '2024-02-24T20:00:00': {'location': 'Rennes', 'salle': 'Le Liberte A Rennes', 'price': 58.5}, '2024-02-25T17:00:00': {'location': 'Rennes', 'salle': 'Le Liberte A Rennes', 'price': 58.5}, '2024-02-29T20:00:00': {'location': 'Le Mans', 'salle': 'Antares Au Mans', 'price': 58.5}, '2024-03-01T20:00:00': {'location': 'Limoges', 'salle': 'Zenith De Limoges', 'price': 58.5}, '2024-03-02T20:00:00': {'location': 'Bordeaux', 'salle': 'Arkea Arena - Bordeaux', 'price': 58.5}, '2024-03-09T20:00:00': {'location': 'Caen', 'salle': 'Zenith De Caen', 'price': 58.5}, '2024-03-14T20:00:00': {'location': 'Bruxelles', 'salle': 'Forest National', 'price': 490.0}, '2024-03-15T20:00:00': {'location': 'Esch sur Alzette', 'salle': 'Rockhal', 'price': 449}, '2024-03-16T00:00:00': {'location': 'Geneve', 'salle': 'Geneva Arena', 'price': None}, '2024-03-21T20:00:00': {'location': 'Longuenesse', 'salle': 'Sceneo A Saint Omer', 'price': 58.5}, '2024-03-22T20:00:00': {'location': 'Reims', 'salle': 'Reims Arena', 'price': 58.5}, '2024-03-23T20:00:00': {'location': 'Montbeliard', 'salle': \"L'axone A Montbeliard\", 'price': 58.5}, '2024-03-28T20:00:00': {'location': 'Bourg En Bresse', 'salle': 'Ekinox / Ainterexpo / Parc Expo Bourg En Bresse', 'price': 58.5}}, 'spotify_id': '0VJIBKdqJygrupAxpSTk7q', 'followers': {'13/01/2023': 330721, '19/01/2023': 331047, '20/01/2023': 331082}, 'popularity': 52}, {'_id': 'JOSMAN', 'concerts': {'2022-01-21T20:30:00': {'location': 'Angouleme', 'salle': 'La Nef A Angouleme', 'price': 47.5}, '2023-03-10T18:00:00': {'location': 'Dijon', 'salle': 'Zenith De Dijon', 'price': 35}, '2023-04-20T20:00:00': {'location': 'Lille', 'salle': 'Zenith De Lille - Arena', 'price': 42.5}, '2023-04-28T20:00:00': {'location': 'Rennes', 'salle': 'Le Liberte A Rennes', 'price': 42.5}, '2023-05-05T20:00:00': {'location': 'Lyon', 'salle': 'Halle Tony Garnier (Htg)', 'price': 42.5}, '2023-05-11T20:00:00': {'location': 'Toulouse', 'salle': 'Zenith De Toulouse', 'price': 42.5}, '2024-02-24T20:00:00': {'location': 'Paris', 'salle': 'Accorhotels Arena - Popb Bercy', 'price': 47.5}, '2022-10-16T19:00:00': {'location': 'Paris', 'salle': 'Zenith De Paris La Villette', 'price': 47.5}, '2022-07-23T19:00:00': {'location': 'Marseille', 'salle': 'Le Baou A Marseille', 'price': 47.5}, '2022-05-12T19:00:00': {'location': 'Nancy', 'salle': \"L'autre Canal\", 'price': 47.5}, '2022-04-16T20:00:00': {'location': 'Villerupt', 'salle': \"L'arche Villerupt\", 'price': 47.5}, '2022-04-15T20:30:00': {'location': 'Angouleme', 'salle': 'La Nef A Angouleme', 'price': 47.5}, '2022-04-09T20:30:00': {'location': 'Marseille', 'salle': 'Le Moulin A Marseille', 'price': 47.5}, '2022-03-31T20:00:00': {'location': 'Nantes', 'salle': 'Stereolux A Nantes', 'price': 47.5}, '2022-03-30T20:00:00': {'location': 'Rouen', 'salle': 'Le 106 A Rouen', 'price': 47.5}, '2022-03-24T20:00:00': {'location': 'Villeurbanne', 'salle': 'Transbordeur', 'price': 47.5}, '2022-03-20T20:00:00': {'location': 'Paris', 'salle': \"L'olympia\", 'price': 47.5}, '2022-03-18T20:30:00': {'location': 'Dijon', 'salle': 'La Vapeur De Dijon', 'price': 47.5}, '2022-03-12T20:00:00': {'location': 'Herouville Saint Clair', 'salle': 'Big Band Cafe / Bbc', 'price': 47.5}, '2022-03-04T19:30:00': {'location': 'Strasbourg', 'salle': 'La Laiterie', 'price': 47.5}, '2022-02-27T20:00:00': {'location': 'Lille', 'salle': 'Aeronef', 'price': 47.5}, '2022-02-25T20:00:00': {'location': 'Rennes', 'salle': 'Le Mem A Rennes', 'price': 47.5}, '2022-02-19T20:00:00': {'location': 'Ramonville', 'salle': 'Le Bikini', 'price': 47.5}, '2022-02-18T20:30:00': {'location': 'Cenon', 'salle': 'Le Rocher De Palmer A Cenon', 'price': 47.5}, '2022-02-11T20:30:00': {'location': 'Marseille', 'salle': 'Le Moulin A Marseille', 'price': 47.5}, '2022-02-05T20:30:00': {'location': 'Nancy', 'salle': \"L'autre Canal\", 'price': 47.5}}, 'spotify_id': '6dbdXbyAWk2qx8Qttw0knR', 'followers': {'13/01/2023': 676249, '19/01/2023': 680033, '20/01/2023': 680636}, 'popularity': 69}, {'_id': 'CLARA LUCIANI', 'concerts': {'2023-01-11T20:00:00': {'location': 'Bruxelles', 'salle': 'Forest National', 'price': None}, '2023-01-19T20:30:00': {'location': 'Montpellier', 'salle': 'Sud De France Arena Montpellier', 'price': None}, '2023-01-20T20:00:00': {'location': 'Grenoble', 'salle': 'Palais Des Sports De Grenoble', 'price': 45.5}, '2023-01-21T20:30:00': {'location': 'Saint Etienne', 'salle': 'Zenith De Saint Etienne', 'price': None}, '2023-01-26T20:00:00': {'location': 'Brest', 'salle': 'Brest Arena', 'price': None}, '2023-01-27T20:00:00': {'location': 'Trelaze', 'salle': 'Arena Loire Trelaze (Angers)', 'price': None}, '2023-01-28T20:00:00': {'location': 'Caen', 'salle': 'Zenith De Caen', 'price': None}, '2023-01-31T20:00:00': {'location': 'Paris', 'salle': 'Accorhotels Arena - Popb Bercy', 'price': None}, '2023-01-18T20:30:00': {'location': 'Toulon', 'salle': 'Zenith Omega A Toulon', 'price': None}, '2023-01-14T20:00:00': {'location': 'Reims', 'salle': 'Reims Arena', 'price': None}, '2023-01-13T20:00:00': {'location': 'Dijon', 'salle': 'Zenith De Dijon', 'price': None}, '2023-01-12T20:00:00': {'location': 'Lille', 'salle': 'Zenith De Lille - Arena', 'price': None}}, 'spotify_id': '2oVrruuEI0Dr2I4NvLtQS0', 'followers': {'13/01/2023': 624219, '19/01/2023': 627159, '20/01/2023': 627521}, 'popularity': 62}, {'_id': 'ZOLA', 'concerts': {'2022-01-21T20:30:00': {'location': 'Paris', 'salle': 'Zenith De Paris La Villette', 'price': 49.0}, '2023-04-06T20:00:00': {'location': 'Strasbourg', 'salle': 'La Laiterie', 'price': None}, '2023-04-07T20:00:00': {'location': 'Clermont Ferrand', 'salle': 'La Cooperative De Mai', 'price': None}, '2023-04-14T20:15:00': {'location': 'Esch sur Alzette', 'salle': 'Rockhal', 'price': 317}, '2023-04-20T20:00:00': {'location': 'Nimes', 'salle': 'Paloma', 'price': None}, '2023-04-21T20:30:00': {'location': 'Perpignan', 'salle': \"El Mediator / Theatre De L'archipel / Le Grenat / Le Carre A Perpignan\", 'price': None}, '2023-04-28T18:00:00': {'location': 'Dijon', 'salle': 'Zenith De Dijon', 'price': 35}, '2023-06-03T20:00:00': {'location': 'Arles', 'salle': \"Theatre Antique D'arles\", 'price': 33.5}, '2023-11-10T20:00:00': {'location': 'Lille', 'salle': 'Zenith De Lille - Arena', 'price': None}, '2023-11-18T20:30:00': {'location': 'Paris', 'salle': 'Zenith De Paris La Villette', 'price': 49.0}, '2023-11-25T20:00:00': {'location': 'Nantes', 'salle': 'Zenith De Nantes Metropole', 'price': 49.0}, '2022-11-11T20:30:00': {'location': 'Paris', 'salle': 'Zenith De Paris La Villette', 'price': 49.0}, '2022-08-25T19:00:00': {'location': 'Marseille', 'salle': 'Le Baou A Marseille', 'price': 49.0}}, 'spotify_id': '3oxkIoEAyXXQlLTZXlffLJ', 'followers': {'13/01/2023': 67617, '19/01/2023': 67762, '20/01/2023': 67785}, 'popularity': 45}, {'_id': 'LES ANNEES 80 - LA TOURNEE', 'concerts': {'2023-01-20T20:00:00': {'location': 'Montluçon', 'salle': 'Centre Athanor A Montlucon', 'price': 44.0}, '2023-01-21T20:00:00': {'location': 'Riorges', 'salle': 'Le Scarabee A Riorges (Roanne)', 'price': 44.0}, '2023-06-30T21:30:00': {'location': 'Salon De Provence', 'salle': \"Chateau De L'emperi\", 'price': 30.0}, '2023-08-02T20:00:00': {'location': 'Arques', 'salle': \"Chateau D'arques\", 'price': 30}, '2022-12-17T20:00:00': {'location': 'Epernay', 'salle': 'Parc Expositions Le Millesium De Epernay', 'price': 30}, '2022-12-16T20:00:00': {'location': 'Metz', 'salle': 'Arenes De Metz / Palais Des Sports', 'price': 30}, '2022-11-25T20:00:00': {'location': 'Chambery', 'salle': 'Le Phare A Chambery', 'price': 30}, '2022-11-19T20:30:00': {'location': 'Nesle', 'salle': 'La Nouvelle Scene - Est De La Somme', 'price': 30}, '2022-11-05T20:00:00': {'location': 'Lons Le Saunier', 'salle': 'Juraparc A Montmorot', 'price': 30}, '2022-11-04T20:00:00': {'location': 'Villers Le Lac', 'salle': 'Salle Des Fetes De Villers Le Lac', 'price': 30}, '2022-10-08T20:30:00': {'location': 'Tinchebray', 'salle': \"Le Colys'haie A Tinchebray Bocage\", 'price': 30}, '2022-09-17T20:00:00': {'location': 'Duras', 'salle': 'Chateau De Duras', 'price': 30}, '2022-07-30T21:30:00': {'location': 'Lancon de Provence', 'salle': 'Chateau Virant A Lancon De Provence', 'price': 30}, '2022-07-28T21:30:00': {'location': 'Plougonvelin', 'salle': 'Espace Keraudy A Plougonvelin', 'price': 30}, '2022-07-28T20:00:00': {'location': 'Plougonvelin', 'salle': 'Fort De Bertheaume A Plougonvelin', 'price': 30}, '2022-06-18T20:00:00': {'location': 'Rennes', 'salle': 'Le Liberte A Rennes', 'price': 30}, '2022-06-17T20:00:00': {'location': 'Trelaze', 'salle': 'Arena Loire Trelaze (Angers)', 'price': 30}, '2022-06-11T20:00:00': {'location': 'Chasseneuil du Poitou', 'salle': 'Palais Des Congres / Le Futuroscope De Poitiers (Jaunay)', 'price': 30}, '2022-06-04T20:00:00': {'location': 'Lievin', 'salle': 'Arena Stade Couvert -  Lievin', 'price': 30}, '2022-05-21T20:00:00': {'location': 'Caen', 'salle': 'Zenith De Caen', 'price': 30}, '2022-05-20T20:00:00': {'location': 'Rouen', 'salle': 'Zenith De Rouen / Grand Quevilly', 'price': 30}, '2022-05-14T20:00:00': {'location': 'Lille', 'salle': 'Zenith De Lille - Arena', 'price': 30}, '2022-05-07T20:00:00': {'location': 'Deols', 'salle': 'M.A.Ch (Mach) 36 A Deols (Chateauroux)', 'price': 30}, '2022-05-06T20:00:00': {'location': 'Auxerre', 'salle': 'Auxerrexpo', 'price': 30}, '2022-04-29T20:00:00': {'location': 'Lyon', 'salle': 'Cite Internationale (Amphitheatre/Salle 3000/Auditorium Lumiere) A Lyon', 'price': 30}, '2022-04-22T20:00:00': {'location': 'Bruxelles', 'salle': 'Cirque Royal De Bruxelles - Koninklijk Circus  (Le Botanique)', 'price': 30}, '2022-03-26T20:00:00': {'location': 'Paris', 'salle': 'Palais Des Sports De Paris', 'price': 30}, '2022-03-19T20:00:00': {'location': 'Montluçon', 'salle': 'Centre Athanor A Montlucon', 'price': 30}, '2022-03-18T20:00:00': {'location': 'Riorges', 'salle': 'Le Scarabee A Riorges (Roanne)', 'price': 30}, '2022-03-12T20:00:00': {'location': 'Dreux', 'salle': 'Parc Des Expositions De Dreux', 'price': 30}, '2022-03-11T20:00:00': {'location': 'Laval', 'salle': 'Espace Mayenne A Laval', 'price': 30}, '2022-03-05T20:00:00': {'location': 'Chambery', 'salle': 'Le Phare A Chambery', 'price': 30}, '2022-02-26T20:00:00': {'location': 'Metz', 'salle': 'Arenes De Metz / Palais Des Sports', 'price': 30}, '2022-02-25T20:00:00': {'location': 'Epernay', 'salle': 'Parc Expositions Le Millesium De Epernay', 'price': 30}, '2022-01-14T20:00:00': {'location': 'Lons Le Saunier', 'salle': 'Juraparc A Montmorot', 'price': 30}}}, {'_id': 'SAEZ', 'concerts': {'2023-07-01T00:00:00': {'location': 'Nimes', 'salle': 'Arenes De Nimes', 'price': None}}, 'spotify_id': '6cH6fFLynkDD94hGNqacHV', 'followers': {'13/01/2023': 64019}, 'popularity': 53}, {'_id': 'FEU! CHATTERTON', 'concerts': {'2022-01-09T19:00:00': {'location': 'Chambery', 'salle': 'Espace Malraux A Chambery', 'price': None}, '2023-01-18T20:00:00': {'location': 'Paris', 'salle': \"L'olympia\", 'price': 228}, '2023-01-17T20:00:00': {'location': 'Paris', 'salle': \"L'olympia\", 'price': 228}, '2023-01-16T20:00:00': {'location': 'Paris', 'salle': \"L'olympia\", 'price': 228}}, 'spotify_id': '538TfjnJpRXI80MHYWfKlo', 'followers': {'13/01/2023': 143008, '19/01/2023': 143525, '20/01/2023': 143608}, 'popularity': 51}, {'_id': 'BIGFLO ET OLI', 'concerts': {'2022-06-24T20:00:00': {'location': 'Paris', 'salle': 'Accorhotels Arena - Popb Bercy', 'price': 62.5}, '2023-01-19T20:30:00': {'location': 'La Rochelle', 'salle': 'La Sirene A La Rochelle', 'price': 62.5}, '2023-01-20T20:30:00': {'location': 'Cenon', 'salle': 'Le Rocher De Palmer A Cenon', 'price': None}, '2023-01-24T20:00:00': {'location': 'Bruxelles', 'salle': 'Ancienne Belgique (Ab)', 'price': None}, '2023-01-25T20:00:00': {'location': 'Fribourg', 'salle': 'Fri Son', 'price': None}, '2023-01-26T20:00:00': {'location': 'Reims', 'salle': 'La Cartonnerie A Reims', 'price': None}, '2023-01-27T20:30:00': {'location': 'Paris', 'salle': \"L'olympia\", 'price': None}, '2023-01-28T20:30:00': {'location': 'Nantes', 'salle': 'Stereolux A Nantes', 'price': None}, '2023-01-31T20:30:00': {'location': 'Clermont Ferrand', 'salle': 'La Cooperative De Mai', 'price': None}, '2023-02-01T20:30:00': {'location': 'Saint Etienne', 'salle': 'Le Fil A Saint Etienne', 'price': None}, '2023-02-02T20:30:00': {'location': 'Perpignan', 'salle': \"El Mediator / Theatre De L'archipel / Le Grenat / Le Carre A Perpignan\", 'price': None}, '2023-02-03T20:30:00': {'location': 'Seignosse Le Penon', 'salle': 'Le Tube - Les Bourdaines A Seignosse', 'price': 30}, '2023-02-04T20:00:00': {'location': 'Nimes', 'salle': 'Paloma', 'price': None}, '2023-03-24T00:00:00': {'location': 'Bruxelles', 'salle': 'Palais 12 A Bruxelles', 'price': None}, '2023-03-25T20:30:00': {'location': 'Maxeville', 'salle': 'Zenith De Nancy', 'price': 52.5}, '2023-03-26T20:00:00': {'location': 'Cournon', 'salle': \"Zenith D'auvergne\", 'price': 52.5}, '2023-04-13T20:30:00': {'location': 'Toulouse', 'salle': 'Zenith De Toulouse', 'price': 55.5}, '2023-04-14T20:30:00': {'location': 'Toulouse', 'salle': 'Zenith De Toulouse', 'price': None}, '2023-04-15T20:30:00': {'location': 'Toulouse', 'salle': 'Zenith De Toulouse', 'price': 55.5}, '2023-04-28T20:30:00': {'location': 'Trelaze', 'salle': 'Arena Loire Trelaze (Angers)', 'price': 52.5}, '2023-04-29T20:30:00': {'location': 'Brest', 'salle': 'Brest Arena', 'price': 52.5}, '2023-04-30T20:30:00': {'location': 'Le Mans', 'salle': 'Antares Au Mans', 'price': 52.5}, '2023-05-05T20:30:00': {'location': 'Caen', 'salle': 'Zenith De Caen', 'price': 52.5}, '2023-05-06T20:30:00': {'location': 'Lille', 'salle': 'Zenith De Lille - Arena', 'price': None}, '2023-05-07T20:30:00': {'location': 'Lille', 'salle': 'Zenith De Lille - Arena', 'price': 57.0}, '2023-05-11T20:00:00': {'location': 'Pau', 'salle': 'Zenith De Pau', 'price': 52.5}, '2023-05-12T20:30:00': {'location': 'Narbonne', 'salle': 'Narbonne Arena', 'price': 52.5}, '2023-05-13T20:30:00': {'location': 'Toulon', 'salle': 'Zenith Omega A Toulon', 'price': 52.5}, '2023-05-20T20:00:00': {'location': 'Nantes', 'salle': 'Zenith De Nantes Metropole', 'price': None}, '2023-05-21T20:30:00': {'location': 'Nantes', 'salle': 'Zenith De Nantes Metropole', 'price': 57.0}, '2023-05-27T20:30:00': {'location': 'Rennes', 'salle': 'Le Liberte A Rennes', 'price': None}, '2023-05-28T20:00:00': {'location': 'Amiens', 'salle': \"Zenith D'amiens\", 'price': 52.5}, '2023-10-06T20:30:00': {'location': 'Rouen', 'salle': 'Zenith De Rouen / Grand Quevilly', 'price': 52.5}, '2023-10-07T20:30:00': {'location': 'Reims', 'salle': 'Reims Arena', 'price': 52.5}, '2023-10-14T20:30:00': {'location': 'Bordeaux', 'salle': 'Arkea Arena - Bordeaux', 'price': 537.0}, '2023-10-20T20:30:00': {'location': 'Saint Etienne', 'salle': 'Zenith De Saint Etienne', 'price': 52.5}, '2023-10-21T20:30:00': {'location': 'Marseille', 'salle': 'Le Dome De Marseille', 'price': 52.5}, '2023-10-22T20:00:00': {'location': 'Montpellier', 'salle': 'Sud De France Arena Montpellier', 'price': 52.5}, '2023-10-27T20:30:00': {'location': 'Orleans', 'salle': \"Arena D'orleans\", 'price': 52.5}, '2023-10-28T20:30:00': {'location': 'Lyon', 'salle': 'Halle Tony Garnier (Htg)', 'price': 52.5}, '2023-10-29T20:30:00': {'location': 'Nice', 'salle': 'Palais Nikaia', 'price': 52.5}, '2023-11-03T20:30:00': {'location': 'Eckbolsheim', 'salle': 'Zenith Europe De Strasbourg', 'price': 52.5}, '2023-11-04T20:30:00': {'location': 'Amneville', 'salle': 'Le Galaxie A Amneville', 'price': 52.5}, '2023-11-09T00:00:00': {'location': 'Geneve', 'salle': 'Geneva Arena', 'price': None}, '2023-11-17T20:30:00': {'location': 'Dijon', 'salle': 'Zenith De Dijon', 'price': 52.5}, '2023-11-18T20:30:00': {'location': 'Grenoble', 'salle': 'Palais Des Sports De Grenoble', 'price': 52.5}, '2023-12-08T20:00:00': {'location': 'Nanterre', 'salle': 'Paris La Defense Arena', 'price': 62.5}, '2023-01-18T20:30:00': {'location': 'Brest', 'salle': 'La Carene A Brest', 'price': 62.5}, '2023-01-14T20:30:00': {'location': 'Roubaix', 'salle': 'La Condition Publique', 'price': 62.5}, '2023-01-13T20:00:00': {'location': 'Rouen', 'salle': 'Le 106 A Rouen', 'price': 62.5}}, 'spotify_id': '5mmEMfYChd6MImBagU7zCs', 'followers': {'13/01/2023': 1678825, '19/01/2023': 1684319, '20/01/2023': 1685174}, 'popularity': 65}, {'_id': 'POMME', 'concerts': {'2022-05-15T20:00:00': {'location': 'Bruxelles', 'salle': 'Eglise Notre Dame De Laeken', 'price': 45.0}, '2023-01-21T20:00:00': {'location': 'Nimes', 'salle': 'Paloma', 'price': None}, '2023-01-28T20:30:00': {'location': 'Geneve', 'salle': 'Alhambra A Geneve', 'price': 596.0}, '2023-01-29T20:30:00': {'location': 'Lausanne', 'salle': 'Les Docks A Lausanne', 'price': None}, '2023-01-30T20:00:00': {'location': 'Zurich', 'salle': 'Kaufleuten A Zurich', 'price': 48.5}, '2023-02-02T20:00:00': {'location': 'Ramonville', 'salle': 'Le Bikini', 'price': None}, '2023-02-03T20:30:00': {'location': 'Merignac', 'salle': 'Le Krakatoa', 'price': None}, '2023-02-04T20:30:00': {'location': 'Coutances', 'salle': 'Theatre Municipal De Coutances', 'price': None}, '2023-02-16T20:30:00': {'location': 'Nancy', 'salle': \"L'autre Canal\", 'price': None}, '2023-02-17T20:30:00': {'location': 'Saint Etienne', 'salle': 'Le Fil A Saint Etienne', 'price': None}, '2023-02-18T20:30:00': {'location': 'Besancon', 'salle': 'La Rodia', 'price': None}, '2023-02-23T20:00:00': {'location': 'Strasbourg', 'salle': 'La Laiterie', 'price': None}, '2023-02-24T20:00:00': {'location': 'Reims', 'salle': 'La Cartonnerie A Reims', 'price': None}, '2023-03-01T20:00:00': {'location': 'Nantes', 'salle': 'Stereolux A Nantes', 'price': None}, '2023-03-02T20:30:00': {'location': 'Rennes', 'salle': 'Le Mem A Rennes', 'price': None}, '2023-03-03T20:00:00': {'location': 'Rouen', 'salle': 'Le 106 A Rouen', 'price': None}, '2023-03-07T20:30:00': {'location': 'Lille', 'salle': 'Aeronef', 'price': None}, '2023-03-08T20:00:00': {'location': 'Bruxelles', 'salle': 'Cirque Royal De Bruxelles - Koninklijk Circus  (Le Botanique)', 'price': None}, '2023-03-09T20:30:00': {'location': 'Esch sur Alzette', 'salle': 'Rockhal', 'price': 35}, '2023-03-16T20:30:00': {'location': 'Dijon', 'salle': 'La Vapeur De Dijon', 'price': None}, '2023-03-17T20:30:00': {'location': 'Clermont Ferrand', 'salle': 'La Cooperative De Mai', 'price': None}, '2023-03-18T20:00:00': {'location': 'Grenoble', 'salle': 'La Belle Electrique A Grenoble', 'price': None}, '2023-03-22T20:30:00': {'location': 'Brest', 'salle': 'La Carene A Brest', 'price': None}, '2023-03-23T20:30:00': {'location': 'Poitiers', 'salle': 'Theatre Auditorium (Tap) A Poitiers', 'price': None}, '2023-03-24T20:30:00': {'location': 'Creil', 'salle': 'La Faiencerie / Theatre De Creil', 'price': None}, '2023-03-28T19:30:00': {'location': 'Villeurbanne', 'salle': 'Transbordeur', 'price': None}, '2023-03-29T20:00:00': {'location': 'Marseille', 'salle': 'Le Cepac Silo - Marseille', 'price': 35.5}, '2023-04-03T20:30:00': {'location': 'Paris', 'salle': \"L'olympia\", 'price': None}, '2023-04-04T20:30:00': {'location': 'Paris', 'salle': \"L'olympia\", 'price': None}, '2023-10-06T20:00:00': {'location': 'Toulouse', 'salle': 'Halle Aux Grains De Toulouse', 'price': 39.0}, '2023-10-15T18:00:00': {'location': 'Nantes', 'salle': 'Cite Des Congres Nantes Atlantique', 'price': 35.5}, '2023-10-17T20:00:00': {'location': 'Lille', 'salle': 'Theatre Sebastopol', 'price': 38.5}, '2023-10-18T20:00:00': {'location': 'La Rochelle', 'salle': 'La Sirene A La Rochelle', 'price': 38.5}, '2023-10-30T20:30:00': {'location': 'Zurich', 'salle': 'Kaufleuten A Zurich', 'price': 550.0}, '2023-11-11T20:00:00': {'location': 'Rennes', 'salle': 'Le Liberte A Rennes', 'price': 37.0}, '2023-11-14T20:00:00': {'location': 'Bruxelles', 'salle': 'Forest National', 'price': 47.0}, '2023-11-16T20:00:00': {'location': 'Paris', 'salle': 'Zenith De Paris La Villette', 'price': 209.0}, '2023-11-26T18:00:00': {'location': 'Montpellier', 'salle': 'Opera Berlioz / Le Corum A Montpellier', 'price': 383.0}, '2023-11-29T20:30:00': {'location': 'Bordeaux', 'salle': 'Theatre Femina', 'price': 45.0}}, 'spotify_id': '6e3pZKXUxrPfnUPJ960Hd9', 'followers': {'13/01/2023': 520424, '19/01/2023': 522643, '20/01/2023': 522946}, 'popularity': 63}, {'_id': 'ANGELE', 'concerts': {'2022-04-20T20:00:00': {'location': 'Reims', 'salle': 'Reims Arena', 'price': 53.5}, '2022-12-19T20:00:00': {'location': 'Bruxelles', 'salle': 'Forest National', 'price': 53.5}, '2022-12-10T18:30:00': {'location': 'Anvers', 'salle': \"Palais Des Sports D'anvers / Antwerps Sportpaleis\", 'price': 53.5}, '2022-12-03T20:00:00': {'location': 'Nanterre', 'salle': 'Paris La Defense Arena', 'price': 53.5}, '2022-12-02T20:00:00': {'location': 'Nanterre', 'salle': 'Paris La Defense Arena', 'price': 53.5}, '2022-11-26T20:00:00': {'location': 'Eckbolsheim', 'salle': 'Zenith Europe De Strasbourg', 'price': 53.5}, '2022-11-25T20:00:00': {'location': 'Amneville', 'salle': 'Le Galaxie A Amneville', 'price': 53.5}, '2022-11-22T20:00:00': {'location': 'Lille', 'salle': 'Zenith De Lille - Arena', 'price': 53.5}, '2022-11-21T20:00:00': {'location': 'Lille', 'salle': 'Zenith De Lille - Arena', 'price': 53.5}, '2022-11-10T20:00:00': {'location': 'Pau', 'salle': 'Zenith De Pau', 'price': 53.5}, '2022-11-09T20:00:00': {'location': 'Limoges', 'salle': 'Zenith De Limoges', 'price': 53.5}, '2022-11-08T20:00:00': {'location': 'Rennes', 'salle': 'Musikhall - Parc Expo Rennes Aeroport', 'price': 53.5}, '2022-11-04T20:00:00': {'location': 'Lyon', 'salle': 'Halle Tony Garnier (Htg)', 'price': 53.5}, '2022-11-03T20:00:00': {'location': 'Lyon', 'salle': 'Halle Tony Garnier (Htg)', 'price': 53.5}, '2022-10-27T20:00:00': {'location': 'Montpellier', 'salle': 'Sud De France Arena Montpellier', 'price': 53.5}, '2022-10-26T20:00:00': {'location': 'Toulon', 'salle': 'Zenith Omega A Toulon', 'price': 53.5}, '2022-10-25T20:00:00': {'location': 'Aix En Provence', 'salle': \"Arena Du Pays D'aix\", 'price': 53.5}, '2022-10-20T20:00:00': {'location': 'Amiens', 'salle': \"Zenith D'amiens\", 'price': 53.5}, '2022-10-19T20:00:00': {'location': 'Rouen', 'salle': 'Zenith De Rouen / Grand Quevilly', 'price': 53.5}, '2022-10-18T20:00:00': {'location': 'Caen', 'salle': 'Zenith De Caen', 'price': 53.5}, '2022-10-13T20:00:00': {'location': 'Nantes', 'salle': 'Zenith De Nantes Metropole', 'price': 53.5}, '2022-10-12T20:00:00': {'location': 'Trelaze', 'salle': 'Arena Loire Trelaze (Angers)', 'price': 53.5}, '2022-10-07T20:00:00': {'location': 'Bordeaux', 'salle': 'Arkea Arena - Bordeaux', 'price': 53.5}, '2022-05-18T20:00:00': {'location': 'Nantes', 'salle': 'Zenith De Nantes Metropole', 'price': 53.5}, '2022-05-16T20:00:00': {'location': 'Bruxelles', 'salle': 'Forest National', 'price': 53.5}, '2022-05-12T20:00:00': {'location': 'Grenoble', 'salle': 'Palais Des Sports De Grenoble', 'price': 53.5}, '2022-05-11T20:00:00': {'location': 'Nice', 'salle': 'Palais Nikaia', 'price': 53.5}, '2022-05-10T20:00:00': {'location': 'Marseille', 'salle': 'Le Dome De Marseille', 'price': 53.5}, '2022-05-05T20:00:00': {'location': 'Toulouse', 'salle': 'Zenith De Toulouse', 'price': 53.5}, '2022-05-04T20:00:00': {'location': 'Bordeaux', 'salle': 'Arkea Arena - Bordeaux', 'price': 53.5}, '2022-05-03T18:30:00': {'location': 'Londres', 'salle': 'The o2 Arena A Londres', 'price': 53.5}, '2022-05-02T18:30:00': {'location': 'Londres', 'salle': 'The o2 Arena A Londres', 'price': 53.5}}, 'spotify_id': '0ZCO8oVkMj897cKgFH7fRW', 'followers': {'13/01/2023': 6586798, '19/01/2023': 6606997, '20/01/2023': 6610160}, 'popularity': 77}, {'_id': 'TRYO', 'concerts': {'2023-01-05T20:00:00': {'location': 'Lille', 'salle': 'Theatre Sebastopol', 'price': 42.0}, '2023-01-19T20:00:00': {'location': 'Saint Quentin', 'salle': 'Le Splendid De Saint Quentin', 'price': 42.0}, '2023-01-20T20:30:00': {'location': 'Dijon', 'salle': 'La Vapeur De Dijon', 'price': None}, '2023-01-21T20:00:00': {'location': 'Les Houches', 'salle': 'Espace Olca Aux Houches', 'price': 315}, '2023-01-27T20:30:00': {'location': 'Fourmies', 'salle': 'Theatre Municipal Jean Ferrat A Fourmies', 'price': None}, '2023-01-28T20:30:00': {'location': 'Porcieu Amblagnieu', 'salle': 'Salle Des Marinieres A Porcieu', 'price': 39}, '2023-01-31T21:00:00': {'location': 'Aulnay Sous Bois', 'salle': 'Theatre Jacques Prevert A Aulnay Sous Bois', 'price': 363}, '2023-02-01T20:30:00': {'location': 'Carcassonne', 'salle': 'Theatre Jean Alary A Carcassonne', 'price': 436.0}, '2023-02-02T20:00:00': {'location': 'Montelimar', 'salle': 'Palais Des Congres Charles Aznavour  De Montelimar', 'price': 42.0}, '2023-02-03T20:30:00': {'location': 'La Souterraine', 'salle': 'Centre Culturel Yves Furet', 'price': 419}, '2023-03-01T20:00:00': {'location': 'Voiron', 'salle': 'Le Grand Angle A Voiron', 'price': 45}, '2023-03-02T20:00:00': {'location': 'Mutzig', 'salle': 'Le Dome A Mutzig', 'price': 42.5}, '2023-03-03T00:00:00': {'location': 'Grande Synthe', 'salle': 'Palais Du Littoral A Grande Synthe', 'price': None}, '2023-03-04T20:30:00': {'location': 'Forges les Eaux', 'salle': 'Espace De Forges Les Eaux', 'price': None}, '2023-03-09T20:00:00': {'location': 'Rodez', 'salle': 'Amphitheatre De Rodez', 'price': 27}, '2023-03-10T20:00:00': {'location': 'Firminy', 'salle': 'Le Firmament A Firminy', 'price': 42}, '2023-03-11T20:30:00': {'location': 'Fougeres', 'salle': 'Espace Aumaillerie A Fougere / La Selle En Luitre', 'price': 42.0}, '2023-03-14T19:30:00': {'location': 'Paris', 'salle': 'Theatre Des Folies Bergere', 'price': 39.0}, '2023-03-15T20:30:00': {'location': 'Villeparisis', 'salle': '(Ccjp) Centre Culturel Jacques Prevert A Villeparisis', 'price': 39.0}, '2023-03-17T20:30:00': {'location': 'Amneville', 'salle': 'Seven Casino A Amneville', 'price': 204.5}, '2023-03-18T20:00:00': {'location': 'Plougastel', 'salle': 'Espace Avel Vor A Plougastel', 'price': 40.5}, '2023-03-21T21:00:00': {'location': 'Courchevel', 'salle': \"Gymnase De L'envolee De Courchevel\", 'price': 15}, '2023-03-22T20:30:00': {'location': 'Vierzon', 'salle': 'Theatre Mac Nab De Vierzon', 'price': 495}, '2023-03-23T20:00:00': {'location': 'Beziers', 'salle': 'Zinga Zanga', 'price': 43.5}, '2023-03-24T20:30:00': {'location': 'Niort', 'salle': \"L'acclameur A Niort\", 'price': 42.0}, '2023-03-28T20:45:00': {'location': 'Maisons Alfort', 'salle': 'Theatre Claude Debussy A Maisons Alfort', 'price': 30.0}, '2023-03-30T20:30:00': {'location': 'Deols', 'salle': 'M.A.Ch (Mach) 36 A Deols (Chateauroux)', 'price': 42.0}, '2023-03-31T20:00:00': {'location': 'Blois', 'salle': 'Le Jeu De Paume De Blois', 'price': 34.5}, '2023-04-01T20:15:00': {'location': 'Dammarie les Lys', 'salle': 'Espace Pierre Bachelet / La Cartonnerie A Dammarie Les Lys', 'price': 42.5}, '2023-04-05T20:30:00': {'location': 'Saint Malo', 'salle': 'La Nouvelle Vague A Saint Malo', 'price': 35}, '2023-04-06T00:00:00': {'location': 'Sarreguemines', 'salle': 'Centre Culturel A Sarreguemines', 'price': None}, '2023-04-07T20:30:00': {'location': 'Sausheim', 'salle': 'Espace Dollfus Et Noack (Ed&N / Eden) A Sausheim', 'price': 433.0}, '2023-04-08T20:00:00': {'location': 'Lyon', 'salle': 'Bourse Du Travail A Lyon', 'price': 42.0}, '2023-04-13T20:30:00': {'location': 'Saint Dizier', 'salle': 'Les Fuseaux A Saint Dizier', 'price': 32}, '2023-04-14T21:00:00': {'location': 'Vitrolles', 'salle': 'Salle Guy Obino De Vitrolles', 'price': 35.0}, '2023-04-15T20:30:00': {'location': 'Montfavet', 'salle': 'Salle Polyvalente Felicien Florent A Montfavet', 'price': 42.0}, '2023-01-14T20:30:00': {'location': 'Montceau Les Mines', 'salle': \"L'embarcadere A Montceau Les Mines\", 'price': 42.0}, '2023-01-13T20:30:00': {'location': 'Ondres', 'salle': 'Salle Capranie A Ondres', 'price': 42.0}, '2023-01-08T20:00:00': {'location': 'Ramonville', 'salle': 'Le Bikini', 'price': 42.0}, '2023-01-07T20:30:00': {'location': 'Saint Loubes', 'salle': 'La Coupole De Saint Loubes', 'price': 42.0}, '2023-01-06T20:30:00': {'location': 'Mezidon Canon', 'salle': 'La Loco A Mezidon Canon', 'price': 42.0}}, 'spotify_id': '4ZP3CHz28XWVLGiaVVWuLj', 'followers': {'13/01/2023': 484480, '19/01/2023': 485008, '20/01/2023': 485083}, 'popularity': 55}, {'_id': 'COLDPLAY', 'concerts': {'2022-07-16T18:30:00': {'location': 'Paris', 'salle': 'Stade De France (Saint Denis)', 'price': 4280.0}, '2023-05-17T18:00:00': {'location': 'Coimbra (Coimbre)', 'salle': 'Stadium A Coimbre (Coimbra)', 'price': 4280.0}, '2023-05-31T17:00:00': {'location': 'Manchester', 'salle': 'Etihad Stadium Manchester', 'price': 4280.0}, '2023-06-01T17:00:00': {'location': 'Manchester', 'salle': 'Etihad Stadium Manchester', 'price': 4280.0}, '2023-06-06T17:00:00': {'location': 'Cardiff', 'salle': 'Cardiff City Stadium', 'price': 4280.0}, '2022-08-12T00:00:00': {'location': 'Londres', 'salle': 'Stade De Wembley', 'price': 4280.0}, '2022-08-09T00:00:00': {'location': 'Bruxelles', 'salle': 'Stade Du Roi Baudouin', 'price': 4280.0}, '2022-08-08T00:00:00': {'location': 'Bruxelles', 'salle': 'Stade Du Roi Baudouin', 'price': 4280.0}, '2022-08-06T00:00:00': {'location': 'Bruxelles', 'salle': 'Stade Du Roi Baudouin', 'price': 4280.0}, '2022-08-05T00:00:00': {'location': 'Bruxelles', 'salle': 'Stade Du Roi Baudouin', 'price': 4280.0}, '2022-07-20T18:30:00': {'location': 'Paris', 'salle': 'Stade De France (Saint Denis)', 'price': 4280.0}, '2022-07-19T18:30:00': {'location': 'Paris', 'salle': 'Stade De France (Saint Denis)', 'price': 4280.0}, '2022-07-17T21:00:00': {'location': 'Paris', 'salle': 'Stade De France (Saint Denis)', 'price': 4280.0}}, 'spotify_id': '4gzpq5DPGxSnKTe4SA8HAU', 'followers': {'13/01/2023': 41097466, '19/01/2023': 41247314, '20/01/2023': 41270696}, 'popularity': 89}, {'_id': 'ADE', 'concerts': {'2022-07-01T20:00:00': {'location': 'Trelaze', 'salle': 'Parc Du Vissoir A Trelaze', 'price': 228}, '2023-01-19T20:00:00': {'location': 'Tourcoing', 'salle': 'Le Grand Mix', 'price': 228}, '2023-01-20T20:00:00': {'location': 'Rouen', 'salle': 'Le 106 A Rouen', 'price': None}, '2023-01-25T20:30:00': {'location': 'Cognac', 'salle': 'Les Abattoirs De Cognac (West Rock)', 'price': None}, '2023-01-26T20:00:00': {'location': 'Toulouse', 'salle': 'Metronum (La Music Box) A Toulouse', 'price': None}, '2023-01-27T20:30:00': {'location': 'Cenon', 'salle': 'Le Rocher De Palmer A Cenon', 'price': 19.5}, '2023-01-28T20:30:00': {'location': 'Nantes', 'salle': 'Stereolux A Nantes', 'price': None}, '2023-02-01T19:30:00': {'location': 'Paris', 'salle': 'La Maroquinerie', 'price': 22}, '2023-02-02T19:30:00': {'location': 'Paris', 'salle': 'La Maroquinerie', 'price': None}, '2023-02-22T18:30:00': {'location': 'Le Sauze', 'salle': 'Front De Neige Du Sauze', 'price': None}, '2023-03-03T20:00:00': {'location': 'Strasbourg', 'salle': 'La Laiterie', 'price': 24}, '2023-03-04T20:00:00': {'location': 'Reims', 'salle': 'La Cartonnerie A Reims', 'price': 249}, '2023-03-09T19:30:00': {'location': 'Bruxelles', 'salle': \"L'orangerie (Le Botanique)\", 'price': 245.0}, '2023-03-10T20:30:00': {'location': 'Beauvais', 'salle': \"L'ouvre BoÎTe - Asca Beauvais\", 'price': 197}, '2023-03-11T20:00:00': {'location': 'Magny le Hongre', 'salle': 'File 7', 'price': 168}, '2023-03-15T19:30:00': {'location': 'Lyon', 'salle': 'Ninkasi Gerland / Kao', 'price': 22}, '2023-03-17T19:30:00': {'location': 'Montpellier', 'salle': 'Le Rockstore', 'price': 218}, '2023-03-23T20:30:00': {'location': 'Epinal', 'salle': 'La Souris Verte A Epinal', 'price': 23}, '2023-03-24T20:30:00': {'location': 'Metz', 'salle': 'La Boite A Musique (Bam) A Metz', 'price': 208}, '2023-03-29T20:30:00': {'location': 'La Roche Sur Yon', 'salle': 'Quai M', 'price': 19.0}, '2023-03-30T20:30:00': {'location': 'Seignosse Le Penon', 'salle': 'Le Tube - Les Bourdaines A Seignosse', 'price': 26}, '2023-03-31T21:00:00': {'location': 'Lons', 'salle': 'Espace James Chambaud A Lons', 'price': 242}, '2023-04-01T20:00:00': {'location': 'Le Mans', 'salle': \"Centre Des Expos Du Mans - Le Forum / L'oasis\", 'price': 23}, '2023-04-06T19:30:00': {'location': 'Paris', 'salle': 'La Cigale A Paris', 'price': None}, '2023-04-07T19:30:00': {'location': 'Paris', 'salle': 'La Cigale A Paris', 'price': 275}, '2023-04-13T20:30:00': {'location': 'Ballan Mire', 'salle': 'La Parenthese A Ballan Mire', 'price': 21.0}, '2023-04-14T21:00:00': {'location': 'Morlaix', 'salle': 'Le Sew A Morlaix', 'price': 228}, '2023-01-18T20:00:00': {'location': 'Herouville Saint Clair', 'salle': 'Big Band Cafe / Bbc', 'price': 228}, '2023-01-13T20:30:00': {'location': 'Sannois', 'salle': 'Emb De Sannois', 'price': 228}}, 'spotify_id': '4dpARuHxo51G3z768sgnrY', 'followers': {'13/01/2023': 45432084, '19/01/2023': 45617584, '20/01/2023': 45646574}, 'popularity': 87}, {'_id': 'GOLDMEN (Tribute to J.J Goldman)', 'concerts': {'2023-01-20T20:30:00': {'location': 'Deols', 'salle': 'M.A.Ch (Mach) 36 A Deols (Chateauroux)', 'price': 39.0}, '2023-01-22T17:00:00': {'location': 'Pau', 'salle': 'Zenith De Pau', 'price': 39.0}, '2023-01-27T20:30:00': {'location': 'Montluçon', 'salle': 'Centre Athanor A Montlucon', 'price': 39.0}, '2023-01-28T20:00:00': {'location': 'Reims', 'salle': 'Reims Arena', 'price': 42.5}, '2023-01-29T17:30:00': {'location': 'Mondorf les Bains', 'salle': 'Casino 2000 (Chapito / Purple Lounge) A Mondorf Les Bains', 'price': 44.0}, '2023-02-03T20:00:00': {'location': 'Maxeville', 'salle': 'Zenith De Nancy', 'price': 40.5}, '2023-02-04T20:30:00': {'location': 'Margny les Compiegne', 'salle': 'Le Tigre A Margny Les Compiegne', 'price': 44.0}, '2023-03-04T20:30:00': {'location': 'Amiens', 'salle': \"Zenith D'amiens\", 'price': 40.5}, '2023-03-18T20:30:00': {'location': 'Saint Raphael', 'salle': 'Esterel Arena A St Raphael', 'price': 275}, '2023-04-29T20:00:00': {'location': 'Voiron', 'salle': 'Le Grand Angle A Voiron', 'price': 46.5}, '2023-06-03T20:00:00': {'location': 'Porcieu Amblagnieu', 'salle': 'Salle Des Marinieres A Porcieu', 'price': 228.5}, '2023-06-04T17:00:00': {'location': 'Montpellier', 'salle': 'Zenith Sud De Montpellier', 'price': 39.0}, '2023-06-09T20:00:00': {'location': 'Bruxelles', 'salle': 'Cirque Royal De Bruxelles - Koninklijk Circus  (Le Botanique)', 'price': 4524.0}, '2023-06-10T20:30:00': {'location': 'Paris', 'salle': \"L'olympia\", 'price': 54.0}, '2023-06-11T17:30:00': {'location': 'Liege', 'salle': 'Theatre Le Forum A Liege', 'price': 44.0}, '2023-10-06T20:30:00': {'location': 'Le Havre', 'salle': \"Centre De Congres Et D'expositions Le Carre Des Docks Au Havre\", 'price': 44.0}, '2023-10-07T20:30:00': {'location': 'Nantes', 'salle': 'Zenith De Nantes Metropole', 'price': 40.5}, '2023-10-13T20:30:00': {'location': 'Montbeliard', 'salle': \"L'axone A Montbeliard\", 'price': 44.0}, '2023-10-14T20:30:00': {'location': 'Montelimar', 'salle': 'Palais Des Congres Charles Aznavour  De Montelimar', 'price': 44.0}, '2023-10-15T17:30:00': {'location': 'Riorges', 'salle': 'Le Scarabee A Riorges (Roanne)', 'price': 44.0}, '2023-11-17T20:30:00': {'location': 'Saint Quentin', 'salle': 'Le Splendid De Saint Quentin', 'price': 44.0}, '2023-11-18T20:30:00': {'location': 'Troyes', 'salle': 'Le Cube Troyes Champagne Expo', 'price': 44.0}, '2023-11-25T20:30:00': {'location': 'Rouen', 'salle': 'Zenith De Rouen / Grand Quevilly', 'price': 44.0}, '2023-11-26T17:30:00': {'location': 'Beauvais', 'salle': 'Elispace', 'price': 44.0}, '2023-12-02T20:30:00': {'location': 'Saint Etienne', 'salle': 'Zenith De Saint Etienne', 'price': 44.0}, '2023-12-03T17:30:00': {'location': 'Toulon', 'salle': 'Zenith Omega A Toulon', 'price': 44.0}, '2023-12-08T20:30:00': {'location': 'Alencon', 'salle': \"Anova / Parc Des Expositions D'alencon\", 'price': 44.0}, '2023-12-09T20:30:00': {'location': 'Limoges', 'salle': 'Zenith De Limoges', 'price': 44.0}, '2023-12-10T17:30:00': {'location': 'Biarritz', 'salle': 'La Gare Du Midi', 'price': 44.0}, '2023-12-15T20:30:00': {'location': 'Tours', 'salle': 'Vinci Centre De Congres A Tours', 'price': 54.0}, '2023-12-16T20:30:00': {'location': 'Perigueux', 'salle': 'Le Palio A Boulazac (Perigueux)', 'price': 44.0}, '2023-12-17T17:30:00': {'location': 'Chasseneuil du Poitou', 'salle': 'Palais Des Congres / Le Futuroscope De Poitiers (Jaunay)', 'price': 44.0}, '2024-01-12T00:00:00': {'location': 'Trelaze', 'salle': 'Arena Loire Trelaze (Angers)', 'price': 44.0}, '2024-01-13T20:30:00': {'location': 'Laval', 'salle': 'Espace Mayenne A Laval', 'price': 44.0}, '2024-01-14T17:00:00': {'location': 'Orleans', 'salle': \"Zenith D'orleans\", 'price': 44.0}, '2024-01-19T20:30:00': {'location': 'Brest', 'salle': 'Brest Arena', 'price': 44.0}, '2024-01-20T20:30:00': {'location': 'Mouilleron Le Captif', 'salle': 'Vendespace A Mouilleron Le Captif (La Roche Sur Yon)', 'price': 44.0}, '2024-01-21T17:30:00': {'location': 'Caen', 'salle': 'Zenith De Caen', 'price': 44.0}, '2024-01-26T20:30:00': {'location': 'Bordeaux', 'salle': 'Arkea Arena - Bordeaux', 'price': 44.0}, '2024-03-23T20:30:00': {'location': 'Toulouse', 'salle': 'Zenith De Toulouse', 'price': 44.0}, '2024-05-25T20:30:00': {'location': 'Dijon', 'salle': 'Zenith De Dijon', 'price': 44.0}, '2023-01-12T20:30:00': {'location': 'Bethune', 'salle': 'Theatre Municipal De Bethune', 'price': 44.0}, '2023-01-06T20:30:00': {'location': 'Lille', 'salle': 'Zenith De Lille - Arena', 'price': 44.0}}}, {'_id': 'STING', 'concerts': {'2022-03-24T20:00:00': {'location': 'Rouen', 'salle': 'Zenith De Rouen / Grand Quevilly', 'price': 44.0}}, 'spotify_id': '0Ty63ceoRnnJKVEYP0VQpk', 'followers': {'13/01/2023': 2807838}, 'popularity': 72}, {'_id': 'GAZO', 'concerts': {'2022-09-24T20:30:00': {'location': 'Saint Etienne', 'salle': 'Le Fil A Saint Etienne', 'price': 47.5}, '2023-02-02T18:30:00': {'location': 'Dijon', 'salle': 'Zenith De Dijon', 'price': 35}, '2023-02-03T18:00:00': {'location': 'Reims', 'salle': 'Reims Arena', 'price': 35}, '2023-10-19T20:00:00': {'location': 'Nantes', 'salle': 'Zenith De Nantes Metropole', 'price': 39.5}, '2023-10-27T20:00:00': {'location': 'Lille', 'salle': 'Zenith De Lille - Arena', 'price': 40.0}, '2023-11-09T20:00:00': {'location': 'Lyon', 'salle': 'Halle Tony Garnier (Htg)', 'price': 40.0}, '2023-11-16T20:00:00': {'location': 'Paris', 'salle': 'Accorhotels Arena - Popb Bercy', 'price': 47.5}, '2022-12-04T20:00:00': {'location': 'Paris', 'salle': 'Zenith De Paris La Villette', 'price': 47.5}, '2022-12-02T20:00:00': {'location': 'Herouville Saint Clair', 'salle': 'Big Band Cafe / Bbc', 'price': 47.5}, '2022-11-25T20:30:00': {'location': 'Saint Malo', 'salle': 'La Nouvelle Vague A Saint Malo', 'price': 47.5}, '2022-11-17T20:00:00': {'location': 'Ramonville', 'salle': 'Le Bikini', 'price': 47.5}, '2022-11-10T20:00:00': {'location': 'Clermont Ferrand', 'salle': 'La Cooperative De Mai', 'price': 47.5}}, 'spotify_id': '5gqmbbfjcikQBzPB5Hv13I', 'followers': {'13/01/2023': 1057666, '19/01/2023': 1079997, '20/01/2023': 1083574}, 'popularity': 77}, {'_id': 'DROPKICK MURPHYS', 'concerts': {'2022-01-28T19:00:00': {'location': 'Paris', 'salle': 'Zenith De Paris La Villette', 'price': 44}, '2023-01-24T18:00:00': {'location': 'Esch sur Alzette', 'salle': 'Rockhal', 'price': 515}, '2023-01-25T20:00:00': {'location': 'Bruxelles', 'salle': 'Forest National', 'price': 534}, '2023-02-10T19:00:00': {'location': 'Paris', 'salle': 'Zenith De Paris La Villette', 'price': 46}, '2023-02-11T19:00:00': {'location': 'Paris', 'salle': 'Zenith De Paris La Villette', 'price': None}, '2023-02-12T18:00:00': {'location': 'Nantes', 'salle': 'Zenith De Nantes Metropole', 'price': 44}, '2022-07-26T20:30:00': {'location': 'Clermont Ferrand', 'salle': 'La Cooperative De Mai', 'price': 44}, '2022-07-14T18:00:00': {'location': 'Sarrebruck (Saarbrucken)', 'salle': 'E. Werk Heinrich', 'price': 44}, '2022-07-02T20:00:00': {'location': 'Rouen', 'salle': 'Zenith De Rouen / Grand Quevilly', 'price': 44}, '2022-02-13T18:00:00': {'location': 'Nantes', 'salle': 'Zenith De Nantes Metropole', 'price': 44}, '2022-02-05T00:00:00': {'location': 'Bale (Basel)', 'salle': 'St Jakobshalle A Bale', 'price': 44}, '2022-02-01T20:00:00': {'location': 'Bruxelles', 'salle': 'Forest National', 'price': 44}, '2022-01-29T19:00:00': {'location': 'Paris', 'salle': 'Zenith De Paris La Villette', 'price': 44}}, 'spotify_id': '7w9jdhcgHNdiPeNPUoFSlx', 'followers': {'13/01/2023': 1135953, '19/01/2023': 1137826, '20/01/2023': 1138125}, 'popularity': 63}, {'_id': 'IZIA', 'concerts': {'2022-06-01T20:00:00': {'location': 'Paris', 'salle': 'La Maroquinerie', 'price': 50.5}, '2023-01-19T20:00:00': {'location': 'Ramonville', 'salle': 'Le Bikini', 'price': 50.5}, '2023-01-20T20:30:00': {'location': 'Merignac', 'salle': 'Le Krakatoa', 'price': None}, '2023-01-21T21:00:00': {'location': 'Rennes', 'salle': 'Le Mem A Rennes', 'price': None}, '2023-01-25T20:30:00': {'location': 'La Roche Sur Yon', 'salle': 'Quai M', 'price': None}, '2023-01-26T20:30:00': {'location': 'Biarritz', 'salle': 'Atabal A Biarritz', 'price': None}, '2023-01-27T20:30:00': {'location': 'Angouleme', 'salle': 'La Nef A Angouleme', 'price': None}, '2023-01-28T20:30:00': {'location': 'Morlaix', 'salle': 'Le Sew A Morlaix', 'price': None}, '2023-02-01T20:00:00': {'location': 'Villeurbanne', 'salle': 'Transbordeur', 'price': None}, '2023-02-02T20:00:00': {'location': 'Grenoble', 'salle': 'La Belle Electrique A Grenoble', 'price': None}, '2023-02-03T20:30:00': {'location': 'Saint Etienne', 'salle': 'Le Fil A Saint Etienne', 'price': 33}, '2023-02-08T00:00:00': {'location': 'Lille', 'salle': 'Aeronef', 'price': None}, '2023-02-09T20:00:00': {'location': 'Paris', 'salle': 'Zenith De Paris La Villette', 'price': None}, '2023-02-11T00:00:00': {'location': 'Bruxelles', 'salle': 'Ancienne Belgique (Ab)', 'price': None}, '2023-04-13T20:00:00': {'location': 'Paris', 'salle': 'Zenith De Paris La Villette', 'price': 50.5}, '2023-01-18T20:00:00': {'location': 'Marseille', 'salle': 'Le Cepac Silo - Marseille', 'price': 50.5}}, 'spotify_id': '6T08mUIMB32dtqq5ryxQZ3', 'followers': {'13/01/2023': 79754, '19/01/2023': 80010, '20/01/2023': 80052}, 'popularity': 54}, {'_id': 'SLIMANE', 'concerts': {'2022-05-11T20:00:00': {'location': 'Caen', 'salle': 'Zenith De Caen', 'price': 515.0}}, 'spotify_id': '4OV6uYSnHxSYkjDYuBVBUz', 'followers': {'13/01/2023': 1103825}, 'popularity': 66}, {'_id': 'GAEL FAYE', 'concerts': {'2022-05-27T20:30:00': {'location': 'Aix En Provence', 'salle': \"6mic (Salle Des Musiques Actuelles Du Pays D'aix)\", 'price': None}, '2023-03-10T20:00:00': {'location': 'Paris', 'salle': 'Salle Pleyel', 'price': None}, '2023-03-11T20:00:00': {'location': 'Paris', 'salle': 'Salle Pleyel', 'price': None}, '2023-03-12T20:00:00': {'location': 'Paris', 'salle': 'Salle Pleyel', 'price': None}}, 'spotify_id': '69irZ4R8OsrLHjr6VmMmMg', 'followers': {'13/01/2023': 154336, '19/01/2023': 154808, '20/01/2023': 154884}, 'popularity': 61}, {'_id': \"JOK'AIR\", 'concerts': {'2022-10-23T18:30:00': {'location': 'Lille', 'salle': 'Aeronef', 'price': None}, '2022-10-22T19:30:00': {'location': 'Bruxelles', 'salle': \"L'orangerie (Le Botanique)\", 'price': None}, '2022-10-07T20:00:00': {'location': 'Saint Quentin', 'salle': 'La Manufacture A St Quentin', 'price': None}, '2022-10-01T21:00:00': {'location': 'Perpignan', 'salle': \"El Mediator / Theatre De L'archipel / Le Grenat / Le Carre A Perpignan\", 'price': None}, '2022-09-30T20:30:00': {'location': 'Cenon', 'salle': 'Le Rocher De Palmer A Cenon', 'price': None}, '2022-06-06T20:00:00': {'location': 'La Rochelle', 'salle': 'La Sirene A La Rochelle', 'price': None}, '2022-05-26T20:00:00': {'location': 'Montpellier', 'salle': 'Le Rockstore', 'price': None}, '2022-05-21T20:30:00': {'location': 'Metz', 'salle': 'La Boite A Musique (Bam) A Metz', 'price': None}, '2022-05-07T20:30:00': {'location': 'Orleans', 'salle': \"L'astrolabe A Orleans\", 'price': None}, '2022-05-06T00:00:00': {'location': 'La Rochelle', 'salle': 'La Sirene A La Rochelle', 'price': None}, '2022-05-05T19:30:00': {'location': 'Ramonville', 'salle': 'Le Bikini', 'price': None}, '2022-04-29T20:00:00': {'location': 'Amiens', 'salle': \"Zenith D'amiens\", 'price': None}, '2022-04-24T20:00:00': {'location': 'Villeurbanne', 'salle': 'Transbordeur', 'price': None}, '2022-04-16T20:30:00': {'location': 'Ergue Gaberic', 'salle': \"Centre Culturel L'athena  A Ergue Gaberic\", 'price': None}, '2022-04-15T20:30:00': {'location': 'Saint Malo', 'salle': 'La Nouvelle Vague A Saint Malo', 'price': None}, '2022-04-09T20:00:00': {'location': 'Saint Denis de Pile', 'salle': \"L'accordeur\", 'price': None}, '2022-03-26T20:00:00': {'location': 'Rouen', 'salle': 'Le 106 A Rouen', 'price': None}, '2022-03-25T20:00:00': {'location': 'Herouville Saint Clair', 'salle': 'Big Band Cafe / Bbc', 'price': None}, '2022-03-12T20:00:00': {'location': 'Nantes', 'salle': 'Warehouse A Nantes', 'price': None}, '2022-03-11T20:30:00': {'location': 'Morlaix', 'salle': 'Le Sew A Morlaix', 'price': None}, '2022-03-10T20:00:00': {'location': 'Rennes', 'salle': 'Le Mem A Rennes', 'price': None}, '2022-03-06T20:30:00': {'location': 'Cenon', 'salle': 'Le Rocher De Palmer A Cenon', 'price': None}, '2022-03-05T00:00:00': {'location': 'Seignosse Le Penon', 'salle': 'Le Tube - Les Bourdaines A Seignosse', 'price': None}, '2022-03-04T20:30:00': {'location': 'Angouleme', 'salle': 'La Nef A Angouleme', 'price': None}, '2022-02-27T20:00:00': {'location': 'Paris', 'salle': \"L'olympia\", 'price': None}, '2022-02-26T20:00:00': {'location': 'Montpellier', 'salle': 'Le Rockstore', 'price': None}, '2022-02-25T19:30:00': {'location': 'Marseille', 'salle': 'Espace Julien A Marseille', 'price': None}, '2022-02-24T20:00:00': {'location': 'Grenoble', 'salle': 'La Belle Electrique A Grenoble', 'price': None}, '2022-02-22T20:00:00': {'location': 'Paris', 'salle': \"L'olympia\", 'price': None}, '2022-02-20T18:30:00': {'location': 'Lille', 'salle': 'Aeronef', 'price': None}, '2022-02-19T20:00:00': {'location': 'Bruxelles', 'salle': \"L'orangerie (Le Botanique)\", 'price': None}, '2022-02-16T20:30:00': {'location': 'Ramonville', 'salle': 'Le Bikini', 'price': None}, '2022-02-12T20:00:00': {'location': 'Saint Denis de Pile', 'salle': \"L'accordeur\", 'price': None}, '2022-02-05T20:00:00': {'location': 'Rouen', 'salle': 'Le 106 A Rouen', 'price': None}, '2022-01-29T20:30:00': {'location': 'Orleans', 'salle': \"L'astrolabe A Orleans\", 'price': None}, '2022-01-28T20:00:00': {'location': 'La Rochelle', 'salle': 'La Sirene A La Rochelle', 'price': None}, '2022-01-22T20:30:00': {'location': 'Ergue Gaberic', 'salle': \"Centre Culturel L'athena  A Ergue Gaberic\", 'price': None}, '2022-01-21T20:30:00': {'location': 'Morlaix', 'salle': 'Le Sew A Morlaix', 'price': None}, '2022-01-20T20:00:00': {'location': 'Nantes', 'salle': 'Warehouse A Nantes', 'price': None}, '2022-01-19T20:00:00': {'location': 'Rennes', 'salle': 'Le Mem A Rennes', 'price': None}, '2022-01-13T20:00:00': {'location': 'Villeurbanne', 'salle': 'Transbordeur', 'price': None}}}, {'_id': 'SCH', 'concerts': {'2022-02-06T18:00:00': {'location': 'Amneville', 'salle': 'Le Galaxie A Amneville', 'price': 53.0}}, 'spotify_id': '5IcR3N7QB1j6KBL8eImZ8m', 'followers': {'13/01/2023': 4365017}, 'popularity': 73}, {'_id': 'GIMS', 'concerts': {'2022-02-01T20:30:00': {'location': 'Bordeaux', 'salle': 'Arkea Arena - Bordeaux', 'price': 77.0}}, 'spotify_id': '0GOx72r5AAEKRGQFn3xqXK', 'followers': {'13/01/2023': 3707750}, 'popularity': 73}, {'_id': 'JEAN-BAPTISTE GUEGAN', 'concerts': {'2022-01-20T20:30:00': {'location': 'Mondorf les Bains', 'salle': 'Casino 2000 (Chapito / Purple Lounge) A Mondorf Les Bains', 'price': 53.0}}, 'spotify_id': '1cypnZnCNwbiWN8QKmPTED', 'followers': {'13/01/2023': 16261}, 'popularity': 36}, {'_id': 'PLACEBO', 'concerts': {'2022-03-23T20:00:00': {'location': 'Paris', 'salle': 'Le Trianon', 'price': 53.0}}, 'spotify_id': '6RZUqkomCmb8zCRqc9eznB', 'followers': {'13/01/2023': 1710823}, 'popularity': 67}, {'_id': 'SOFIANE PAMART', 'concerts': {'2022-01-09T00:00:00': {'location': 'Bruxelles', 'salle': 'Ancienne Belgique (Ab)', 'price': 52.0}}, 'spotify_id': '4RB2EEsmLhQTOSVQQpDzNg', 'followers': {'13/01/2023': 139796}, 'popularity': 66}, {'_id': 'MORRISSEY', 'concerts': {'2023-03-13T20:00:00': {'location': 'Strasbourg', 'salle': 'Pmc - Salle Erasme / Palais De La Musique Et Des Congres A Strasbourg', 'price': 485.0}, '2023-03-08T20:00:00': {'location': 'Paris', 'salle': 'Salle Pleyel', 'price': 106.0}, '2023-03-09T20:00:00': {'location': 'Paris', 'salle': 'Salle Pleyel', 'price': 106.0}, '2023-03-12T20:00:00': {'location': 'Lyon', 'salle': 'Cite Internationale (Amphitheatre/Salle 3000/Auditorium Lumiere) A Lyon', 'price': 785.0}}, 'followers': {'19/01/2023': 959096, '20/01/2023': 959364}, 'popularity': 61}, {'_id': 'IGGY POP', 'concerts': {'2022-05-02T20:30:00': {'location': 'Lyon', 'salle': 'Cite Internationale (Amphitheatre/Salle 3000/Auditorium Lumiere) A Lyon', 'price': 652.0}, '2023-07-11T20:00:00': {'location': 'Decines', 'salle': 'Groupama Stadium Lyon', 'price': 652.0}, '2022-05-25T20:00:00': {'location': 'Reims', 'salle': 'Reims Arena', 'price': 652.0}, '2022-05-23T20:30:00': {'location': 'Strasbourg', 'salle': 'Pmc - Salle Erasme / Palais De La Musique Et Des Congres A Strasbourg', 'price': 652.0}, '2022-05-21T20:00:00': {'location': 'Bordeaux', 'salle': 'Opera National De Bordeaux / Grand Theatre/ Auditorium', 'price': 652.0}, '2022-05-19T20:00:00': {'location': 'Monaco', 'salle': 'Grimaldi Forum Monaco', 'price': 652.0}, '2022-05-17T20:30:00': {'location': 'Marseille', 'salle': 'Le Cepac Silo - Marseille', 'price': 652.0}, '2022-05-15T20:00:00': {'location': 'Toulouse', 'salle': 'Halle Aux Grains De Toulouse', 'price': 652.0}, '2022-05-13T20:00:00': {'location': 'Nantes', 'salle': 'Cite Des Congres Nantes Atlantique', 'price': 652.0}, '2022-05-12T20:00:00': {'location': 'Rennes', 'salle': 'Le Liberte A Rennes', 'price': 652.0}, '2022-05-10T20:00:00': {'location': 'Lille', 'salle': 'Zenith De Lille - Arena', 'price': 652.0}, '2022-05-08T20:00:00': {'location': 'Paris', 'salle': 'Salle Pleyel', 'price': 652.0}, '2022-05-06T20:00:00': {'location': 'Besancon', 'salle': 'Micropolis A Besancon', 'price': 652.0}, '2022-05-04T20:00:00': {'location': 'Clermont Ferrand', 'salle': 'La Cooperative De Mai', 'price': 652.0}}, 'followers': {'19/01/2023': 1423174, '20/01/2023': 1423815}, 'popularity': 66}, {'_id': 'SDM', 'concerts': {'2022-03-19T20:30:00': {'location': 'Acheres', 'salle': 'Le Sax A Acheres', 'price': 51.5}, '2023-03-03T20:30:00': {'location': 'Oignies', 'salle': 'Le Metaphone Site Du 9/9 Bis A Oignies', 'price': 20}, '2023-03-04T20:00:00': {'location': 'Lyon', 'salle': 'Ninkasi Gerland / Kao', 'price': 27}, '2023-03-10T20:30:00': {'location': 'Nantes', 'salle': 'Stereolux A Nantes', 'price': 25}, '2023-03-31T19:30:00': {'location': 'Ramonville', 'salle': 'Le Bikini', 'price': 23}, '2023-04-08T20:00:00': {'location': 'Paris', 'salle': \"L'olympia\", 'price': None}, '2023-04-14T20:30:00': {'location': 'Marseille', 'salle': 'Le Moulin A Marseille', 'price': 248}, '2023-04-28T18:00:00': {'location': 'Dijon', 'salle': 'Zenith De Dijon', 'price': 35}, '2023-05-13T20:00:00': {'location': 'Herouville Saint Clair', 'salle': 'Big Band Cafe / Bbc', 'price': 238}, '2023-12-01T20:00:00': {'location': 'Paris', 'salle': 'Zenith De Paris La Villette', 'price': 51.5}, '2022-04-16T20:30:00': {'location': 'Feignies', 'salle': 'Espace Gerard Philipe De Feignies', 'price': 51.5}, '2022-04-08T20:00:00': {'location': 'Saint Brieuc', 'salle': 'Bonjour Minuit A Saint Brieuc', 'price': 51.5}, '2022-04-06T20:00:00': {'location': 'Paris', 'salle': 'La Cigale A Paris', 'price': 51.5}, '2022-04-01T20:30:00': {'location': 'Clermont Ferrand', 'salle': 'La Cooperative De Mai', 'price': 51.5}, '2022-03-26T20:30:00': {'location': 'Bethune', 'salle': 'Theatre Le Poche A Bethune', 'price': 51.5}}, 'followers': {'19/01/2023': 246644, '20/01/2023': 247597}, 'popularity': 74}, {'_id': 'MICHEL SARDOU', 'concerts': {'2024-03-17T17:30:00': {'location': 'Nanterre', 'salle': 'Paris La Defense Arena', 'price': 89.0}, '2023-10-03T20:00:00': {'location': 'Rouen', 'salle': 'Zenith De Rouen / Grand Quevilly', 'price': 79.0}, '2023-10-04T20:00:00': {'location': 'Caen', 'salle': 'Zenith De Caen', 'price': None}, '2023-10-06T20:00:00': {'location': 'Le Mans', 'salle': 'Antares Au Mans', 'price': 79.0}, '2023-10-07T20:00:00': {'location': 'Trelaze', 'salle': 'Arena Loire Trelaze (Angers)', 'price': 79.0}, '2023-10-10T20:00:00': {'location': 'Bruxelles', 'salle': 'Forest National', 'price': 94.0}, '2023-10-11T20:00:00': {'location': 'Bruxelles', 'salle': 'Forest National', 'price': 79.0}, '2023-10-14T20:00:00': {'location': 'Amiens', 'salle': \"Zenith D'amiens\", 'price': 79.0}, '2023-10-17T20:00:00': {'location': 'Lille', 'salle': 'Zenith De Lille - Arena', 'price': 79.0}, '2023-10-18T20:00:00': {'location': 'Lille', 'salle': 'Zenith De Lille - Arena', 'price': 79.0}, '2023-11-07T20:00:00': {'location': 'Nice', 'salle': 'Palais Nikaia', 'price': None}, '2023-11-09T20:00:00': {'location': 'Aix En Provence', 'salle': \"Arena Du Pays D'aix\", 'price': 79.0}, '2023-11-10T20:00:00': {'location': 'Toulon', 'salle': 'Zenith Omega A Toulon', 'price': None}, '2023-11-11T20:00:00': {'location': 'Montpellier', 'salle': 'Sud De France Arena Montpellier', 'price': 79.0}, '2023-11-14T20:00:00': {'location': 'Nantes', 'salle': 'Zenith De Nantes Metropole', 'price': None}, '2023-11-15T20:00:00': {'location': 'Nantes', 'salle': 'Zenith De Nantes Metropole', 'price': None}, '2023-11-17T20:00:00': {'location': 'Orleans', 'salle': \"Zenith D'orleans\", 'price': 79.0}, '2023-11-18T20:00:00': {'location': 'Tours', 'salle': 'Parc Des Expositions De Tours (Grand Hall)', 'price': 79.0}, '2023-11-21T20:00:00': {'location': 'Reims', 'salle': 'Reims Arena', 'price': 79.0}, '2023-11-22T20:00:00': {'location': 'Eckbolsheim', 'salle': 'Zenith Europe De Strasbourg', 'price': 79.0}, '2023-11-24T20:00:00': {'location': 'Saint Etienne', 'salle': 'Zenith De Saint Etienne', 'price': 79.0}, '2023-11-25T20:00:00': {'location': 'Dijon', 'salle': 'Zenith De Dijon', 'price': 79.0}, '2023-11-28T20:00:00': {'location': 'Toulouse', 'salle': 'Zenith De Toulouse', 'price': 79.0}, '2023-11-29T20:00:00': {'location': 'Pau', 'salle': 'Zenith De Pau', 'price': 79.0}, '2023-12-02T20:00:00': {'location': 'Brest', 'salle': 'Brest Arena', 'price': 79.0}, '2023-12-05T20:00:00': {'location': 'Cournon', 'salle': \"Zenith D'auvergne\", 'price': 79.0}, '2023-12-06T20:00:00': {'location': 'Cournon', 'salle': \"Zenith D'auvergne\", 'price': 79.0}, '2023-12-09T20:00:00': {'location': 'Grenoble', 'salle': 'Palais Des Sports De Grenoble', 'price': 79.0}, '2023-12-13T20:00:00': {'location': 'Bordeaux', 'salle': 'Arkea Arena - Bordeaux', 'price': 79.0}, '2023-12-14T20:00:00': {'location': 'Chasseneuil du Poitou', 'salle': 'Arena Futuroscope', 'price': 79.0}, '2023-12-16T20:00:00': {'location': 'Limoges', 'salle': 'Zenith De Limoges', 'price': 79.0}, '2023-12-19T20:00:00': {'location': 'Lyon', 'salle': 'Halle Tony Garnier (Htg)', 'price': 67.0}, '2023-12-20T20:00:00': {'location': 'Lyon', 'salle': 'Halle Tony Garnier (Htg)', 'price': 79.0}, '2024-01-12T20:00:00': {'location': 'Amneville', 'salle': 'Le Galaxie A Amneville', 'price': 79.0}, '2024-01-13T20:00:00': {'location': 'Maxeville', 'salle': 'Zenith De Nancy', 'price': 79.0}, '2024-01-19T20:00:00': {'location': 'Albertville', 'salle': \"Patinoire / Halle Olympique D'albertville\", 'price': 79.0}, '2024-01-20T20:00:00': {'location': 'Dijon', 'salle': 'Zenith De Dijon', 'price': 79.0}, '2024-01-23T20:00:00': {'location': 'Perigueux', 'salle': 'Le Palio A Boulazac (Perigueux)', 'price': 79.0}, '2024-01-24T20:00:00': {'location': 'Bordeaux', 'salle': 'Arkea Arena - Bordeaux', 'price': 79.0}, '2024-01-31T20:00:00': {'location': 'Epernay', 'salle': 'Parc Expositions Le Millesium De Epernay', 'price': 79.0}, '2024-02-03T20:00:00': {'location': 'Bruxelles', 'salle': 'Forest National', 'price': 79.0}, '2024-02-09T00:00:00': {'location': 'Geneve', 'salle': 'Geneva Arena', 'price': None}, '2024-02-16T20:00:00': {'location': 'Rennes', 'salle': 'Le Liberte A Rennes', 'price': 79.0}, '2024-02-17T20:00:00': {'location': 'Rennes', 'salle': 'Le Liberte A Rennes', 'price': 79.0}, '2024-02-20T20:00:00': {'location': 'Marseille', 'salle': 'Le Dome De Marseille', 'price': 79.0}, '2024-02-22T20:00:00': {'location': 'Toulouse', 'salle': 'Zenith De Toulouse', 'price': 79.0}, '2024-02-24T20:00:00': {'location': \"Isle d'Espagnac\", 'salle': 'Parc Des Expos Du Grand Angouleme (Espace Carat)', 'price': 79.0}, '2024-02-28T20:00:00': {'location': 'Rouen', 'salle': 'Zenith De Rouen / Grand Quevilly', 'price': 79.0}, '2024-03-01T20:00:00': {'location': 'Orleans', 'salle': \"Zenith D'orleans\", 'price': 79.0}, '2024-03-06T20:00:00': {'location': 'Amiens', 'salle': \"Zenith D'amiens\", 'price': 79.0}, '2024-03-08T20:00:00': {'location': 'Caen', 'salle': 'Zenith De Caen', 'price': 79.0}, '2024-03-16T20:00:00': {'location': 'Nanterre', 'salle': 'Paris La Defense Arena', 'price': 89.0}}, 'followers': {'19/01/2023': 555823, '20/01/2023': 556226}, 'popularity': 57}, {'_id': 'JEANNE ADDED', 'concerts': {'2022-09-22T20:00:00': {'location': 'Rennes', 'salle': 'Ubu A Rennes', 'price': 34}, '2023-01-27T20:00:00': {'location': 'Le Mans', 'salle': \"Centre Des Expos Du Mans - Le Forum / L'oasis\", 'price': 321}, '2023-01-28T20:30:00': {'location': 'Saint Malo', 'salle': 'La Nouvelle Vague A Saint Malo', 'price': 292}, '2023-02-04T20:30:00': {'location': 'Annemasse', 'salle': 'Chateau Rouge', 'price': 103.5}, '2023-02-10T20:00:00': {'location': 'Strasbourg', 'salle': 'La Laiterie', 'price': None}, '2023-02-24T20:00:00': {'location': 'Nantes', 'salle': 'Stereolux A Nantes', 'price': 149.5}, '2023-02-25T20:30:00': {'location': 'Bourg En Bresse', 'salle': 'La Tannerie A Bourg En Bresse', 'price': 318}, '2023-03-15T20:30:00': {'location': 'Saint Etienne', 'salle': 'Le Fil A Saint Etienne', 'price': 295}, '2023-03-24T20:00:00': {'location': 'Chalon sur Saone', 'salle': 'Espace Des Arts De Chalon Sur Saone', 'price': 22.5}, '2023-03-25T20:30:00': {'location': 'Alencon', 'salle': 'La Luciole', 'price': 2995}, '2023-04-13T20:30:00': {'location': 'Angers', 'salle': 'Le Chabada', 'price': 27.5}, '2023-04-14T20:30:00': {'location': 'Oignies', 'salle': 'Le Metaphone Site Du 9/9 Bis A Oignies', 'price': 22}, '2023-04-20T19:30:00': {'location': 'Angouleme', 'salle': 'La Nef A Angouleme', 'price': 30}, '2023-06-08T20:00:00': {'location': 'Strasbourg', 'salle': 'La Laiterie', 'price': 34}, '2022-12-09T20:30:00': {'location': 'Caen', 'salle': 'Le Cargo A Caen', 'price': 34}, '2022-12-08T20:00:00': {'location': 'Bethune', 'salle': 'Theatre Municipal De Bethune', 'price': 34}, '2022-12-07T20:00:00': {'location': 'Reims', 'salle': 'La Cartonnerie A Reims', 'price': 34}, '2022-11-26T20:30:00': {'location': 'Bourg En Bresse', 'salle': 'La Tannerie A Bourg En Bresse', 'price': 34}, '2022-11-25T20:00:00': {'location': 'Clermont Ferrand', 'salle': 'La Cooperative De Mai', 'price': 34}, '2022-11-24T20:30:00': {'location': 'Cenon', 'salle': 'Le Rocher De Palmer A Cenon', 'price': 34}, '2022-11-12T20:30:00': {'location': 'Dijon', 'salle': 'La Vapeur De Dijon', 'price': 34}, '2022-11-11T20:00:00': {'location': 'Nimes', 'salle': 'Paloma', 'price': 34}, '2022-11-06T20:30:00': {'location': 'La Roche Sur Yon', 'salle': 'Quai M', 'price': 34}, '2022-11-04T20:30:00': {'location': 'Checy', 'salle': 'Espace George Sand A Checy', 'price': 34}, '2022-10-28T20:00:00': {'location': 'Lille', 'salle': 'Aeronef', 'price': 34}, '2022-10-20T20:30:00': {'location': 'Paris', 'salle': 'Grand Rex', 'price': 34}, '2022-10-14T20:00:00': {'location': 'Chateaurenard', 'salle': \"Salle De L'etoile A Chateaurenard\", 'price': 34}, '2022-10-13T20:00:00': {'location': 'Grenoble', 'salle': 'La Belle Electrique A Grenoble', 'price': 34}, '2022-09-25T16:00:00': {'location': 'Magny le Hongre', 'salle': 'File 7', 'price': 34}, '2022-09-23T20:00:00': {'location': 'Rennes', 'salle': 'Ubu A Rennes', 'price': 34}}, 'followers': {'19/01/2023': 59479, '20/01/2023': 59506}, 'popularity': 49}, {'_id': 'ARTHUR H', 'concerts': {'2023-01-11T20:30:00': {'location': 'Boulogne Billancourt', 'salle': 'La Seine Musicale', 'price': 46.5}, '2023-02-11T20:00:00': {'location': 'La Rochelle', 'salle': 'La Sirene A La Rochelle', 'price': 29.0}, '2023-02-16T20:00:00': {'location': 'Chenove', 'salle': 'Le Cedre A Chenove', 'price': 31.5}, '2023-02-17T20:00:00': {'location': 'Reims', 'salle': 'La Cartonnerie A Reims', 'price': 313.5}, '2023-02-18T21:00:00': {'location': 'Calais', 'salle': 'Le Channel  / Scene Nationale De Calais', 'price': 7}, '2023-02-23T20:00:00': {'location': 'Nantes', 'salle': 'Stereolux A Nantes', 'price': None}, '2023-02-25T20:30:00': {'location': 'Plougastel', 'salle': 'Espace Avel Vor A Plougastel', 'price': 181.0}, '2023-03-03T20:00:00': {'location': 'Privas', 'salle': 'Theatre De Privas', 'price': 315}, '2023-03-09T20:00:00': {'location': 'Sochaux', 'salle': 'La Mals - Maison Des Arts De Sochaux', 'price': 368.5}, '2023-03-10T20:00:00': {'location': 'Saint Louis', 'salle': 'Theatre La Coupole A Saint Louis', 'price': 19.0}, '2023-03-11T20:30:00': {'location': 'Schiltigheim', 'salle': 'La Briqueterie (Ex Salle Des Fetes) De Schiltigheim', 'price': 325}, '2023-03-16T20:30:00': {'location': 'Douai', 'salle': 'Tandem Scene Nationale / Hippodrome De Douai', 'price': 37}, '2023-03-18T20:00:00': {'location': 'Le Mans', 'salle': 'Theatre Les Quinconces Au Mans', 'price': None}, '2023-03-27T20:00:00': {'location': 'Paris', 'salle': 'Le Trianon', 'price': None}, '2023-03-30T20:00:00': {'location': 'Bruxelles', 'salle': 'Cirque Royal De Bruxelles - Koninklijk Circus  (Le Botanique)', 'price': 37.5}, '2023-03-31T20:00:00': {'location': 'Lille', 'salle': 'Aeronef', 'price': 27.0}, '2023-04-01T20:00:00': {'location': 'Rouen', 'salle': 'Le 106 A Rouen', 'price': 30.5}, '2023-04-06T20:30:00': {'location': 'Vitre', 'salle': 'Centre Culturel Jacques Duhamel/Theatre A Vitre', 'price': 26.0}, '2023-04-08T20:30:00': {'location': 'Clermont Ferrand', 'salle': 'La Cooperative De Mai', 'price': 35}, '2023-04-20T20:00:00': {'location': 'Ramonville', 'salle': 'Le Bikini', 'price': 32}, '2023-04-21T20:00:00': {'location': 'Narbonne', 'salle': 'Theatre + Cinema Scene Nationale Grand Narbonne', 'price': 18.5}, '2023-04-27T20:00:00': {'location': 'Nancy', 'salle': \"L'autre Canal\", 'price': 32}, '2023-04-28T20:00:00': {'location': 'Grenoble', 'salle': 'La Belle Electrique A Grenoble', 'price': 160.5}, '2023-04-29T20:00:00': {'location': 'Lyon', 'salle': 'Bourse Du Travail A Lyon', 'price': 43.0}, '2023-05-04T20:30:00': {'location': 'Perpignan', 'salle': \"El Mediator / Theatre De L'archipel / Le Grenat / Le Carre A Perpignan\", 'price': 325}, '2023-05-05T21:00:00': {'location': 'Tarbes', 'salle': 'La Gespe A Tarbes', 'price': 298}, '2023-05-06T20:00:00': {'location': 'Bordeaux', 'salle': 'Theatre Femina', 'price': 40.0}, '2023-05-12T20:30:00': {'location': 'Joue Les Tours', 'salle': 'Espace Malraux De Joue Les Tours', 'price': 35}, '2023-05-13T20:30:00': {'location': 'La Roche Sur Yon', 'salle': 'Quai M', 'price': 26.0}, '2023-12-09T20:30:00': {'location': 'Montpellier', 'salle': 'Opera Berlioz / Le Corum A Montpellier', 'price': 34.0}, '2024-02-01T20:00:00': {'location': 'Boulogne Billancourt', 'salle': 'La Seine Musicale', 'price': 46.5}}, 'followers': {'19/01/2023': 5473, '20/01/2023': 5477}, 'popularity': 50}, {'_id': 'PETER GABRIEL', 'concerts': {'2023-06-15T20:00:00': {'location': 'Bordeaux', 'salle': 'Arkea Arena - Bordeaux', 'price': 1390.0}, '2023-05-23T20:00:00': {'location': 'Paris', 'salle': 'Accorhotels Arena - Popb Bercy', 'price': 1390.0}, '2023-05-24T00:00:00': {'location': 'Lille', 'salle': 'Stade Pierre Mauroy A Lille', 'price': 133.5}, '2023-06-06T18:30:00': {'location': 'Anvers', 'salle': \"Palais Des Sports D'anvers / Antwerps Sportpaleis\", 'price': 215.0}}, 'followers': {'19/01/2023': 1452325, '20/01/2023': 1452893}, 'popularity': 65}, {'_id': 'TAYC', 'concerts': {'2022-02-23T20:00:00': {'location': 'Nimes', 'salle': 'Paloma', 'price': 59.0}, '2024-11-30T20:00:00': {'location': 'Nanterre', 'salle': 'Paris La Defense Arena', 'price': 59.0}, '2022-12-07T20:00:00': {'location': 'Paris', 'salle': 'Accorhotels Arena - Popb Bercy', 'price': 59.0}, '2022-11-30T20:00:00': {'location': 'Bruxelles', 'salle': 'Palais 12 A Bruxelles', 'price': 59.0}, '2022-11-26T20:00:00': {'location': 'Geneve', 'salle': 'Geneva Arena', 'price': 59.0}, '2022-11-25T20:00:00': {'location': 'Montpellier', 'salle': 'Zenith Sud De Montpellier', 'price': 59.0}, '2022-11-20T18:00:00': {'location': 'Caen', 'salle': 'Zenith De Caen', 'price': 59.0}, '2022-11-18T20:00:00': {'location': 'Amiens', 'salle': \"Zenith D'amiens\", 'price': 59.0}, '2022-11-10T20:00:00': {'location': 'Toulouse', 'salle': 'Zenith De Toulouse', 'price': 59.0}, '2022-11-09T20:00:00': {'location': 'Marseille', 'salle': 'Le Dome De Marseille', 'price': 59.0}, '2022-11-08T20:00:00': {'location': 'Lyon', 'salle': 'Halle Tony Garnier (Htg)', 'price': 59.0}, '2022-11-06T18:00:00': {'location': 'Bordeaux', 'salle': 'Arkea Arena - Bordeaux', 'price': 59.0}, '2022-11-05T20:00:00': {'location': 'Rennes', 'salle': 'Musikhall - Parc Expo Rennes Aeroport', 'price': 59.0}, '2022-11-04T20:00:00': {'location': 'Nantes', 'salle': 'Zenith De Nantes Metropole', 'price': 59.0}, '2022-10-30T18:00:00': {'location': 'Rouen', 'salle': 'Zenith De Rouen / Grand Quevilly', 'price': 59.0}, '2022-10-29T20:00:00': {'location': 'Lille', 'salle': 'Zenith De Lille - Arena', 'price': 59.0}, '2022-10-22T20:00:00': {'location': 'Eckbolsheim', 'salle': 'Zenith Europe De Strasbourg', 'price': 59.0}, '2022-10-21T20:00:00': {'location': 'Amneville', 'salle': 'Le Galaxie A Amneville', 'price': 59.0}, '2022-07-21T19:30:00': {'location': 'Carpentras', 'salle': 'Hotel Dieu De Carpentras', 'price': 59.0}, '2022-07-14T20:30:00': {'location': 'Toulouse', 'salle': 'Prairie Des Filtres', 'price': 59.0}, '2022-07-01T20:00:00': {'location': 'Trelaze', 'salle': 'Parc Du Vissoir A Trelaze', 'price': 59.0}}, 'followers': {'19/01/2023': 1400312, '20/01/2023': 1402275}, 'popularity': 74}, {'_id': 'PHOENIX', 'concerts': {'2022-06-01T20:00:00': {'location': 'Nimes', 'salle': 'Paloma', 'price': 47.5}, '2022-11-29T20:00:00': {'location': 'Paris', 'salle': \"L'olympia\", 'price': 47.5}, '2022-11-28T20:00:00': {'location': 'Paris', 'salle': \"L'olympia\", 'price': 47.5}}, 'followers': {'19/01/2023': 1819741, '20/01/2023': 1819994}, 'popularity': 66}]\n"
     ]
    }
   ],
   "source": [
    "with open('data.json') as file:\n",
    "    file_data = json.load(file)\n",
    "print(file_data)"
   ]
  },
  {
   "cell_type": "code",
   "execution_count": 44,
   "id": "9366aaaa",
   "metadata": {},
   "outputs": [
    {
     "name": "stdout",
     "output_type": "stream",
     "text": [
      "13/01/2023\n",
      "{'13/01/2023': 3749329, '19/01/2023': 3761948, '20/01/2023': 3763975}\n",
      "19/01/2023\n",
      "{'13/01/2023': 3749329, '19/01/2023': 3761948, '20/01/2023': 3763975}\n",
      "20/01/2023\n",
      "{'13/01/2023': 3749329, '19/01/2023': 3761948, '20/01/2023': 3763975}\n",
      "13/01/2023\n",
      "{'13/01/2023': 630498, '19/01/2023': 643069, '20/01/2023': 645064}\n",
      "19/01/2023\n",
      "{'13/01/2023': 630498, '19/01/2023': 643069, '20/01/2023': 645064}\n",
      "20/01/2023\n",
      "{'13/01/2023': 630498, '19/01/2023': 643069, '20/01/2023': 645064}\n",
      "13/01/2023\n",
      "{'13/01/2023': 4160205, '19/01/2023': 4176590, '20/01/2023': 4179212}\n",
      "19/01/2023\n",
      "{'13/01/2023': 4160205, '19/01/2023': 4176590, '20/01/2023': 4179212}\n",
      "20/01/2023\n",
      "{'13/01/2023': 4160205, '19/01/2023': 4176590, '20/01/2023': 4179212}\n",
      "13/01/2023\n",
      "{'13/01/2023': 7291529, '19/01/2023': 7302782, '20/01/2023': 7304686}\n",
      "19/01/2023\n",
      "{'13/01/2023': 7291529, '19/01/2023': 7302782, '20/01/2023': 7304686}\n",
      "20/01/2023\n",
      "{'13/01/2023': 7291529, '19/01/2023': 7302782, '20/01/2023': 7304686}\n",
      "13/01/2023\n",
      "{'13/01/2023': 408175, '19/01/2023': 409596, '20/01/2023': 409772}\n",
      "19/01/2023\n",
      "{'13/01/2023': 408175, '19/01/2023': 409596, '20/01/2023': 409772}\n",
      "20/01/2023\n",
      "{'13/01/2023': 408175, '19/01/2023': 409596, '20/01/2023': 409772}\n",
      "13/01/2023\n",
      "{'13/01/2023': 23446408, '19/01/2023': 23504100, '20/01/2023': 23514159}\n",
      "19/01/2023\n",
      "{'13/01/2023': 23446408, '19/01/2023': 23504100, '20/01/2023': 23514159}\n",
      "20/01/2023\n",
      "{'13/01/2023': 23446408, '19/01/2023': 23504100, '20/01/2023': 23514159}\n",
      "13/01/2023\n",
      "{'13/01/2023': 3553506, '19/01/2023': 3567023, '20/01/2023': 3569283}\n",
      "19/01/2023\n",
      "{'13/01/2023': 3553506, '19/01/2023': 3567023, '20/01/2023': 3569283}\n",
      "20/01/2023\n",
      "{'13/01/2023': 3553506, '19/01/2023': 3567023, '20/01/2023': 3569283}\n",
      "13/01/2023\n",
      "{'13/01/2023': 2804105, '19/01/2023': 2815212, '20/01/2023': 2816855}\n",
      "19/01/2023\n",
      "{'13/01/2023': 2804105, '19/01/2023': 2815212, '20/01/2023': 2816855}\n",
      "20/01/2023\n",
      "{'13/01/2023': 2804105, '19/01/2023': 2815212, '20/01/2023': 2816855}\n",
      "13/01/2023\n",
      "{'13/01/2023': 18991766, '19/01/2023': 19024390, '20/01/2023': 19029693}\n",
      "19/01/2023\n",
      "{'13/01/2023': 18991766, '19/01/2023': 19024390, '20/01/2023': 19029693}\n",
      "20/01/2023\n",
      "{'13/01/2023': 18991766, '19/01/2023': 19024390, '20/01/2023': 19029693}\n",
      "13/01/2023\n",
      "{'13/01/2023': 224426, '19/01/2023': 225806, '20/01/2023': 225995}\n",
      "19/01/2023\n",
      "{'13/01/2023': 224426, '19/01/2023': 225806, '20/01/2023': 225995}\n",
      "20/01/2023\n",
      "{'13/01/2023': 224426, '19/01/2023': 225806, '20/01/2023': 225995}\n",
      "13/01/2023\n",
      "{'13/01/2023': 4987460, '19/01/2023': 5010922, '20/01/2023': 5014775}\n",
      "19/01/2023\n",
      "{'13/01/2023': 4987460, '19/01/2023': 5010922, '20/01/2023': 5014775}\n",
      "20/01/2023\n",
      "{'13/01/2023': 4987460, '19/01/2023': 5010922, '20/01/2023': 5014775}\n",
      "13/01/2023\n",
      "{'13/01/2023': 1726109, '19/01/2023': 1733388, '20/01/2023': 1734602}\n",
      "19/01/2023\n",
      "{'13/01/2023': 1726109, '19/01/2023': 1733388, '20/01/2023': 1734602}\n",
      "20/01/2023\n",
      "{'13/01/2023': 1726109, '19/01/2023': 1733388, '20/01/2023': 1734602}\n",
      "13/01/2023\n",
      "{'13/01/2023': 180212, '19/01/2023': 180729, '20/01/2023': 180798}\n",
      "19/01/2023\n",
      "{'13/01/2023': 180212, '19/01/2023': 180729, '20/01/2023': 180798}\n",
      "20/01/2023\n",
      "{'13/01/2023': 180212, '19/01/2023': 180729, '20/01/2023': 180798}\n",
      "13/01/2023\n",
      "{'13/01/2023': 643918, '19/01/2023': 646172, '20/01/2023': 646468}\n",
      "19/01/2023\n",
      "{'13/01/2023': 643918, '19/01/2023': 646172, '20/01/2023': 646468}\n",
      "20/01/2023\n",
      "{'13/01/2023': 643918, '19/01/2023': 646172, '20/01/2023': 646468}\n",
      "13/01/2023\n",
      "{'13/01/2023': 88623, '19/01/2023': 89076, '20/01/2023': 89160}\n",
      "19/01/2023\n",
      "{'13/01/2023': 88623, '19/01/2023': 89076, '20/01/2023': 89160}\n",
      "20/01/2023\n",
      "{'13/01/2023': 88623, '19/01/2023': 89076, '20/01/2023': 89160}\n",
      "13/01/2023\n",
      "{'13/01/2023': 426400, '19/01/2023': 428555, '20/01/2023': 428864}\n",
      "19/01/2023\n",
      "{'13/01/2023': 426400, '19/01/2023': 428555, '20/01/2023': 428864}\n",
      "20/01/2023\n",
      "{'13/01/2023': 426400, '19/01/2023': 428555, '20/01/2023': 428864}\n",
      "13/01/2023\n",
      "{'13/01/2023': 13519, '19/01/2023': 13569, '20/01/2023': 13573}\n",
      "19/01/2023\n",
      "{'13/01/2023': 13519, '19/01/2023': 13569, '20/01/2023': 13573}\n",
      "20/01/2023\n",
      "{'13/01/2023': 13519, '19/01/2023': 13569, '20/01/2023': 13573}\n",
      "13/01/2023\n",
      "{'13/01/2023': 901024, '19/01/2023': 904953, '20/01/2023': 905489}\n",
      "19/01/2023\n",
      "{'13/01/2023': 901024, '19/01/2023': 904953, '20/01/2023': 905489}\n",
      "20/01/2023\n",
      "{'13/01/2023': 901024, '19/01/2023': 904953, '20/01/2023': 905489}\n",
      "13/01/2023\n",
      "{'13/01/2023': 44761567, '19/01/2023': 44922687, '20/01/2023': 44947158}\n",
      "19/01/2023\n",
      "{'13/01/2023': 44761567, '19/01/2023': 44922687, '20/01/2023': 44947158}\n",
      "20/01/2023\n",
      "{'13/01/2023': 44761567, '19/01/2023': 44922687, '20/01/2023': 44947158}\n",
      "13/01/2023\n",
      "{'13/01/2023': 4719071, '19/01/2023': 4734981, '20/01/2023': 4737587}\n",
      "19/01/2023\n",
      "{'13/01/2023': 4719071, '19/01/2023': 4734981, '20/01/2023': 4737587}\n",
      "20/01/2023\n",
      "{'13/01/2023': 4719071, '19/01/2023': 4734981, '20/01/2023': 4737587}\n",
      "13/01/2023\n",
      "{'13/01/2023': 2080004, '19/01/2023': 2088215, '20/01/2023': 2089447}\n",
      "19/01/2023\n",
      "{'13/01/2023': 2080004, '19/01/2023': 2088215, '20/01/2023': 2089447}\n",
      "20/01/2023\n",
      "{'13/01/2023': 2080004, '19/01/2023': 2088215, '20/01/2023': 2089447}\n",
      "13/01/2023\n",
      "{'13/01/2023': 233567, '19/01/2023': 237704, '20/01/2023': 238287}\n",
      "19/01/2023\n",
      "{'13/01/2023': 233567, '19/01/2023': 237704, '20/01/2023': 238287}\n",
      "20/01/2023\n",
      "{'13/01/2023': 233567, '19/01/2023': 237704, '20/01/2023': 238287}\n",
      "13/01/2023\n",
      "{'13/01/2023': 330721, '19/01/2023': 331047, '20/01/2023': 331082}\n",
      "19/01/2023\n",
      "{'13/01/2023': 330721, '19/01/2023': 331047, '20/01/2023': 331082}\n",
      "20/01/2023\n",
      "{'13/01/2023': 330721, '19/01/2023': 331047, '20/01/2023': 331082}\n",
      "13/01/2023\n",
      "{'13/01/2023': 676249, '19/01/2023': 680033, '20/01/2023': 680636}\n",
      "19/01/2023\n",
      "{'13/01/2023': 676249, '19/01/2023': 680033, '20/01/2023': 680636}\n",
      "20/01/2023\n",
      "{'13/01/2023': 676249, '19/01/2023': 680033, '20/01/2023': 680636}\n",
      "13/01/2023\n",
      "{'13/01/2023': 624219, '19/01/2023': 627159, '20/01/2023': 627521}\n",
      "19/01/2023\n",
      "{'13/01/2023': 624219, '19/01/2023': 627159, '20/01/2023': 627521}\n",
      "20/01/2023\n",
      "{'13/01/2023': 624219, '19/01/2023': 627159, '20/01/2023': 627521}\n",
      "13/01/2023\n",
      "{'13/01/2023': 67617, '19/01/2023': 67762, '20/01/2023': 67785}\n",
      "19/01/2023\n",
      "{'13/01/2023': 67617, '19/01/2023': 67762, '20/01/2023': 67785}\n",
      "20/01/2023\n",
      "{'13/01/2023': 67617, '19/01/2023': 67762, '20/01/2023': 67785}\n",
      "13/01/2023\n",
      "{'13/01/2023': 64019}\n",
      "13/01/2023\n",
      "{'13/01/2023': 143008, '19/01/2023': 143525, '20/01/2023': 143608}\n",
      "19/01/2023\n",
      "{'13/01/2023': 143008, '19/01/2023': 143525, '20/01/2023': 143608}\n",
      "20/01/2023\n",
      "{'13/01/2023': 143008, '19/01/2023': 143525, '20/01/2023': 143608}\n",
      "13/01/2023\n",
      "{'13/01/2023': 1678825, '19/01/2023': 1684319, '20/01/2023': 1685174}\n",
      "19/01/2023\n",
      "{'13/01/2023': 1678825, '19/01/2023': 1684319, '20/01/2023': 1685174}\n",
      "20/01/2023\n",
      "{'13/01/2023': 1678825, '19/01/2023': 1684319, '20/01/2023': 1685174}\n",
      "13/01/2023\n",
      "{'13/01/2023': 520424, '19/01/2023': 522643, '20/01/2023': 522946}\n",
      "19/01/2023\n",
      "{'13/01/2023': 520424, '19/01/2023': 522643, '20/01/2023': 522946}\n",
      "20/01/2023\n",
      "{'13/01/2023': 520424, '19/01/2023': 522643, '20/01/2023': 522946}\n",
      "13/01/2023\n",
      "{'13/01/2023': 6586798, '19/01/2023': 6606997, '20/01/2023': 6610160}\n",
      "19/01/2023\n",
      "{'13/01/2023': 6586798, '19/01/2023': 6606997, '20/01/2023': 6610160}\n",
      "20/01/2023\n",
      "{'13/01/2023': 6586798, '19/01/2023': 6606997, '20/01/2023': 6610160}\n",
      "13/01/2023\n",
      "{'13/01/2023': 484480, '19/01/2023': 485008, '20/01/2023': 485083}\n",
      "19/01/2023\n",
      "{'13/01/2023': 484480, '19/01/2023': 485008, '20/01/2023': 485083}\n",
      "20/01/2023\n",
      "{'13/01/2023': 484480, '19/01/2023': 485008, '20/01/2023': 485083}\n",
      "13/01/2023\n",
      "{'13/01/2023': 41097466, '19/01/2023': 41247314, '20/01/2023': 41270696}\n",
      "19/01/2023\n",
      "{'13/01/2023': 41097466, '19/01/2023': 41247314, '20/01/2023': 41270696}\n",
      "20/01/2023\n",
      "{'13/01/2023': 41097466, '19/01/2023': 41247314, '20/01/2023': 41270696}\n",
      "13/01/2023\n",
      "{'13/01/2023': 45432084, '19/01/2023': 45617584, '20/01/2023': 45646574}\n",
      "19/01/2023\n",
      "{'13/01/2023': 45432084, '19/01/2023': 45617584, '20/01/2023': 45646574}\n",
      "20/01/2023\n",
      "{'13/01/2023': 45432084, '19/01/2023': 45617584, '20/01/2023': 45646574}\n",
      "13/01/2023\n",
      "{'13/01/2023': 2807838}\n",
      "13/01/2023\n",
      "{'13/01/2023': 1057666, '19/01/2023': 1079997, '20/01/2023': 1083574}\n",
      "19/01/2023\n",
      "{'13/01/2023': 1057666, '19/01/2023': 1079997, '20/01/2023': 1083574}\n",
      "20/01/2023\n",
      "{'13/01/2023': 1057666, '19/01/2023': 1079997, '20/01/2023': 1083574}\n",
      "13/01/2023\n",
      "{'13/01/2023': 1135953, '19/01/2023': 1137826, '20/01/2023': 1138125}\n",
      "19/01/2023\n",
      "{'13/01/2023': 1135953, '19/01/2023': 1137826, '20/01/2023': 1138125}\n",
      "20/01/2023\n",
      "{'13/01/2023': 1135953, '19/01/2023': 1137826, '20/01/2023': 1138125}\n",
      "13/01/2023\n",
      "{'13/01/2023': 79754, '19/01/2023': 80010, '20/01/2023': 80052}\n",
      "19/01/2023\n",
      "{'13/01/2023': 79754, '19/01/2023': 80010, '20/01/2023': 80052}\n",
      "20/01/2023\n",
      "{'13/01/2023': 79754, '19/01/2023': 80010, '20/01/2023': 80052}\n",
      "13/01/2023\n",
      "{'13/01/2023': 1103825}\n",
      "13/01/2023\n",
      "{'13/01/2023': 154336, '19/01/2023': 154808, '20/01/2023': 154884}\n",
      "19/01/2023\n",
      "{'13/01/2023': 154336, '19/01/2023': 154808, '20/01/2023': 154884}\n",
      "20/01/2023\n",
      "{'13/01/2023': 154336, '19/01/2023': 154808, '20/01/2023': 154884}\n",
      "13/01/2023\n",
      "{'13/01/2023': 4365017}\n",
      "13/01/2023\n",
      "{'13/01/2023': 3707750}\n",
      "13/01/2023\n",
      "{'13/01/2023': 16261}\n",
      "13/01/2023\n",
      "{'13/01/2023': 1710823}\n",
      "13/01/2023\n",
      "{'13/01/2023': 139796}\n",
      "19/01/2023\n",
      "{'19/01/2023': 959096, '20/01/2023': 959364}\n",
      "20/01/2023\n",
      "{'19/01/2023': 959096, '20/01/2023': 959364}\n",
      "19/01/2023\n",
      "{'19/01/2023': 1423174, '20/01/2023': 1423815}\n",
      "20/01/2023\n",
      "{'19/01/2023': 1423174, '20/01/2023': 1423815}\n",
      "19/01/2023\n",
      "{'19/01/2023': 246644, '20/01/2023': 247597}\n",
      "20/01/2023\n",
      "{'19/01/2023': 246644, '20/01/2023': 247597}\n",
      "19/01/2023\n",
      "{'19/01/2023': 555823, '20/01/2023': 556226}\n",
      "20/01/2023\n",
      "{'19/01/2023': 555823, '20/01/2023': 556226}\n",
      "19/01/2023\n",
      "{'19/01/2023': 59479, '20/01/2023': 59506}\n",
      "20/01/2023\n",
      "{'19/01/2023': 59479, '20/01/2023': 59506}\n",
      "19/01/2023\n",
      "{'19/01/2023': 5473, '20/01/2023': 5477}\n",
      "20/01/2023\n",
      "{'19/01/2023': 5473, '20/01/2023': 5477}\n",
      "19/01/2023\n",
      "{'19/01/2023': 1452325, '20/01/2023': 1452893}\n",
      "20/01/2023\n",
      "{'19/01/2023': 1452325, '20/01/2023': 1452893}\n",
      "19/01/2023\n",
      "{'19/01/2023': 1400312, '20/01/2023': 1402275}\n",
      "20/01/2023\n",
      "{'19/01/2023': 1400312, '20/01/2023': 1402275}\n",
      "19/01/2023\n",
      "{'19/01/2023': 1819741, '20/01/2023': 1819994}\n",
      "20/01/2023\n",
      "{'19/01/2023': 1819741, '20/01/2023': 1819994}\n"
     ]
    }
   ],
   "source": [
    "i = 0\n",
    "for doc in file_data:\n",
    "    count_concerts = 0\n",
    "    if \"followers\" in doc.keys():\n",
    "        for elem in doc[\"followers\"]:\n",
    "            print(elem)\n",
    "            print(file_data[i][\"followers\"])\n",
    "            file_data[i][elem] = file_data[i][\"followers\"][elem]\n",
    "        del file_data[i][\"followers\"]\n",
    "    if \"concerts\" in doc.keys():\n",
    "        for elem in doc[\"concerts\"]:\n",
    "            count_concerts += 1\n",
    "        file_data[i][\"count_concerts\"] = count_concerts\n",
    "        del file_data[i][\"concerts\"]\n",
    "    i += 1"
   ]
  },
  {
   "cell_type": "code",
   "execution_count": 45,
   "id": "4a495b09",
   "metadata": {},
   "outputs": [
    {
     "name": "stdout",
     "output_type": "stream",
     "text": [
      "{'_id': 'AYA NAKAMURA', 'spotify_id': '7IlRNXHjoOCgEAWN5qYksg', 'popularity': 72, '13/01/2023': 3749329, '19/01/2023': 3761948, '20/01/2023': 3763975, 'count_concerts': 3}\n"
     ]
    }
   ],
   "source": [
    "print(file_data[0])"
   ]
  },
  {
   "cell_type": "code",
   "execution_count": 46,
   "id": "805d03aa",
   "metadata": {
    "scrolled": true
   },
   "outputs": [],
   "source": [
    "import pandas as pd\n",
    "df = pd.json_normalize(file_data)"
   ]
  },
  {
   "cell_type": "code",
   "execution_count": 47,
   "id": "be46fb1b",
   "metadata": {},
   "outputs": [
    {
     "data": {
      "text/html": [
       "<div>\n",
       "<style scoped>\n",
       "    .dataframe tbody tr th:only-of-type {\n",
       "        vertical-align: middle;\n",
       "    }\n",
       "\n",
       "    .dataframe tbody tr th {\n",
       "        vertical-align: top;\n",
       "    }\n",
       "\n",
       "    .dataframe thead th {\n",
       "        text-align: right;\n",
       "    }\n",
       "</style>\n",
       "<table border=\"1\" class=\"dataframe\">\n",
       "  <thead>\n",
       "    <tr style=\"text-align: right;\">\n",
       "      <th></th>\n",
       "      <th>_id</th>\n",
       "      <th>spotify_id</th>\n",
       "      <th>popularity</th>\n",
       "      <th>13/01/2023</th>\n",
       "      <th>19/01/2023</th>\n",
       "      <th>20/01/2023</th>\n",
       "      <th>count_concerts</th>\n",
       "    </tr>\n",
       "  </thead>\n",
       "  <tbody>\n",
       "    <tr>\n",
       "      <th>0</th>\n",
       "      <td>AYA NAKAMURA</td>\n",
       "      <td>7IlRNXHjoOCgEAWN5qYksg</td>\n",
       "      <td>72.0</td>\n",
       "      <td>3749329.0</td>\n",
       "      <td>3761948.0</td>\n",
       "      <td>3763975.0</td>\n",
       "      <td>3</td>\n",
       "    </tr>\n",
       "    <tr>\n",
       "      <th>1</th>\n",
       "      <td>TIAKOLA</td>\n",
       "      <td>3vUMXQ9kPnZAQkMkZZ7Hfh</td>\n",
       "      <td>75.0</td>\n",
       "      <td>630498.0</td>\n",
       "      <td>643069.0</td>\n",
       "      <td>645064.0</td>\n",
       "      <td>21</td>\n",
       "    </tr>\n",
       "    <tr>\n",
       "      <th>2</th>\n",
       "      <td>DAMSO</td>\n",
       "      <td>2UwqpfQtNuhBwviIC0f2ie</td>\n",
       "      <td>77.0</td>\n",
       "      <td>4160205.0</td>\n",
       "      <td>4176590.0</td>\n",
       "      <td>4179212.0</td>\n",
       "      <td>17</td>\n",
       "    </tr>\n",
       "    <tr>\n",
       "      <th>3</th>\n",
       "      <td>MUSE</td>\n",
       "      <td>12Chz98pHFMPJEknJQMWvI</td>\n",
       "      <td>77.0</td>\n",
       "      <td>7291529.0</td>\n",
       "      <td>7302782.0</td>\n",
       "      <td>7304686.0</td>\n",
       "      <td>7</td>\n",
       "    </tr>\n",
       "    <tr>\n",
       "      <th>4</th>\n",
       "      <td>LOUISE ATTAQUE</td>\n",
       "      <td>4CAsSAU842glNKJX71ndA9</td>\n",
       "      <td>59.0</td>\n",
       "      <td>408175.0</td>\n",
       "      <td>409596.0</td>\n",
       "      <td>409772.0</td>\n",
       "      <td>21</td>\n",
       "    </tr>\n",
       "    <tr>\n",
       "      <th>5</th>\n",
       "      <td>METALLICA</td>\n",
       "      <td>2ye2Wgw4gimLv2eAKyk1NB</td>\n",
       "      <td>83.0</td>\n",
       "      <td>23446408.0</td>\n",
       "      <td>23504100.0</td>\n",
       "      <td>23514159.0</td>\n",
       "      <td>4</td>\n",
       "    </tr>\n",
       "    <tr>\n",
       "      <th>6</th>\n",
       "      <td>-M- (MATTHIEU CHEDID)</td>\n",
       "      <td>NaN</td>\n",
       "      <td>NaN</td>\n",
       "      <td>NaN</td>\n",
       "      <td>NaN</td>\n",
       "      <td>NaN</td>\n",
       "      <td>100</td>\n",
       "    </tr>\n",
       "    <tr>\n",
       "      <th>7</th>\n",
       "      <td>NEJ'</td>\n",
       "      <td>2OHKEe204spO7G7NcbeO2o</td>\n",
       "      <td>70.0</td>\n",
       "      <td>3553506.0</td>\n",
       "      <td>3567023.0</td>\n",
       "      <td>3569283.0</td>\n",
       "      <td>18</td>\n",
       "    </tr>\n",
       "    <tr>\n",
       "      <th>8</th>\n",
       "      <td>STROMAE</td>\n",
       "      <td>5j4HeCoUlzhfWtjAfM1acR</td>\n",
       "      <td>75.0</td>\n",
       "      <td>2804105.0</td>\n",
       "      <td>2815212.0</td>\n",
       "      <td>2816855.0</td>\n",
       "      <td>48</td>\n",
       "    </tr>\n",
       "    <tr>\n",
       "      <th>9</th>\n",
       "      <td>RED HOT CHILI PEPPERS</td>\n",
       "      <td>0L8ExT028jH3ddEcZwqJJ5</td>\n",
       "      <td>83.0</td>\n",
       "      <td>18991766.0</td>\n",
       "      <td>19024390.0</td>\n",
       "      <td>19029693.0</td>\n",
       "      <td>3</td>\n",
       "    </tr>\n",
       "    <tr>\n",
       "      <th>10</th>\n",
       "      <td>JULIETTE ARMANET</td>\n",
       "      <td>61CPKXT0bcKj8MKTNTMOXa</td>\n",
       "      <td>60.0</td>\n",
       "      <td>224426.0</td>\n",
       "      <td>225806.0</td>\n",
       "      <td>225995.0</td>\n",
       "      <td>48</td>\n",
       "    </tr>\n",
       "    <tr>\n",
       "      <th>11</th>\n",
       "      <td>DEPECHE MODE</td>\n",
       "      <td>762310PdDnwsDxAQxzQkfX</td>\n",
       "      <td>75.0</td>\n",
       "      <td>4987460.0</td>\n",
       "      <td>5010922.0</td>\n",
       "      <td>5014775.0</td>\n",
       "      <td>6</td>\n",
       "    </tr>\n",
       "    <tr>\n",
       "      <th>12</th>\n",
       "      <td>LOMEPAL</td>\n",
       "      <td>1Yfe3ONJlioHys7jwHdfVm</td>\n",
       "      <td>73.0</td>\n",
       "      <td>1726109.0</td>\n",
       "      <td>1733388.0</td>\n",
       "      <td>1734602.0</td>\n",
       "      <td>43</td>\n",
       "    </tr>\n",
       "    <tr>\n",
       "      <th>13</th>\n",
       "      <td>BEN MAZUE</td>\n",
       "      <td>73BDzWqbf1grbgQ8xYn2ou</td>\n",
       "      <td>61.0</td>\n",
       "      <td>180212.0</td>\n",
       "      <td>180729.0</td>\n",
       "      <td>180798.0</td>\n",
       "      <td>33</td>\n",
       "    </tr>\n",
       "    <tr>\n",
       "      <th>14</th>\n",
       "      <td>ONE NIGHT OF QUEEN</td>\n",
       "      <td>NaN</td>\n",
       "      <td>NaN</td>\n",
       "      <td>NaN</td>\n",
       "      <td>NaN</td>\n",
       "      <td>NaN</td>\n",
       "      <td>36</td>\n",
       "    </tr>\n",
       "    <tr>\n",
       "      <th>15</th>\n",
       "      <td>FLORENT PAGNY</td>\n",
       "      <td>0g7hZVprd3orBpMrSLWeJ9</td>\n",
       "      <td>55.0</td>\n",
       "      <td>643918.0</td>\n",
       "      <td>646172.0</td>\n",
       "      <td>646468.0</td>\n",
       "      <td>4</td>\n",
       "    </tr>\n",
       "    <tr>\n",
       "      <th>16</th>\n",
       "      <td>LORENZO</td>\n",
       "      <td>7tm9Tuc70geXOOyKhtZHIj</td>\n",
       "      <td>63.0</td>\n",
       "      <td>88623.0</td>\n",
       "      <td>89076.0</td>\n",
       "      <td>89160.0</td>\n",
       "      <td>24</td>\n",
       "    </tr>\n",
       "    <tr>\n",
       "      <th>17</th>\n",
       "      <td>MYLENE FARMER</td>\n",
       "      <td>0e04xgVBPU6mE2QkSHlufD</td>\n",
       "      <td>59.0</td>\n",
       "      <td>426400.0</td>\n",
       "      <td>428555.0</td>\n",
       "      <td>428864.0</td>\n",
       "      <td>14</td>\n",
       "    </tr>\n",
       "    <tr>\n",
       "      <th>18</th>\n",
       "      <td>RENAUD</td>\n",
       "      <td>6ttz1LgWFVgRiNDOjtDb2L</td>\n",
       "      <td>50.0</td>\n",
       "      <td>13519.0</td>\n",
       "      <td>13569.0</td>\n",
       "      <td>13573.0</td>\n",
       "      <td>41</td>\n",
       "    </tr>\n",
       "    <tr>\n",
       "      <th>19</th>\n",
       "      <td>INDOCHINE</td>\n",
       "      <td>7knmbOGe07k85GmK50vACB</td>\n",
       "      <td>61.0</td>\n",
       "      <td>901024.0</td>\n",
       "      <td>904953.0</td>\n",
       "      <td>905489.0</td>\n",
       "      <td>6</td>\n",
       "    </tr>\n",
       "    <tr>\n",
       "      <th>20</th>\n",
       "      <td>IMAGINE DRAGONS</td>\n",
       "      <td>53XhwfbYqKCa1cC15pYq2q</td>\n",
       "      <td>89.0</td>\n",
       "      <td>44761567.0</td>\n",
       "      <td>44922687.0</td>\n",
       "      <td>44947158.0</td>\n",
       "      <td>5</td>\n",
       "    </tr>\n",
       "    <tr>\n",
       "      <th>21</th>\n",
       "      <td>DADJU</td>\n",
       "      <td>4sbXXFzEWJY2zsZjelerjX</td>\n",
       "      <td>73.0</td>\n",
       "      <td>4719071.0</td>\n",
       "      <td>4734981.0</td>\n",
       "      <td>4737587.0</td>\n",
       "      <td>52</td>\n",
       "    </tr>\n",
       "    <tr>\n",
       "      <th>22</th>\n",
       "      <td>ORELSAN</td>\n",
       "      <td>4FpJcNgOvIpSBeJgRg3OfN</td>\n",
       "      <td>72.0</td>\n",
       "      <td>2080004.0</td>\n",
       "      <td>2088215.0</td>\n",
       "      <td>2089447.0</td>\n",
       "      <td>67</td>\n",
       "    </tr>\n",
       "    <tr>\n",
       "      <th>23</th>\n",
       "      <td>YANNS</td>\n",
       "      <td>3mirzmIKVfvqcW0M5OKAzR</td>\n",
       "      <td>59.0</td>\n",
       "      <td>233567.0</td>\n",
       "      <td>237704.0</td>\n",
       "      <td>238287.0</td>\n",
       "      <td>7</td>\n",
       "    </tr>\n",
       "    <tr>\n",
       "      <th>24</th>\n",
       "      <td>SHAKA PONK</td>\n",
       "      <td>0VJIBKdqJygrupAxpSTk7q</td>\n",
       "      <td>52.0</td>\n",
       "      <td>330721.0</td>\n",
       "      <td>331047.0</td>\n",
       "      <td>331082.0</td>\n",
       "      <td>43</td>\n",
       "    </tr>\n",
       "    <tr>\n",
       "      <th>25</th>\n",
       "      <td>JOSMAN</td>\n",
       "      <td>6dbdXbyAWk2qx8Qttw0knR</td>\n",
       "      <td>69.0</td>\n",
       "      <td>676249.0</td>\n",
       "      <td>680033.0</td>\n",
       "      <td>680636.0</td>\n",
       "      <td>26</td>\n",
       "    </tr>\n",
       "    <tr>\n",
       "      <th>26</th>\n",
       "      <td>CLARA LUCIANI</td>\n",
       "      <td>2oVrruuEI0Dr2I4NvLtQS0</td>\n",
       "      <td>62.0</td>\n",
       "      <td>624219.0</td>\n",
       "      <td>627159.0</td>\n",
       "      <td>627521.0</td>\n",
       "      <td>12</td>\n",
       "    </tr>\n",
       "    <tr>\n",
       "      <th>27</th>\n",
       "      <td>ZOLA</td>\n",
       "      <td>3oxkIoEAyXXQlLTZXlffLJ</td>\n",
       "      <td>45.0</td>\n",
       "      <td>67617.0</td>\n",
       "      <td>67762.0</td>\n",
       "      <td>67785.0</td>\n",
       "      <td>13</td>\n",
       "    </tr>\n",
       "    <tr>\n",
       "      <th>28</th>\n",
       "      <td>LES ANNEES 80 - LA TOURNEE</td>\n",
       "      <td>NaN</td>\n",
       "      <td>NaN</td>\n",
       "      <td>NaN</td>\n",
       "      <td>NaN</td>\n",
       "      <td>NaN</td>\n",
       "      <td>35</td>\n",
       "    </tr>\n",
       "    <tr>\n",
       "      <th>29</th>\n",
       "      <td>SAEZ</td>\n",
       "      <td>6cH6fFLynkDD94hGNqacHV</td>\n",
       "      <td>53.0</td>\n",
       "      <td>64019.0</td>\n",
       "      <td>NaN</td>\n",
       "      <td>NaN</td>\n",
       "      <td>1</td>\n",
       "    </tr>\n",
       "    <tr>\n",
       "      <th>30</th>\n",
       "      <td>FEU! CHATTERTON</td>\n",
       "      <td>538TfjnJpRXI80MHYWfKlo</td>\n",
       "      <td>51.0</td>\n",
       "      <td>143008.0</td>\n",
       "      <td>143525.0</td>\n",
       "      <td>143608.0</td>\n",
       "      <td>4</td>\n",
       "    </tr>\n",
       "    <tr>\n",
       "      <th>31</th>\n",
       "      <td>BIGFLO ET OLI</td>\n",
       "      <td>5mmEMfYChd6MImBagU7zCs</td>\n",
       "      <td>65.0</td>\n",
       "      <td>1678825.0</td>\n",
       "      <td>1684319.0</td>\n",
       "      <td>1685174.0</td>\n",
       "      <td>50</td>\n",
       "    </tr>\n",
       "    <tr>\n",
       "      <th>32</th>\n",
       "      <td>POMME</td>\n",
       "      <td>6e3pZKXUxrPfnUPJ960Hd9</td>\n",
       "      <td>63.0</td>\n",
       "      <td>520424.0</td>\n",
       "      <td>522643.0</td>\n",
       "      <td>522946.0</td>\n",
       "      <td>39</td>\n",
       "    </tr>\n",
       "    <tr>\n",
       "      <th>33</th>\n",
       "      <td>ANGELE</td>\n",
       "      <td>0ZCO8oVkMj897cKgFH7fRW</td>\n",
       "      <td>77.0</td>\n",
       "      <td>6586798.0</td>\n",
       "      <td>6606997.0</td>\n",
       "      <td>6610160.0</td>\n",
       "      <td>32</td>\n",
       "    </tr>\n",
       "    <tr>\n",
       "      <th>34</th>\n",
       "      <td>TRYO</td>\n",
       "      <td>4ZP3CHz28XWVLGiaVVWuLj</td>\n",
       "      <td>55.0</td>\n",
       "      <td>484480.0</td>\n",
       "      <td>485008.0</td>\n",
       "      <td>485083.0</td>\n",
       "      <td>41</td>\n",
       "    </tr>\n",
       "    <tr>\n",
       "      <th>35</th>\n",
       "      <td>COLDPLAY</td>\n",
       "      <td>4gzpq5DPGxSnKTe4SA8HAU</td>\n",
       "      <td>89.0</td>\n",
       "      <td>41097466.0</td>\n",
       "      <td>41247314.0</td>\n",
       "      <td>41270696.0</td>\n",
       "      <td>13</td>\n",
       "    </tr>\n",
       "    <tr>\n",
       "      <th>36</th>\n",
       "      <td>ADE</td>\n",
       "      <td>4dpARuHxo51G3z768sgnrY</td>\n",
       "      <td>87.0</td>\n",
       "      <td>45432084.0</td>\n",
       "      <td>45617584.0</td>\n",
       "      <td>45646574.0</td>\n",
       "      <td>29</td>\n",
       "    </tr>\n",
       "    <tr>\n",
       "      <th>37</th>\n",
       "      <td>GOLDMEN (Tribute to J.J Goldman)</td>\n",
       "      <td>NaN</td>\n",
       "      <td>NaN</td>\n",
       "      <td>NaN</td>\n",
       "      <td>NaN</td>\n",
       "      <td>NaN</td>\n",
       "      <td>43</td>\n",
       "    </tr>\n",
       "    <tr>\n",
       "      <th>38</th>\n",
       "      <td>STING</td>\n",
       "      <td>0Ty63ceoRnnJKVEYP0VQpk</td>\n",
       "      <td>72.0</td>\n",
       "      <td>2807838.0</td>\n",
       "      <td>NaN</td>\n",
       "      <td>NaN</td>\n",
       "      <td>1</td>\n",
       "    </tr>\n",
       "    <tr>\n",
       "      <th>39</th>\n",
       "      <td>GAZO</td>\n",
       "      <td>5gqmbbfjcikQBzPB5Hv13I</td>\n",
       "      <td>77.0</td>\n",
       "      <td>1057666.0</td>\n",
       "      <td>1079997.0</td>\n",
       "      <td>1083574.0</td>\n",
       "      <td>12</td>\n",
       "    </tr>\n",
       "    <tr>\n",
       "      <th>40</th>\n",
       "      <td>DROPKICK MURPHYS</td>\n",
       "      <td>7w9jdhcgHNdiPeNPUoFSlx</td>\n",
       "      <td>63.0</td>\n",
       "      <td>1135953.0</td>\n",
       "      <td>1137826.0</td>\n",
       "      <td>1138125.0</td>\n",
       "      <td>13</td>\n",
       "    </tr>\n",
       "    <tr>\n",
       "      <th>41</th>\n",
       "      <td>IZIA</td>\n",
       "      <td>6T08mUIMB32dtqq5ryxQZ3</td>\n",
       "      <td>54.0</td>\n",
       "      <td>79754.0</td>\n",
       "      <td>80010.0</td>\n",
       "      <td>80052.0</td>\n",
       "      <td>16</td>\n",
       "    </tr>\n",
       "    <tr>\n",
       "      <th>42</th>\n",
       "      <td>SLIMANE</td>\n",
       "      <td>4OV6uYSnHxSYkjDYuBVBUz</td>\n",
       "      <td>66.0</td>\n",
       "      <td>1103825.0</td>\n",
       "      <td>NaN</td>\n",
       "      <td>NaN</td>\n",
       "      <td>1</td>\n",
       "    </tr>\n",
       "    <tr>\n",
       "      <th>43</th>\n",
       "      <td>GAEL FAYE</td>\n",
       "      <td>69irZ4R8OsrLHjr6VmMmMg</td>\n",
       "      <td>61.0</td>\n",
       "      <td>154336.0</td>\n",
       "      <td>154808.0</td>\n",
       "      <td>154884.0</td>\n",
       "      <td>4</td>\n",
       "    </tr>\n",
       "    <tr>\n",
       "      <th>44</th>\n",
       "      <td>JOK'AIR</td>\n",
       "      <td>NaN</td>\n",
       "      <td>NaN</td>\n",
       "      <td>NaN</td>\n",
       "      <td>NaN</td>\n",
       "      <td>NaN</td>\n",
       "      <td>41</td>\n",
       "    </tr>\n",
       "    <tr>\n",
       "      <th>45</th>\n",
       "      <td>SCH</td>\n",
       "      <td>5IcR3N7QB1j6KBL8eImZ8m</td>\n",
       "      <td>73.0</td>\n",
       "      <td>4365017.0</td>\n",
       "      <td>NaN</td>\n",
       "      <td>NaN</td>\n",
       "      <td>1</td>\n",
       "    </tr>\n",
       "    <tr>\n",
       "      <th>46</th>\n",
       "      <td>GIMS</td>\n",
       "      <td>0GOx72r5AAEKRGQFn3xqXK</td>\n",
       "      <td>73.0</td>\n",
       "      <td>3707750.0</td>\n",
       "      <td>NaN</td>\n",
       "      <td>NaN</td>\n",
       "      <td>1</td>\n",
       "    </tr>\n",
       "    <tr>\n",
       "      <th>47</th>\n",
       "      <td>JEAN-BAPTISTE GUEGAN</td>\n",
       "      <td>1cypnZnCNwbiWN8QKmPTED</td>\n",
       "      <td>36.0</td>\n",
       "      <td>16261.0</td>\n",
       "      <td>NaN</td>\n",
       "      <td>NaN</td>\n",
       "      <td>1</td>\n",
       "    </tr>\n",
       "    <tr>\n",
       "      <th>48</th>\n",
       "      <td>PLACEBO</td>\n",
       "      <td>6RZUqkomCmb8zCRqc9eznB</td>\n",
       "      <td>67.0</td>\n",
       "      <td>1710823.0</td>\n",
       "      <td>NaN</td>\n",
       "      <td>NaN</td>\n",
       "      <td>1</td>\n",
       "    </tr>\n",
       "    <tr>\n",
       "      <th>49</th>\n",
       "      <td>SOFIANE PAMART</td>\n",
       "      <td>4RB2EEsmLhQTOSVQQpDzNg</td>\n",
       "      <td>66.0</td>\n",
       "      <td>139796.0</td>\n",
       "      <td>NaN</td>\n",
       "      <td>NaN</td>\n",
       "      <td>1</td>\n",
       "    </tr>\n",
       "    <tr>\n",
       "      <th>50</th>\n",
       "      <td>MORRISSEY</td>\n",
       "      <td>NaN</td>\n",
       "      <td>61.0</td>\n",
       "      <td>NaN</td>\n",
       "      <td>959096.0</td>\n",
       "      <td>959364.0</td>\n",
       "      <td>4</td>\n",
       "    </tr>\n",
       "    <tr>\n",
       "      <th>51</th>\n",
       "      <td>IGGY POP</td>\n",
       "      <td>NaN</td>\n",
       "      <td>66.0</td>\n",
       "      <td>NaN</td>\n",
       "      <td>1423174.0</td>\n",
       "      <td>1423815.0</td>\n",
       "      <td>14</td>\n",
       "    </tr>\n",
       "    <tr>\n",
       "      <th>52</th>\n",
       "      <td>SDM</td>\n",
       "      <td>NaN</td>\n",
       "      <td>74.0</td>\n",
       "      <td>NaN</td>\n",
       "      <td>246644.0</td>\n",
       "      <td>247597.0</td>\n",
       "      <td>15</td>\n",
       "    </tr>\n",
       "    <tr>\n",
       "      <th>53</th>\n",
       "      <td>MICHEL SARDOU</td>\n",
       "      <td>NaN</td>\n",
       "      <td>57.0</td>\n",
       "      <td>NaN</td>\n",
       "      <td>555823.0</td>\n",
       "      <td>556226.0</td>\n",
       "      <td>52</td>\n",
       "    </tr>\n",
       "    <tr>\n",
       "      <th>54</th>\n",
       "      <td>JEANNE ADDED</td>\n",
       "      <td>NaN</td>\n",
       "      <td>49.0</td>\n",
       "      <td>NaN</td>\n",
       "      <td>59479.0</td>\n",
       "      <td>59506.0</td>\n",
       "      <td>30</td>\n",
       "    </tr>\n",
       "    <tr>\n",
       "      <th>55</th>\n",
       "      <td>ARTHUR H</td>\n",
       "      <td>NaN</td>\n",
       "      <td>50.0</td>\n",
       "      <td>NaN</td>\n",
       "      <td>5473.0</td>\n",
       "      <td>5477.0</td>\n",
       "      <td>31</td>\n",
       "    </tr>\n",
       "    <tr>\n",
       "      <th>56</th>\n",
       "      <td>PETER GABRIEL</td>\n",
       "      <td>NaN</td>\n",
       "      <td>65.0</td>\n",
       "      <td>NaN</td>\n",
       "      <td>1452325.0</td>\n",
       "      <td>1452893.0</td>\n",
       "      <td>4</td>\n",
       "    </tr>\n",
       "    <tr>\n",
       "      <th>57</th>\n",
       "      <td>TAYC</td>\n",
       "      <td>NaN</td>\n",
       "      <td>74.0</td>\n",
       "      <td>NaN</td>\n",
       "      <td>1400312.0</td>\n",
       "      <td>1402275.0</td>\n",
       "      <td>21</td>\n",
       "    </tr>\n",
       "    <tr>\n",
       "      <th>58</th>\n",
       "      <td>PHOENIX</td>\n",
       "      <td>NaN</td>\n",
       "      <td>66.0</td>\n",
       "      <td>NaN</td>\n",
       "      <td>1819741.0</td>\n",
       "      <td>1819994.0</td>\n",
       "      <td>3</td>\n",
       "    </tr>\n",
       "  </tbody>\n",
       "</table>\n",
       "</div>"
      ],
      "text/plain": [
       "                                 _id              spotify_id  popularity  \\\n",
       "0                       AYA NAKAMURA  7IlRNXHjoOCgEAWN5qYksg        72.0   \n",
       "1                            TIAKOLA  3vUMXQ9kPnZAQkMkZZ7Hfh        75.0   \n",
       "2                              DAMSO  2UwqpfQtNuhBwviIC0f2ie        77.0   \n",
       "3                               MUSE  12Chz98pHFMPJEknJQMWvI        77.0   \n",
       "4                     LOUISE ATTAQUE  4CAsSAU842glNKJX71ndA9        59.0   \n",
       "5                          METALLICA  2ye2Wgw4gimLv2eAKyk1NB        83.0   \n",
       "6              -M- (MATTHIEU CHEDID)                     NaN         NaN   \n",
       "7                               NEJ'  2OHKEe204spO7G7NcbeO2o        70.0   \n",
       "8                            STROMAE  5j4HeCoUlzhfWtjAfM1acR        75.0   \n",
       "9              RED HOT CHILI PEPPERS  0L8ExT028jH3ddEcZwqJJ5        83.0   \n",
       "10                  JULIETTE ARMANET  61CPKXT0bcKj8MKTNTMOXa        60.0   \n",
       "11                      DEPECHE MODE  762310PdDnwsDxAQxzQkfX        75.0   \n",
       "12                           LOMEPAL  1Yfe3ONJlioHys7jwHdfVm        73.0   \n",
       "13                         BEN MAZUE  73BDzWqbf1grbgQ8xYn2ou        61.0   \n",
       "14                ONE NIGHT OF QUEEN                     NaN         NaN   \n",
       "15                     FLORENT PAGNY  0g7hZVprd3orBpMrSLWeJ9        55.0   \n",
       "16                           LORENZO  7tm9Tuc70geXOOyKhtZHIj        63.0   \n",
       "17                     MYLENE FARMER  0e04xgVBPU6mE2QkSHlufD        59.0   \n",
       "18                            RENAUD  6ttz1LgWFVgRiNDOjtDb2L        50.0   \n",
       "19                         INDOCHINE  7knmbOGe07k85GmK50vACB        61.0   \n",
       "20                   IMAGINE DRAGONS  53XhwfbYqKCa1cC15pYq2q        89.0   \n",
       "21                             DADJU  4sbXXFzEWJY2zsZjelerjX        73.0   \n",
       "22                           ORELSAN  4FpJcNgOvIpSBeJgRg3OfN        72.0   \n",
       "23                             YANNS  3mirzmIKVfvqcW0M5OKAzR        59.0   \n",
       "24                        SHAKA PONK  0VJIBKdqJygrupAxpSTk7q        52.0   \n",
       "25                            JOSMAN  6dbdXbyAWk2qx8Qttw0knR        69.0   \n",
       "26                     CLARA LUCIANI  2oVrruuEI0Dr2I4NvLtQS0        62.0   \n",
       "27                              ZOLA  3oxkIoEAyXXQlLTZXlffLJ        45.0   \n",
       "28        LES ANNEES 80 - LA TOURNEE                     NaN         NaN   \n",
       "29                              SAEZ  6cH6fFLynkDD94hGNqacHV        53.0   \n",
       "30                   FEU! CHATTERTON  538TfjnJpRXI80MHYWfKlo        51.0   \n",
       "31                     BIGFLO ET OLI  5mmEMfYChd6MImBagU7zCs        65.0   \n",
       "32                             POMME  6e3pZKXUxrPfnUPJ960Hd9        63.0   \n",
       "33                            ANGELE  0ZCO8oVkMj897cKgFH7fRW        77.0   \n",
       "34                              TRYO  4ZP3CHz28XWVLGiaVVWuLj        55.0   \n",
       "35                          COLDPLAY  4gzpq5DPGxSnKTe4SA8HAU        89.0   \n",
       "36                               ADE  4dpARuHxo51G3z768sgnrY        87.0   \n",
       "37  GOLDMEN (Tribute to J.J Goldman)                     NaN         NaN   \n",
       "38                             STING  0Ty63ceoRnnJKVEYP0VQpk        72.0   \n",
       "39                              GAZO  5gqmbbfjcikQBzPB5Hv13I        77.0   \n",
       "40                  DROPKICK MURPHYS  7w9jdhcgHNdiPeNPUoFSlx        63.0   \n",
       "41                              IZIA  6T08mUIMB32dtqq5ryxQZ3        54.0   \n",
       "42                           SLIMANE  4OV6uYSnHxSYkjDYuBVBUz        66.0   \n",
       "43                         GAEL FAYE  69irZ4R8OsrLHjr6VmMmMg        61.0   \n",
       "44                           JOK'AIR                     NaN         NaN   \n",
       "45                               SCH  5IcR3N7QB1j6KBL8eImZ8m        73.0   \n",
       "46                              GIMS  0GOx72r5AAEKRGQFn3xqXK        73.0   \n",
       "47              JEAN-BAPTISTE GUEGAN  1cypnZnCNwbiWN8QKmPTED        36.0   \n",
       "48                           PLACEBO  6RZUqkomCmb8zCRqc9eznB        67.0   \n",
       "49                    SOFIANE PAMART  4RB2EEsmLhQTOSVQQpDzNg        66.0   \n",
       "50                         MORRISSEY                     NaN        61.0   \n",
       "51                          IGGY POP                     NaN        66.0   \n",
       "52                               SDM                     NaN        74.0   \n",
       "53                     MICHEL SARDOU                     NaN        57.0   \n",
       "54                      JEANNE ADDED                     NaN        49.0   \n",
       "55                          ARTHUR H                     NaN        50.0   \n",
       "56                     PETER GABRIEL                     NaN        65.0   \n",
       "57                              TAYC                     NaN        74.0   \n",
       "58                           PHOENIX                     NaN        66.0   \n",
       "\n",
       "    13/01/2023  19/01/2023  20/01/2023  count_concerts  \n",
       "0    3749329.0   3761948.0   3763975.0               3  \n",
       "1     630498.0    643069.0    645064.0              21  \n",
       "2    4160205.0   4176590.0   4179212.0              17  \n",
       "3    7291529.0   7302782.0   7304686.0               7  \n",
       "4     408175.0    409596.0    409772.0              21  \n",
       "5   23446408.0  23504100.0  23514159.0               4  \n",
       "6          NaN         NaN         NaN             100  \n",
       "7    3553506.0   3567023.0   3569283.0              18  \n",
       "8    2804105.0   2815212.0   2816855.0              48  \n",
       "9   18991766.0  19024390.0  19029693.0               3  \n",
       "10    224426.0    225806.0    225995.0              48  \n",
       "11   4987460.0   5010922.0   5014775.0               6  \n",
       "12   1726109.0   1733388.0   1734602.0              43  \n",
       "13    180212.0    180729.0    180798.0              33  \n",
       "14         NaN         NaN         NaN              36  \n",
       "15    643918.0    646172.0    646468.0               4  \n",
       "16     88623.0     89076.0     89160.0              24  \n",
       "17    426400.0    428555.0    428864.0              14  \n",
       "18     13519.0     13569.0     13573.0              41  \n",
       "19    901024.0    904953.0    905489.0               6  \n",
       "20  44761567.0  44922687.0  44947158.0               5  \n",
       "21   4719071.0   4734981.0   4737587.0              52  \n",
       "22   2080004.0   2088215.0   2089447.0              67  \n",
       "23    233567.0    237704.0    238287.0               7  \n",
       "24    330721.0    331047.0    331082.0              43  \n",
       "25    676249.0    680033.0    680636.0              26  \n",
       "26    624219.0    627159.0    627521.0              12  \n",
       "27     67617.0     67762.0     67785.0              13  \n",
       "28         NaN         NaN         NaN              35  \n",
       "29     64019.0         NaN         NaN               1  \n",
       "30    143008.0    143525.0    143608.0               4  \n",
       "31   1678825.0   1684319.0   1685174.0              50  \n",
       "32    520424.0    522643.0    522946.0              39  \n",
       "33   6586798.0   6606997.0   6610160.0              32  \n",
       "34    484480.0    485008.0    485083.0              41  \n",
       "35  41097466.0  41247314.0  41270696.0              13  \n",
       "36  45432084.0  45617584.0  45646574.0              29  \n",
       "37         NaN         NaN         NaN              43  \n",
       "38   2807838.0         NaN         NaN               1  \n",
       "39   1057666.0   1079997.0   1083574.0              12  \n",
       "40   1135953.0   1137826.0   1138125.0              13  \n",
       "41     79754.0     80010.0     80052.0              16  \n",
       "42   1103825.0         NaN         NaN               1  \n",
       "43    154336.0    154808.0    154884.0               4  \n",
       "44         NaN         NaN         NaN              41  \n",
       "45   4365017.0         NaN         NaN               1  \n",
       "46   3707750.0         NaN         NaN               1  \n",
       "47     16261.0         NaN         NaN               1  \n",
       "48   1710823.0         NaN         NaN               1  \n",
       "49    139796.0         NaN         NaN               1  \n",
       "50         NaN    959096.0    959364.0               4  \n",
       "51         NaN   1423174.0   1423815.0              14  \n",
       "52         NaN    246644.0    247597.0              15  \n",
       "53         NaN    555823.0    556226.0              52  \n",
       "54         NaN     59479.0     59506.0              30  \n",
       "55         NaN      5473.0      5477.0              31  \n",
       "56         NaN   1452325.0   1452893.0               4  \n",
       "57         NaN   1400312.0   1402275.0              21  \n",
       "58         NaN   1819741.0   1819994.0               3  "
      ]
     },
     "execution_count": 47,
     "metadata": {},
     "output_type": "execute_result"
    }
   ],
   "source": [
    "df"
   ]
  },
  {
   "cell_type": "code",
   "execution_count": 50,
   "id": "e9e5a2cd",
   "metadata": {},
   "outputs": [],
   "source": [
    "df_only_date = df.drop(['_id', 'popularity', 'spotify_id', 'count_concerts'], axis=1)\n",
    "max_date = max(df_only_date.columns)"
   ]
  },
  {
   "cell_type": "code",
   "execution_count": 51,
   "id": "fae7080a",
   "metadata": {},
   "outputs": [
    {
     "data": {
      "text/plain": [
       "0      3763975.0\n",
       "1       645064.0\n",
       "2      4179212.0\n",
       "3      7304686.0\n",
       "4       409772.0\n",
       "5     23514159.0\n",
       "6            NaN\n",
       "7      3569283.0\n",
       "8      2816855.0\n",
       "9     19029693.0\n",
       "10      225995.0\n",
       "11     5014775.0\n",
       "12     1734602.0\n",
       "13      180798.0\n",
       "14           NaN\n",
       "15      646468.0\n",
       "16       89160.0\n",
       "17      428864.0\n",
       "18       13573.0\n",
       "19      905489.0\n",
       "20    44947158.0\n",
       "21     4737587.0\n",
       "22     2089447.0\n",
       "23      238287.0\n",
       "24      331082.0\n",
       "25      680636.0\n",
       "26      627521.0\n",
       "27       67785.0\n",
       "28           NaN\n",
       "29           NaN\n",
       "30      143608.0\n",
       "31     1685174.0\n",
       "32      522946.0\n",
       "33     6610160.0\n",
       "34      485083.0\n",
       "35    41270696.0\n",
       "36    45646574.0\n",
       "37           NaN\n",
       "38           NaN\n",
       "39     1083574.0\n",
       "40     1138125.0\n",
       "41       80052.0\n",
       "42           NaN\n",
       "43      154884.0\n",
       "44           NaN\n",
       "45           NaN\n",
       "46           NaN\n",
       "47           NaN\n",
       "48           NaN\n",
       "49           NaN\n",
       "50      959364.0\n",
       "51     1423815.0\n",
       "52      247597.0\n",
       "53      556226.0\n",
       "54       59506.0\n",
       "55        5477.0\n",
       "56     1452893.0\n",
       "57     1402275.0\n",
       "58     1819994.0\n",
       "Name: 20/01/2023, dtype: float64"
      ]
     },
     "execution_count": 51,
     "metadata": {},
     "output_type": "execute_result"
    }
   ],
   "source": [
    "df_only_date[max_date]"
   ]
  },
  {
   "cell_type": "code",
   "execution_count": 52,
   "id": "afbe6b7d",
   "metadata": {},
   "outputs": [
    {
     "data": {
      "application/vnd.plotly.v1+json": {
       "config": {
        "plotlyServerURL": "https://plot.ly"
       },
       "data": [
        {
         "marker": {
          "color": "lightsalmon"
         },
         "name": "20/01/2023",
         "type": "bar",
         "x": [
          "ADE",
          "IMAGINE DRAGONS",
          "COLDPLAY",
          "METALLICA",
          "RED HOT CHILI PEPPERS",
          "MUSE",
          "ANGELE",
          "DEPECHE MODE",
          "DADJU",
          "DAMSO"
         ],
         "y": [
          45646574,
          44947158,
          41270696,
          23514159,
          19029693,
          7304686,
          6610160,
          5014775,
          4737587,
          4179212
         ]
        }
       ],
       "layout": {
        "barmode": "group",
        "template": {
         "data": {
          "bar": [
           {
            "error_x": {
             "color": "#2a3f5f"
            },
            "error_y": {
             "color": "#2a3f5f"
            },
            "marker": {
             "line": {
              "color": "#E5ECF6",
              "width": 0.5
             },
             "pattern": {
              "fillmode": "overlay",
              "size": 10,
              "solidity": 0.2
             }
            },
            "type": "bar"
           }
          ],
          "barpolar": [
           {
            "marker": {
             "line": {
              "color": "#E5ECF6",
              "width": 0.5
             },
             "pattern": {
              "fillmode": "overlay",
              "size": 10,
              "solidity": 0.2
             }
            },
            "type": "barpolar"
           }
          ],
          "carpet": [
           {
            "aaxis": {
             "endlinecolor": "#2a3f5f",
             "gridcolor": "white",
             "linecolor": "white",
             "minorgridcolor": "white",
             "startlinecolor": "#2a3f5f"
            },
            "baxis": {
             "endlinecolor": "#2a3f5f",
             "gridcolor": "white",
             "linecolor": "white",
             "minorgridcolor": "white",
             "startlinecolor": "#2a3f5f"
            },
            "type": "carpet"
           }
          ],
          "choropleth": [
           {
            "colorbar": {
             "outlinewidth": 0,
             "ticks": ""
            },
            "type": "choropleth"
           }
          ],
          "contour": [
           {
            "colorbar": {
             "outlinewidth": 0,
             "ticks": ""
            },
            "colorscale": [
             [
              0,
              "#0d0887"
             ],
             [
              0.1111111111111111,
              "#46039f"
             ],
             [
              0.2222222222222222,
              "#7201a8"
             ],
             [
              0.3333333333333333,
              "#9c179e"
             ],
             [
              0.4444444444444444,
              "#bd3786"
             ],
             [
              0.5555555555555556,
              "#d8576b"
             ],
             [
              0.6666666666666666,
              "#ed7953"
             ],
             [
              0.7777777777777778,
              "#fb9f3a"
             ],
             [
              0.8888888888888888,
              "#fdca26"
             ],
             [
              1,
              "#f0f921"
             ]
            ],
            "type": "contour"
           }
          ],
          "contourcarpet": [
           {
            "colorbar": {
             "outlinewidth": 0,
             "ticks": ""
            },
            "type": "contourcarpet"
           }
          ],
          "heatmap": [
           {
            "colorbar": {
             "outlinewidth": 0,
             "ticks": ""
            },
            "colorscale": [
             [
              0,
              "#0d0887"
             ],
             [
              0.1111111111111111,
              "#46039f"
             ],
             [
              0.2222222222222222,
              "#7201a8"
             ],
             [
              0.3333333333333333,
              "#9c179e"
             ],
             [
              0.4444444444444444,
              "#bd3786"
             ],
             [
              0.5555555555555556,
              "#d8576b"
             ],
             [
              0.6666666666666666,
              "#ed7953"
             ],
             [
              0.7777777777777778,
              "#fb9f3a"
             ],
             [
              0.8888888888888888,
              "#fdca26"
             ],
             [
              1,
              "#f0f921"
             ]
            ],
            "type": "heatmap"
           }
          ],
          "heatmapgl": [
           {
            "colorbar": {
             "outlinewidth": 0,
             "ticks": ""
            },
            "colorscale": [
             [
              0,
              "#0d0887"
             ],
             [
              0.1111111111111111,
              "#46039f"
             ],
             [
              0.2222222222222222,
              "#7201a8"
             ],
             [
              0.3333333333333333,
              "#9c179e"
             ],
             [
              0.4444444444444444,
              "#bd3786"
             ],
             [
              0.5555555555555556,
              "#d8576b"
             ],
             [
              0.6666666666666666,
              "#ed7953"
             ],
             [
              0.7777777777777778,
              "#fb9f3a"
             ],
             [
              0.8888888888888888,
              "#fdca26"
             ],
             [
              1,
              "#f0f921"
             ]
            ],
            "type": "heatmapgl"
           }
          ],
          "histogram": [
           {
            "marker": {
             "pattern": {
              "fillmode": "overlay",
              "size": 10,
              "solidity": 0.2
             }
            },
            "type": "histogram"
           }
          ],
          "histogram2d": [
           {
            "colorbar": {
             "outlinewidth": 0,
             "ticks": ""
            },
            "colorscale": [
             [
              0,
              "#0d0887"
             ],
             [
              0.1111111111111111,
              "#46039f"
             ],
             [
              0.2222222222222222,
              "#7201a8"
             ],
             [
              0.3333333333333333,
              "#9c179e"
             ],
             [
              0.4444444444444444,
              "#bd3786"
             ],
             [
              0.5555555555555556,
              "#d8576b"
             ],
             [
              0.6666666666666666,
              "#ed7953"
             ],
             [
              0.7777777777777778,
              "#fb9f3a"
             ],
             [
              0.8888888888888888,
              "#fdca26"
             ],
             [
              1,
              "#f0f921"
             ]
            ],
            "type": "histogram2d"
           }
          ],
          "histogram2dcontour": [
           {
            "colorbar": {
             "outlinewidth": 0,
             "ticks": ""
            },
            "colorscale": [
             [
              0,
              "#0d0887"
             ],
             [
              0.1111111111111111,
              "#46039f"
             ],
             [
              0.2222222222222222,
              "#7201a8"
             ],
             [
              0.3333333333333333,
              "#9c179e"
             ],
             [
              0.4444444444444444,
              "#bd3786"
             ],
             [
              0.5555555555555556,
              "#d8576b"
             ],
             [
              0.6666666666666666,
              "#ed7953"
             ],
             [
              0.7777777777777778,
              "#fb9f3a"
             ],
             [
              0.8888888888888888,
              "#fdca26"
             ],
             [
              1,
              "#f0f921"
             ]
            ],
            "type": "histogram2dcontour"
           }
          ],
          "mesh3d": [
           {
            "colorbar": {
             "outlinewidth": 0,
             "ticks": ""
            },
            "type": "mesh3d"
           }
          ],
          "parcoords": [
           {
            "line": {
             "colorbar": {
              "outlinewidth": 0,
              "ticks": ""
             }
            },
            "type": "parcoords"
           }
          ],
          "pie": [
           {
            "automargin": true,
            "type": "pie"
           }
          ],
          "scatter": [
           {
            "fillpattern": {
             "fillmode": "overlay",
             "size": 10,
             "solidity": 0.2
            },
            "type": "scatter"
           }
          ],
          "scatter3d": [
           {
            "line": {
             "colorbar": {
              "outlinewidth": 0,
              "ticks": ""
             }
            },
            "marker": {
             "colorbar": {
              "outlinewidth": 0,
              "ticks": ""
             }
            },
            "type": "scatter3d"
           }
          ],
          "scattercarpet": [
           {
            "marker": {
             "colorbar": {
              "outlinewidth": 0,
              "ticks": ""
             }
            },
            "type": "scattercarpet"
           }
          ],
          "scattergeo": [
           {
            "marker": {
             "colorbar": {
              "outlinewidth": 0,
              "ticks": ""
             }
            },
            "type": "scattergeo"
           }
          ],
          "scattergl": [
           {
            "marker": {
             "colorbar": {
              "outlinewidth": 0,
              "ticks": ""
             }
            },
            "type": "scattergl"
           }
          ],
          "scattermapbox": [
           {
            "marker": {
             "colorbar": {
              "outlinewidth": 0,
              "ticks": ""
             }
            },
            "type": "scattermapbox"
           }
          ],
          "scatterpolar": [
           {
            "marker": {
             "colorbar": {
              "outlinewidth": 0,
              "ticks": ""
             }
            },
            "type": "scatterpolar"
           }
          ],
          "scatterpolargl": [
           {
            "marker": {
             "colorbar": {
              "outlinewidth": 0,
              "ticks": ""
             }
            },
            "type": "scatterpolargl"
           }
          ],
          "scatterternary": [
           {
            "marker": {
             "colorbar": {
              "outlinewidth": 0,
              "ticks": ""
             }
            },
            "type": "scatterternary"
           }
          ],
          "surface": [
           {
            "colorbar": {
             "outlinewidth": 0,
             "ticks": ""
            },
            "colorscale": [
             [
              0,
              "#0d0887"
             ],
             [
              0.1111111111111111,
              "#46039f"
             ],
             [
              0.2222222222222222,
              "#7201a8"
             ],
             [
              0.3333333333333333,
              "#9c179e"
             ],
             [
              0.4444444444444444,
              "#bd3786"
             ],
             [
              0.5555555555555556,
              "#d8576b"
             ],
             [
              0.6666666666666666,
              "#ed7953"
             ],
             [
              0.7777777777777778,
              "#fb9f3a"
             ],
             [
              0.8888888888888888,
              "#fdca26"
             ],
             [
              1,
              "#f0f921"
             ]
            ],
            "type": "surface"
           }
          ],
          "table": [
           {
            "cells": {
             "fill": {
              "color": "#EBF0F8"
             },
             "line": {
              "color": "white"
             }
            },
            "header": {
             "fill": {
              "color": "#C8D4E3"
             },
             "line": {
              "color": "white"
             }
            },
            "type": "table"
           }
          ]
         },
         "layout": {
          "annotationdefaults": {
           "arrowcolor": "#2a3f5f",
           "arrowhead": 0,
           "arrowwidth": 1
          },
          "autotypenumbers": "strict",
          "coloraxis": {
           "colorbar": {
            "outlinewidth": 0,
            "ticks": ""
           }
          },
          "colorscale": {
           "diverging": [
            [
             0,
             "#8e0152"
            ],
            [
             0.1,
             "#c51b7d"
            ],
            [
             0.2,
             "#de77ae"
            ],
            [
             0.3,
             "#f1b6da"
            ],
            [
             0.4,
             "#fde0ef"
            ],
            [
             0.5,
             "#f7f7f7"
            ],
            [
             0.6,
             "#e6f5d0"
            ],
            [
             0.7,
             "#b8e186"
            ],
            [
             0.8,
             "#7fbc41"
            ],
            [
             0.9,
             "#4d9221"
            ],
            [
             1,
             "#276419"
            ]
           ],
           "sequential": [
            [
             0,
             "#0d0887"
            ],
            [
             0.1111111111111111,
             "#46039f"
            ],
            [
             0.2222222222222222,
             "#7201a8"
            ],
            [
             0.3333333333333333,
             "#9c179e"
            ],
            [
             0.4444444444444444,
             "#bd3786"
            ],
            [
             0.5555555555555556,
             "#d8576b"
            ],
            [
             0.6666666666666666,
             "#ed7953"
            ],
            [
             0.7777777777777778,
             "#fb9f3a"
            ],
            [
             0.8888888888888888,
             "#fdca26"
            ],
            [
             1,
             "#f0f921"
            ]
           ],
           "sequentialminus": [
            [
             0,
             "#0d0887"
            ],
            [
             0.1111111111111111,
             "#46039f"
            ],
            [
             0.2222222222222222,
             "#7201a8"
            ],
            [
             0.3333333333333333,
             "#9c179e"
            ],
            [
             0.4444444444444444,
             "#bd3786"
            ],
            [
             0.5555555555555556,
             "#d8576b"
            ],
            [
             0.6666666666666666,
             "#ed7953"
            ],
            [
             0.7777777777777778,
             "#fb9f3a"
            ],
            [
             0.8888888888888888,
             "#fdca26"
            ],
            [
             1,
             "#f0f921"
            ]
           ]
          },
          "colorway": [
           "#636efa",
           "#EF553B",
           "#00cc96",
           "#ab63fa",
           "#FFA15A",
           "#19d3f3",
           "#FF6692",
           "#B6E880",
           "#FF97FF",
           "#FECB52"
          ],
          "font": {
           "color": "#2a3f5f"
          },
          "geo": {
           "bgcolor": "white",
           "lakecolor": "white",
           "landcolor": "#E5ECF6",
           "showlakes": true,
           "showland": true,
           "subunitcolor": "white"
          },
          "hoverlabel": {
           "align": "left"
          },
          "hovermode": "closest",
          "mapbox": {
           "style": "light"
          },
          "paper_bgcolor": "white",
          "plot_bgcolor": "#E5ECF6",
          "polar": {
           "angularaxis": {
            "gridcolor": "white",
            "linecolor": "white",
            "ticks": ""
           },
           "bgcolor": "#E5ECF6",
           "radialaxis": {
            "gridcolor": "white",
            "linecolor": "white",
            "ticks": ""
           }
          },
          "scene": {
           "xaxis": {
            "backgroundcolor": "#E5ECF6",
            "gridcolor": "white",
            "gridwidth": 2,
            "linecolor": "white",
            "showbackground": true,
            "ticks": "",
            "zerolinecolor": "white"
           },
           "yaxis": {
            "backgroundcolor": "#E5ECF6",
            "gridcolor": "white",
            "gridwidth": 2,
            "linecolor": "white",
            "showbackground": true,
            "ticks": "",
            "zerolinecolor": "white"
           },
           "zaxis": {
            "backgroundcolor": "#E5ECF6",
            "gridcolor": "white",
            "gridwidth": 2,
            "linecolor": "white",
            "showbackground": true,
            "ticks": "",
            "zerolinecolor": "white"
           }
          },
          "shapedefaults": {
           "line": {
            "color": "#2a3f5f"
           }
          },
          "ternary": {
           "aaxis": {
            "gridcolor": "white",
            "linecolor": "white",
            "ticks": ""
           },
           "baxis": {
            "gridcolor": "white",
            "linecolor": "white",
            "ticks": ""
           },
           "bgcolor": "#E5ECF6",
           "caxis": {
            "gridcolor": "white",
            "linecolor": "white",
            "ticks": ""
           }
          },
          "title": {
           "x": 0.05
          },
          "xaxis": {
           "automargin": true,
           "gridcolor": "white",
           "linecolor": "white",
           "ticks": "",
           "title": {
            "standoff": 15
           },
           "zerolinecolor": "white",
           "zerolinewidth": 2
          },
          "yaxis": {
           "automargin": true,
           "gridcolor": "white",
           "linecolor": "white",
           "ticks": "",
           "title": {
            "standoff": 15
           },
           "zerolinecolor": "white",
           "zerolinewidth": 2
          }
         }
        },
        "title": {
         "text": ""
        },
        "xaxis": {
         "tickangle": -45
        }
       }
      },
      "text/html": [
       "<div>                            <div id=\"9e024b30-99fe-402e-8e43-2cce71fdc0ca\" class=\"plotly-graph-div\" style=\"height:525px; width:100%;\"></div>            <script type=\"text/javascript\">                require([\"plotly\"], function(Plotly) {                    window.PLOTLYENV=window.PLOTLYENV || {};                                    if (document.getElementById(\"9e024b30-99fe-402e-8e43-2cce71fdc0ca\")) {                    Plotly.newPlot(                        \"9e024b30-99fe-402e-8e43-2cce71fdc0ca\",                        [{\"marker\":{\"color\":\"lightsalmon\"},\"name\":\"20/01/2023\",\"x\":[\"ADE\",\"IMAGINE DRAGONS\",\"COLDPLAY\",\"METALLICA\",\"RED HOT CHILI PEPPERS\",\"MUSE\",\"ANGELE\",\"DEPECHE MODE\",\"DADJU\",\"DAMSO\"],\"y\":[45646574.0,44947158.0,41270696.0,23514159.0,19029693.0,7304686.0,6610160.0,5014775.0,4737587.0,4179212.0],\"type\":\"bar\"}],                        {\"template\":{\"data\":{\"histogram2dcontour\":[{\"type\":\"histogram2dcontour\",\"colorbar\":{\"outlinewidth\":0,\"ticks\":\"\"},\"colorscale\":[[0.0,\"#0d0887\"],[0.1111111111111111,\"#46039f\"],[0.2222222222222222,\"#7201a8\"],[0.3333333333333333,\"#9c179e\"],[0.4444444444444444,\"#bd3786\"],[0.5555555555555556,\"#d8576b\"],[0.6666666666666666,\"#ed7953\"],[0.7777777777777778,\"#fb9f3a\"],[0.8888888888888888,\"#fdca26\"],[1.0,\"#f0f921\"]]}],\"choropleth\":[{\"type\":\"choropleth\",\"colorbar\":{\"outlinewidth\":0,\"ticks\":\"\"}}],\"histogram2d\":[{\"type\":\"histogram2d\",\"colorbar\":{\"outlinewidth\":0,\"ticks\":\"\"},\"colorscale\":[[0.0,\"#0d0887\"],[0.1111111111111111,\"#46039f\"],[0.2222222222222222,\"#7201a8\"],[0.3333333333333333,\"#9c179e\"],[0.4444444444444444,\"#bd3786\"],[0.5555555555555556,\"#d8576b\"],[0.6666666666666666,\"#ed7953\"],[0.7777777777777778,\"#fb9f3a\"],[0.8888888888888888,\"#fdca26\"],[1.0,\"#f0f921\"]]}],\"heatmap\":[{\"type\":\"heatmap\",\"colorbar\":{\"outlinewidth\":0,\"ticks\":\"\"},\"colorscale\":[[0.0,\"#0d0887\"],[0.1111111111111111,\"#46039f\"],[0.2222222222222222,\"#7201a8\"],[0.3333333333333333,\"#9c179e\"],[0.4444444444444444,\"#bd3786\"],[0.5555555555555556,\"#d8576b\"],[0.6666666666666666,\"#ed7953\"],[0.7777777777777778,\"#fb9f3a\"],[0.8888888888888888,\"#fdca26\"],[1.0,\"#f0f921\"]]}],\"heatmapgl\":[{\"type\":\"heatmapgl\",\"colorbar\":{\"outlinewidth\":0,\"ticks\":\"\"},\"colorscale\":[[0.0,\"#0d0887\"],[0.1111111111111111,\"#46039f\"],[0.2222222222222222,\"#7201a8\"],[0.3333333333333333,\"#9c179e\"],[0.4444444444444444,\"#bd3786\"],[0.5555555555555556,\"#d8576b\"],[0.6666666666666666,\"#ed7953\"],[0.7777777777777778,\"#fb9f3a\"],[0.8888888888888888,\"#fdca26\"],[1.0,\"#f0f921\"]]}],\"contourcarpet\":[{\"type\":\"contourcarpet\",\"colorbar\":{\"outlinewidth\":0,\"ticks\":\"\"}}],\"contour\":[{\"type\":\"contour\",\"colorbar\":{\"outlinewidth\":0,\"ticks\":\"\"},\"colorscale\":[[0.0,\"#0d0887\"],[0.1111111111111111,\"#46039f\"],[0.2222222222222222,\"#7201a8\"],[0.3333333333333333,\"#9c179e\"],[0.4444444444444444,\"#bd3786\"],[0.5555555555555556,\"#d8576b\"],[0.6666666666666666,\"#ed7953\"],[0.7777777777777778,\"#fb9f3a\"],[0.8888888888888888,\"#fdca26\"],[1.0,\"#f0f921\"]]}],\"surface\":[{\"type\":\"surface\",\"colorbar\":{\"outlinewidth\":0,\"ticks\":\"\"},\"colorscale\":[[0.0,\"#0d0887\"],[0.1111111111111111,\"#46039f\"],[0.2222222222222222,\"#7201a8\"],[0.3333333333333333,\"#9c179e\"],[0.4444444444444444,\"#bd3786\"],[0.5555555555555556,\"#d8576b\"],[0.6666666666666666,\"#ed7953\"],[0.7777777777777778,\"#fb9f3a\"],[0.8888888888888888,\"#fdca26\"],[1.0,\"#f0f921\"]]}],\"mesh3d\":[{\"type\":\"mesh3d\",\"colorbar\":{\"outlinewidth\":0,\"ticks\":\"\"}}],\"scatter\":[{\"fillpattern\":{\"fillmode\":\"overlay\",\"size\":10,\"solidity\":0.2},\"type\":\"scatter\"}],\"parcoords\":[{\"type\":\"parcoords\",\"line\":{\"colorbar\":{\"outlinewidth\":0,\"ticks\":\"\"}}}],\"scatterpolargl\":[{\"type\":\"scatterpolargl\",\"marker\":{\"colorbar\":{\"outlinewidth\":0,\"ticks\":\"\"}}}],\"bar\":[{\"error_x\":{\"color\":\"#2a3f5f\"},\"error_y\":{\"color\":\"#2a3f5f\"},\"marker\":{\"line\":{\"color\":\"#E5ECF6\",\"width\":0.5},\"pattern\":{\"fillmode\":\"overlay\",\"size\":10,\"solidity\":0.2}},\"type\":\"bar\"}],\"scattergeo\":[{\"type\":\"scattergeo\",\"marker\":{\"colorbar\":{\"outlinewidth\":0,\"ticks\":\"\"}}}],\"scatterpolar\":[{\"type\":\"scatterpolar\",\"marker\":{\"colorbar\":{\"outlinewidth\":0,\"ticks\":\"\"}}}],\"histogram\":[{\"marker\":{\"pattern\":{\"fillmode\":\"overlay\",\"size\":10,\"solidity\":0.2}},\"type\":\"histogram\"}],\"scattergl\":[{\"type\":\"scattergl\",\"marker\":{\"colorbar\":{\"outlinewidth\":0,\"ticks\":\"\"}}}],\"scatter3d\":[{\"type\":\"scatter3d\",\"line\":{\"colorbar\":{\"outlinewidth\":0,\"ticks\":\"\"}},\"marker\":{\"colorbar\":{\"outlinewidth\":0,\"ticks\":\"\"}}}],\"scattermapbox\":[{\"type\":\"scattermapbox\",\"marker\":{\"colorbar\":{\"outlinewidth\":0,\"ticks\":\"\"}}}],\"scatterternary\":[{\"type\":\"scatterternary\",\"marker\":{\"colorbar\":{\"outlinewidth\":0,\"ticks\":\"\"}}}],\"scattercarpet\":[{\"type\":\"scattercarpet\",\"marker\":{\"colorbar\":{\"outlinewidth\":0,\"ticks\":\"\"}}}],\"carpet\":[{\"aaxis\":{\"endlinecolor\":\"#2a3f5f\",\"gridcolor\":\"white\",\"linecolor\":\"white\",\"minorgridcolor\":\"white\",\"startlinecolor\":\"#2a3f5f\"},\"baxis\":{\"endlinecolor\":\"#2a3f5f\",\"gridcolor\":\"white\",\"linecolor\":\"white\",\"minorgridcolor\":\"white\",\"startlinecolor\":\"#2a3f5f\"},\"type\":\"carpet\"}],\"table\":[{\"cells\":{\"fill\":{\"color\":\"#EBF0F8\"},\"line\":{\"color\":\"white\"}},\"header\":{\"fill\":{\"color\":\"#C8D4E3\"},\"line\":{\"color\":\"white\"}},\"type\":\"table\"}],\"barpolar\":[{\"marker\":{\"line\":{\"color\":\"#E5ECF6\",\"width\":0.5},\"pattern\":{\"fillmode\":\"overlay\",\"size\":10,\"solidity\":0.2}},\"type\":\"barpolar\"}],\"pie\":[{\"automargin\":true,\"type\":\"pie\"}]},\"layout\":{\"autotypenumbers\":\"strict\",\"colorway\":[\"#636efa\",\"#EF553B\",\"#00cc96\",\"#ab63fa\",\"#FFA15A\",\"#19d3f3\",\"#FF6692\",\"#B6E880\",\"#FF97FF\",\"#FECB52\"],\"font\":{\"color\":\"#2a3f5f\"},\"hovermode\":\"closest\",\"hoverlabel\":{\"align\":\"left\"},\"paper_bgcolor\":\"white\",\"plot_bgcolor\":\"#E5ECF6\",\"polar\":{\"bgcolor\":\"#E5ECF6\",\"angularaxis\":{\"gridcolor\":\"white\",\"linecolor\":\"white\",\"ticks\":\"\"},\"radialaxis\":{\"gridcolor\":\"white\",\"linecolor\":\"white\",\"ticks\":\"\"}},\"ternary\":{\"bgcolor\":\"#E5ECF6\",\"aaxis\":{\"gridcolor\":\"white\",\"linecolor\":\"white\",\"ticks\":\"\"},\"baxis\":{\"gridcolor\":\"white\",\"linecolor\":\"white\",\"ticks\":\"\"},\"caxis\":{\"gridcolor\":\"white\",\"linecolor\":\"white\",\"ticks\":\"\"}},\"coloraxis\":{\"colorbar\":{\"outlinewidth\":0,\"ticks\":\"\"}},\"colorscale\":{\"sequential\":[[0.0,\"#0d0887\"],[0.1111111111111111,\"#46039f\"],[0.2222222222222222,\"#7201a8\"],[0.3333333333333333,\"#9c179e\"],[0.4444444444444444,\"#bd3786\"],[0.5555555555555556,\"#d8576b\"],[0.6666666666666666,\"#ed7953\"],[0.7777777777777778,\"#fb9f3a\"],[0.8888888888888888,\"#fdca26\"],[1.0,\"#f0f921\"]],\"sequentialminus\":[[0.0,\"#0d0887\"],[0.1111111111111111,\"#46039f\"],[0.2222222222222222,\"#7201a8\"],[0.3333333333333333,\"#9c179e\"],[0.4444444444444444,\"#bd3786\"],[0.5555555555555556,\"#d8576b\"],[0.6666666666666666,\"#ed7953\"],[0.7777777777777778,\"#fb9f3a\"],[0.8888888888888888,\"#fdca26\"],[1.0,\"#f0f921\"]],\"diverging\":[[0,\"#8e0152\"],[0.1,\"#c51b7d\"],[0.2,\"#de77ae\"],[0.3,\"#f1b6da\"],[0.4,\"#fde0ef\"],[0.5,\"#f7f7f7\"],[0.6,\"#e6f5d0\"],[0.7,\"#b8e186\"],[0.8,\"#7fbc41\"],[0.9,\"#4d9221\"],[1,\"#276419\"]]},\"xaxis\":{\"gridcolor\":\"white\",\"linecolor\":\"white\",\"ticks\":\"\",\"title\":{\"standoff\":15},\"zerolinecolor\":\"white\",\"automargin\":true,\"zerolinewidth\":2},\"yaxis\":{\"gridcolor\":\"white\",\"linecolor\":\"white\",\"ticks\":\"\",\"title\":{\"standoff\":15},\"zerolinecolor\":\"white\",\"automargin\":true,\"zerolinewidth\":2},\"scene\":{\"xaxis\":{\"backgroundcolor\":\"#E5ECF6\",\"gridcolor\":\"white\",\"linecolor\":\"white\",\"showbackground\":true,\"ticks\":\"\",\"zerolinecolor\":\"white\",\"gridwidth\":2},\"yaxis\":{\"backgroundcolor\":\"#E5ECF6\",\"gridcolor\":\"white\",\"linecolor\":\"white\",\"showbackground\":true,\"ticks\":\"\",\"zerolinecolor\":\"white\",\"gridwidth\":2},\"zaxis\":{\"backgroundcolor\":\"#E5ECF6\",\"gridcolor\":\"white\",\"linecolor\":\"white\",\"showbackground\":true,\"ticks\":\"\",\"zerolinecolor\":\"white\",\"gridwidth\":2}},\"shapedefaults\":{\"line\":{\"color\":\"#2a3f5f\"}},\"annotationdefaults\":{\"arrowcolor\":\"#2a3f5f\",\"arrowhead\":0,\"arrowwidth\":1},\"geo\":{\"bgcolor\":\"white\",\"landcolor\":\"#E5ECF6\",\"subunitcolor\":\"white\",\"showland\":true,\"showlakes\":true,\"lakecolor\":\"white\"},\"title\":{\"x\":0.05},\"mapbox\":{\"style\":\"light\"}}},\"xaxis\":{\"tickangle\":-45},\"barmode\":\"group\",\"title\":{\"text\":\"\"}},                        {\"responsive\": true}                    ).then(function(){\n",
       "                            \n",
       "var gd = document.getElementById('9e024b30-99fe-402e-8e43-2cce71fdc0ca');\n",
       "var x = new MutationObserver(function (mutations, observer) {{\n",
       "        var display = window.getComputedStyle(gd).display;\n",
       "        if (!display || display === 'none') {{\n",
       "            console.log([gd, 'removed!']);\n",
       "            Plotly.purge(gd);\n",
       "            observer.disconnect();\n",
       "        }}\n",
       "}});\n",
       "\n",
       "// Listen for the removal of the full notebook cells\n",
       "var notebookContainer = gd.closest('#notebook-container');\n",
       "if (notebookContainer) {{\n",
       "    x.observe(notebookContainer, {childList: true});\n",
       "}}\n",
       "\n",
       "// Listen for the clearing of the current output cell\n",
       "var outputEl = gd.closest('.output');\n",
       "if (outputEl) {{\n",
       "    x.observe(outputEl, {childList: true});\n",
       "}}\n",
       "\n",
       "                        })                };                });            </script>        </div>"
      ]
     },
     "metadata": {},
     "output_type": "display_data"
    }
   ],
   "source": [
    "df_graph = df.sort_values(by=[max_date], ascending=False).head(10)\n",
    "\n",
    "fig = go.Figure()\n",
    "fig.add_trace(go.Bar(\n",
    "     x=df_graph[\"_id\"],\n",
    "     y=df_graph[max_date],\n",
    "     name=max_date,\n",
    "     marker_color='lightsalmon'\n",
    " ))\n",
    "\n",
    "# Here we modify the tickangle of the xaxis, resulting in rotated labels.\n",
    "fig.update_layout(barmode='group', xaxis_tickangle=-45, title=\"\")\n"
   ]
  },
  {
   "cell_type": "code",
   "execution_count": 53,
   "id": "292cd87e",
   "metadata": {},
   "outputs": [
    {
     "data": {
      "application/vnd.plotly.v1+json": {
       "config": {
        "plotlyServerURL": "https://plot.ly"
       },
       "data": [
        {
         "marker": {
          "color": "indianred"
         },
         "name": "20/01/2023",
         "type": "bar",
         "x": [
          "IMAGINE DRAGONS",
          "COLDPLAY",
          "ADE",
          "METALLICA",
          "RED HOT CHILI PEPPERS",
          "ANGELE",
          "DAMSO",
          "MUSE",
          "GAZO",
          "TIAKOLA"
         ],
         "y": [
          89,
          89,
          87,
          83,
          83,
          77,
          77,
          77,
          77,
          75
         ]
        }
       ],
       "layout": {
        "barmode": "group",
        "template": {
         "data": {
          "bar": [
           {
            "error_x": {
             "color": "#2a3f5f"
            },
            "error_y": {
             "color": "#2a3f5f"
            },
            "marker": {
             "line": {
              "color": "#E5ECF6",
              "width": 0.5
             },
             "pattern": {
              "fillmode": "overlay",
              "size": 10,
              "solidity": 0.2
             }
            },
            "type": "bar"
           }
          ],
          "barpolar": [
           {
            "marker": {
             "line": {
              "color": "#E5ECF6",
              "width": 0.5
             },
             "pattern": {
              "fillmode": "overlay",
              "size": 10,
              "solidity": 0.2
             }
            },
            "type": "barpolar"
           }
          ],
          "carpet": [
           {
            "aaxis": {
             "endlinecolor": "#2a3f5f",
             "gridcolor": "white",
             "linecolor": "white",
             "minorgridcolor": "white",
             "startlinecolor": "#2a3f5f"
            },
            "baxis": {
             "endlinecolor": "#2a3f5f",
             "gridcolor": "white",
             "linecolor": "white",
             "minorgridcolor": "white",
             "startlinecolor": "#2a3f5f"
            },
            "type": "carpet"
           }
          ],
          "choropleth": [
           {
            "colorbar": {
             "outlinewidth": 0,
             "ticks": ""
            },
            "type": "choropleth"
           }
          ],
          "contour": [
           {
            "colorbar": {
             "outlinewidth": 0,
             "ticks": ""
            },
            "colorscale": [
             [
              0,
              "#0d0887"
             ],
             [
              0.1111111111111111,
              "#46039f"
             ],
             [
              0.2222222222222222,
              "#7201a8"
             ],
             [
              0.3333333333333333,
              "#9c179e"
             ],
             [
              0.4444444444444444,
              "#bd3786"
             ],
             [
              0.5555555555555556,
              "#d8576b"
             ],
             [
              0.6666666666666666,
              "#ed7953"
             ],
             [
              0.7777777777777778,
              "#fb9f3a"
             ],
             [
              0.8888888888888888,
              "#fdca26"
             ],
             [
              1,
              "#f0f921"
             ]
            ],
            "type": "contour"
           }
          ],
          "contourcarpet": [
           {
            "colorbar": {
             "outlinewidth": 0,
             "ticks": ""
            },
            "type": "contourcarpet"
           }
          ],
          "heatmap": [
           {
            "colorbar": {
             "outlinewidth": 0,
             "ticks": ""
            },
            "colorscale": [
             [
              0,
              "#0d0887"
             ],
             [
              0.1111111111111111,
              "#46039f"
             ],
             [
              0.2222222222222222,
              "#7201a8"
             ],
             [
              0.3333333333333333,
              "#9c179e"
             ],
             [
              0.4444444444444444,
              "#bd3786"
             ],
             [
              0.5555555555555556,
              "#d8576b"
             ],
             [
              0.6666666666666666,
              "#ed7953"
             ],
             [
              0.7777777777777778,
              "#fb9f3a"
             ],
             [
              0.8888888888888888,
              "#fdca26"
             ],
             [
              1,
              "#f0f921"
             ]
            ],
            "type": "heatmap"
           }
          ],
          "heatmapgl": [
           {
            "colorbar": {
             "outlinewidth": 0,
             "ticks": ""
            },
            "colorscale": [
             [
              0,
              "#0d0887"
             ],
             [
              0.1111111111111111,
              "#46039f"
             ],
             [
              0.2222222222222222,
              "#7201a8"
             ],
             [
              0.3333333333333333,
              "#9c179e"
             ],
             [
              0.4444444444444444,
              "#bd3786"
             ],
             [
              0.5555555555555556,
              "#d8576b"
             ],
             [
              0.6666666666666666,
              "#ed7953"
             ],
             [
              0.7777777777777778,
              "#fb9f3a"
             ],
             [
              0.8888888888888888,
              "#fdca26"
             ],
             [
              1,
              "#f0f921"
             ]
            ],
            "type": "heatmapgl"
           }
          ],
          "histogram": [
           {
            "marker": {
             "pattern": {
              "fillmode": "overlay",
              "size": 10,
              "solidity": 0.2
             }
            },
            "type": "histogram"
           }
          ],
          "histogram2d": [
           {
            "colorbar": {
             "outlinewidth": 0,
             "ticks": ""
            },
            "colorscale": [
             [
              0,
              "#0d0887"
             ],
             [
              0.1111111111111111,
              "#46039f"
             ],
             [
              0.2222222222222222,
              "#7201a8"
             ],
             [
              0.3333333333333333,
              "#9c179e"
             ],
             [
              0.4444444444444444,
              "#bd3786"
             ],
             [
              0.5555555555555556,
              "#d8576b"
             ],
             [
              0.6666666666666666,
              "#ed7953"
             ],
             [
              0.7777777777777778,
              "#fb9f3a"
             ],
             [
              0.8888888888888888,
              "#fdca26"
             ],
             [
              1,
              "#f0f921"
             ]
            ],
            "type": "histogram2d"
           }
          ],
          "histogram2dcontour": [
           {
            "colorbar": {
             "outlinewidth": 0,
             "ticks": ""
            },
            "colorscale": [
             [
              0,
              "#0d0887"
             ],
             [
              0.1111111111111111,
              "#46039f"
             ],
             [
              0.2222222222222222,
              "#7201a8"
             ],
             [
              0.3333333333333333,
              "#9c179e"
             ],
             [
              0.4444444444444444,
              "#bd3786"
             ],
             [
              0.5555555555555556,
              "#d8576b"
             ],
             [
              0.6666666666666666,
              "#ed7953"
             ],
             [
              0.7777777777777778,
              "#fb9f3a"
             ],
             [
              0.8888888888888888,
              "#fdca26"
             ],
             [
              1,
              "#f0f921"
             ]
            ],
            "type": "histogram2dcontour"
           }
          ],
          "mesh3d": [
           {
            "colorbar": {
             "outlinewidth": 0,
             "ticks": ""
            },
            "type": "mesh3d"
           }
          ],
          "parcoords": [
           {
            "line": {
             "colorbar": {
              "outlinewidth": 0,
              "ticks": ""
             }
            },
            "type": "parcoords"
           }
          ],
          "pie": [
           {
            "automargin": true,
            "type": "pie"
           }
          ],
          "scatter": [
           {
            "fillpattern": {
             "fillmode": "overlay",
             "size": 10,
             "solidity": 0.2
            },
            "type": "scatter"
           }
          ],
          "scatter3d": [
           {
            "line": {
             "colorbar": {
              "outlinewidth": 0,
              "ticks": ""
             }
            },
            "marker": {
             "colorbar": {
              "outlinewidth": 0,
              "ticks": ""
             }
            },
            "type": "scatter3d"
           }
          ],
          "scattercarpet": [
           {
            "marker": {
             "colorbar": {
              "outlinewidth": 0,
              "ticks": ""
             }
            },
            "type": "scattercarpet"
           }
          ],
          "scattergeo": [
           {
            "marker": {
             "colorbar": {
              "outlinewidth": 0,
              "ticks": ""
             }
            },
            "type": "scattergeo"
           }
          ],
          "scattergl": [
           {
            "marker": {
             "colorbar": {
              "outlinewidth": 0,
              "ticks": ""
             }
            },
            "type": "scattergl"
           }
          ],
          "scattermapbox": [
           {
            "marker": {
             "colorbar": {
              "outlinewidth": 0,
              "ticks": ""
             }
            },
            "type": "scattermapbox"
           }
          ],
          "scatterpolar": [
           {
            "marker": {
             "colorbar": {
              "outlinewidth": 0,
              "ticks": ""
             }
            },
            "type": "scatterpolar"
           }
          ],
          "scatterpolargl": [
           {
            "marker": {
             "colorbar": {
              "outlinewidth": 0,
              "ticks": ""
             }
            },
            "type": "scatterpolargl"
           }
          ],
          "scatterternary": [
           {
            "marker": {
             "colorbar": {
              "outlinewidth": 0,
              "ticks": ""
             }
            },
            "type": "scatterternary"
           }
          ],
          "surface": [
           {
            "colorbar": {
             "outlinewidth": 0,
             "ticks": ""
            },
            "colorscale": [
             [
              0,
              "#0d0887"
             ],
             [
              0.1111111111111111,
              "#46039f"
             ],
             [
              0.2222222222222222,
              "#7201a8"
             ],
             [
              0.3333333333333333,
              "#9c179e"
             ],
             [
              0.4444444444444444,
              "#bd3786"
             ],
             [
              0.5555555555555556,
              "#d8576b"
             ],
             [
              0.6666666666666666,
              "#ed7953"
             ],
             [
              0.7777777777777778,
              "#fb9f3a"
             ],
             [
              0.8888888888888888,
              "#fdca26"
             ],
             [
              1,
              "#f0f921"
             ]
            ],
            "type": "surface"
           }
          ],
          "table": [
           {
            "cells": {
             "fill": {
              "color": "#EBF0F8"
             },
             "line": {
              "color": "white"
             }
            },
            "header": {
             "fill": {
              "color": "#C8D4E3"
             },
             "line": {
              "color": "white"
             }
            },
            "type": "table"
           }
          ]
         },
         "layout": {
          "annotationdefaults": {
           "arrowcolor": "#2a3f5f",
           "arrowhead": 0,
           "arrowwidth": 1
          },
          "autotypenumbers": "strict",
          "coloraxis": {
           "colorbar": {
            "outlinewidth": 0,
            "ticks": ""
           }
          },
          "colorscale": {
           "diverging": [
            [
             0,
             "#8e0152"
            ],
            [
             0.1,
             "#c51b7d"
            ],
            [
             0.2,
             "#de77ae"
            ],
            [
             0.3,
             "#f1b6da"
            ],
            [
             0.4,
             "#fde0ef"
            ],
            [
             0.5,
             "#f7f7f7"
            ],
            [
             0.6,
             "#e6f5d0"
            ],
            [
             0.7,
             "#b8e186"
            ],
            [
             0.8,
             "#7fbc41"
            ],
            [
             0.9,
             "#4d9221"
            ],
            [
             1,
             "#276419"
            ]
           ],
           "sequential": [
            [
             0,
             "#0d0887"
            ],
            [
             0.1111111111111111,
             "#46039f"
            ],
            [
             0.2222222222222222,
             "#7201a8"
            ],
            [
             0.3333333333333333,
             "#9c179e"
            ],
            [
             0.4444444444444444,
             "#bd3786"
            ],
            [
             0.5555555555555556,
             "#d8576b"
            ],
            [
             0.6666666666666666,
             "#ed7953"
            ],
            [
             0.7777777777777778,
             "#fb9f3a"
            ],
            [
             0.8888888888888888,
             "#fdca26"
            ],
            [
             1,
             "#f0f921"
            ]
           ],
           "sequentialminus": [
            [
             0,
             "#0d0887"
            ],
            [
             0.1111111111111111,
             "#46039f"
            ],
            [
             0.2222222222222222,
             "#7201a8"
            ],
            [
             0.3333333333333333,
             "#9c179e"
            ],
            [
             0.4444444444444444,
             "#bd3786"
            ],
            [
             0.5555555555555556,
             "#d8576b"
            ],
            [
             0.6666666666666666,
             "#ed7953"
            ],
            [
             0.7777777777777778,
             "#fb9f3a"
            ],
            [
             0.8888888888888888,
             "#fdca26"
            ],
            [
             1,
             "#f0f921"
            ]
           ]
          },
          "colorway": [
           "#636efa",
           "#EF553B",
           "#00cc96",
           "#ab63fa",
           "#FFA15A",
           "#19d3f3",
           "#FF6692",
           "#B6E880",
           "#FF97FF",
           "#FECB52"
          ],
          "font": {
           "color": "#2a3f5f"
          },
          "geo": {
           "bgcolor": "white",
           "lakecolor": "white",
           "landcolor": "#E5ECF6",
           "showlakes": true,
           "showland": true,
           "subunitcolor": "white"
          },
          "hoverlabel": {
           "align": "left"
          },
          "hovermode": "closest",
          "mapbox": {
           "style": "light"
          },
          "paper_bgcolor": "white",
          "plot_bgcolor": "#E5ECF6",
          "polar": {
           "angularaxis": {
            "gridcolor": "white",
            "linecolor": "white",
            "ticks": ""
           },
           "bgcolor": "#E5ECF6",
           "radialaxis": {
            "gridcolor": "white",
            "linecolor": "white",
            "ticks": ""
           }
          },
          "scene": {
           "xaxis": {
            "backgroundcolor": "#E5ECF6",
            "gridcolor": "white",
            "gridwidth": 2,
            "linecolor": "white",
            "showbackground": true,
            "ticks": "",
            "zerolinecolor": "white"
           },
           "yaxis": {
            "backgroundcolor": "#E5ECF6",
            "gridcolor": "white",
            "gridwidth": 2,
            "linecolor": "white",
            "showbackground": true,
            "ticks": "",
            "zerolinecolor": "white"
           },
           "zaxis": {
            "backgroundcolor": "#E5ECF6",
            "gridcolor": "white",
            "gridwidth": 2,
            "linecolor": "white",
            "showbackground": true,
            "ticks": "",
            "zerolinecolor": "white"
           }
          },
          "shapedefaults": {
           "line": {
            "color": "#2a3f5f"
           }
          },
          "ternary": {
           "aaxis": {
            "gridcolor": "white",
            "linecolor": "white",
            "ticks": ""
           },
           "baxis": {
            "gridcolor": "white",
            "linecolor": "white",
            "ticks": ""
           },
           "bgcolor": "#E5ECF6",
           "caxis": {
            "gridcolor": "white",
            "linecolor": "white",
            "ticks": ""
           }
          },
          "title": {
           "x": 0.05
          },
          "xaxis": {
           "automargin": true,
           "gridcolor": "white",
           "linecolor": "white",
           "ticks": "",
           "title": {
            "standoff": 15
           },
           "zerolinecolor": "white",
           "zerolinewidth": 2
          },
          "yaxis": {
           "automargin": true,
           "gridcolor": "white",
           "linecolor": "white",
           "ticks": "",
           "title": {
            "standoff": 15
           },
           "zerolinecolor": "white",
           "zerolinewidth": 2
          }
         }
        },
        "title": {
         "text": ""
        },
        "xaxis": {
         "tickangle": -45
        }
       }
      },
      "text/html": [
       "<div>                            <div id=\"c5014c97-3e28-47f3-a2d9-2a1e463d7b81\" class=\"plotly-graph-div\" style=\"height:525px; width:100%;\"></div>            <script type=\"text/javascript\">                require([\"plotly\"], function(Plotly) {                    window.PLOTLYENV=window.PLOTLYENV || {};                                    if (document.getElementById(\"c5014c97-3e28-47f3-a2d9-2a1e463d7b81\")) {                    Plotly.newPlot(                        \"c5014c97-3e28-47f3-a2d9-2a1e463d7b81\",                        [{\"marker\":{\"color\":\"indianred\"},\"name\":\"20/01/2023\",\"x\":[\"IMAGINE DRAGONS\",\"COLDPLAY\",\"ADE\",\"METALLICA\",\"RED HOT CHILI PEPPERS\",\"ANGELE\",\"DAMSO\",\"MUSE\",\"GAZO\",\"TIAKOLA\"],\"y\":[89.0,89.0,87.0,83.0,83.0,77.0,77.0,77.0,77.0,75.0],\"type\":\"bar\"}],                        {\"template\":{\"data\":{\"histogram2dcontour\":[{\"type\":\"histogram2dcontour\",\"colorbar\":{\"outlinewidth\":0,\"ticks\":\"\"},\"colorscale\":[[0.0,\"#0d0887\"],[0.1111111111111111,\"#46039f\"],[0.2222222222222222,\"#7201a8\"],[0.3333333333333333,\"#9c179e\"],[0.4444444444444444,\"#bd3786\"],[0.5555555555555556,\"#d8576b\"],[0.6666666666666666,\"#ed7953\"],[0.7777777777777778,\"#fb9f3a\"],[0.8888888888888888,\"#fdca26\"],[1.0,\"#f0f921\"]]}],\"choropleth\":[{\"type\":\"choropleth\",\"colorbar\":{\"outlinewidth\":0,\"ticks\":\"\"}}],\"histogram2d\":[{\"type\":\"histogram2d\",\"colorbar\":{\"outlinewidth\":0,\"ticks\":\"\"},\"colorscale\":[[0.0,\"#0d0887\"],[0.1111111111111111,\"#46039f\"],[0.2222222222222222,\"#7201a8\"],[0.3333333333333333,\"#9c179e\"],[0.4444444444444444,\"#bd3786\"],[0.5555555555555556,\"#d8576b\"],[0.6666666666666666,\"#ed7953\"],[0.7777777777777778,\"#fb9f3a\"],[0.8888888888888888,\"#fdca26\"],[1.0,\"#f0f921\"]]}],\"heatmap\":[{\"type\":\"heatmap\",\"colorbar\":{\"outlinewidth\":0,\"ticks\":\"\"},\"colorscale\":[[0.0,\"#0d0887\"],[0.1111111111111111,\"#46039f\"],[0.2222222222222222,\"#7201a8\"],[0.3333333333333333,\"#9c179e\"],[0.4444444444444444,\"#bd3786\"],[0.5555555555555556,\"#d8576b\"],[0.6666666666666666,\"#ed7953\"],[0.7777777777777778,\"#fb9f3a\"],[0.8888888888888888,\"#fdca26\"],[1.0,\"#f0f921\"]]}],\"heatmapgl\":[{\"type\":\"heatmapgl\",\"colorbar\":{\"outlinewidth\":0,\"ticks\":\"\"},\"colorscale\":[[0.0,\"#0d0887\"],[0.1111111111111111,\"#46039f\"],[0.2222222222222222,\"#7201a8\"],[0.3333333333333333,\"#9c179e\"],[0.4444444444444444,\"#bd3786\"],[0.5555555555555556,\"#d8576b\"],[0.6666666666666666,\"#ed7953\"],[0.7777777777777778,\"#fb9f3a\"],[0.8888888888888888,\"#fdca26\"],[1.0,\"#f0f921\"]]}],\"contourcarpet\":[{\"type\":\"contourcarpet\",\"colorbar\":{\"outlinewidth\":0,\"ticks\":\"\"}}],\"contour\":[{\"type\":\"contour\",\"colorbar\":{\"outlinewidth\":0,\"ticks\":\"\"},\"colorscale\":[[0.0,\"#0d0887\"],[0.1111111111111111,\"#46039f\"],[0.2222222222222222,\"#7201a8\"],[0.3333333333333333,\"#9c179e\"],[0.4444444444444444,\"#bd3786\"],[0.5555555555555556,\"#d8576b\"],[0.6666666666666666,\"#ed7953\"],[0.7777777777777778,\"#fb9f3a\"],[0.8888888888888888,\"#fdca26\"],[1.0,\"#f0f921\"]]}],\"surface\":[{\"type\":\"surface\",\"colorbar\":{\"outlinewidth\":0,\"ticks\":\"\"},\"colorscale\":[[0.0,\"#0d0887\"],[0.1111111111111111,\"#46039f\"],[0.2222222222222222,\"#7201a8\"],[0.3333333333333333,\"#9c179e\"],[0.4444444444444444,\"#bd3786\"],[0.5555555555555556,\"#d8576b\"],[0.6666666666666666,\"#ed7953\"],[0.7777777777777778,\"#fb9f3a\"],[0.8888888888888888,\"#fdca26\"],[1.0,\"#f0f921\"]]}],\"mesh3d\":[{\"type\":\"mesh3d\",\"colorbar\":{\"outlinewidth\":0,\"ticks\":\"\"}}],\"scatter\":[{\"fillpattern\":{\"fillmode\":\"overlay\",\"size\":10,\"solidity\":0.2},\"type\":\"scatter\"}],\"parcoords\":[{\"type\":\"parcoords\",\"line\":{\"colorbar\":{\"outlinewidth\":0,\"ticks\":\"\"}}}],\"scatterpolargl\":[{\"type\":\"scatterpolargl\",\"marker\":{\"colorbar\":{\"outlinewidth\":0,\"ticks\":\"\"}}}],\"bar\":[{\"error_x\":{\"color\":\"#2a3f5f\"},\"error_y\":{\"color\":\"#2a3f5f\"},\"marker\":{\"line\":{\"color\":\"#E5ECF6\",\"width\":0.5},\"pattern\":{\"fillmode\":\"overlay\",\"size\":10,\"solidity\":0.2}},\"type\":\"bar\"}],\"scattergeo\":[{\"type\":\"scattergeo\",\"marker\":{\"colorbar\":{\"outlinewidth\":0,\"ticks\":\"\"}}}],\"scatterpolar\":[{\"type\":\"scatterpolar\",\"marker\":{\"colorbar\":{\"outlinewidth\":0,\"ticks\":\"\"}}}],\"histogram\":[{\"marker\":{\"pattern\":{\"fillmode\":\"overlay\",\"size\":10,\"solidity\":0.2}},\"type\":\"histogram\"}],\"scattergl\":[{\"type\":\"scattergl\",\"marker\":{\"colorbar\":{\"outlinewidth\":0,\"ticks\":\"\"}}}],\"scatter3d\":[{\"type\":\"scatter3d\",\"line\":{\"colorbar\":{\"outlinewidth\":0,\"ticks\":\"\"}},\"marker\":{\"colorbar\":{\"outlinewidth\":0,\"ticks\":\"\"}}}],\"scattermapbox\":[{\"type\":\"scattermapbox\",\"marker\":{\"colorbar\":{\"outlinewidth\":0,\"ticks\":\"\"}}}],\"scatterternary\":[{\"type\":\"scatterternary\",\"marker\":{\"colorbar\":{\"outlinewidth\":0,\"ticks\":\"\"}}}],\"scattercarpet\":[{\"type\":\"scattercarpet\",\"marker\":{\"colorbar\":{\"outlinewidth\":0,\"ticks\":\"\"}}}],\"carpet\":[{\"aaxis\":{\"endlinecolor\":\"#2a3f5f\",\"gridcolor\":\"white\",\"linecolor\":\"white\",\"minorgridcolor\":\"white\",\"startlinecolor\":\"#2a3f5f\"},\"baxis\":{\"endlinecolor\":\"#2a3f5f\",\"gridcolor\":\"white\",\"linecolor\":\"white\",\"minorgridcolor\":\"white\",\"startlinecolor\":\"#2a3f5f\"},\"type\":\"carpet\"}],\"table\":[{\"cells\":{\"fill\":{\"color\":\"#EBF0F8\"},\"line\":{\"color\":\"white\"}},\"header\":{\"fill\":{\"color\":\"#C8D4E3\"},\"line\":{\"color\":\"white\"}},\"type\":\"table\"}],\"barpolar\":[{\"marker\":{\"line\":{\"color\":\"#E5ECF6\",\"width\":0.5},\"pattern\":{\"fillmode\":\"overlay\",\"size\":10,\"solidity\":0.2}},\"type\":\"barpolar\"}],\"pie\":[{\"automargin\":true,\"type\":\"pie\"}]},\"layout\":{\"autotypenumbers\":\"strict\",\"colorway\":[\"#636efa\",\"#EF553B\",\"#00cc96\",\"#ab63fa\",\"#FFA15A\",\"#19d3f3\",\"#FF6692\",\"#B6E880\",\"#FF97FF\",\"#FECB52\"],\"font\":{\"color\":\"#2a3f5f\"},\"hovermode\":\"closest\",\"hoverlabel\":{\"align\":\"left\"},\"paper_bgcolor\":\"white\",\"plot_bgcolor\":\"#E5ECF6\",\"polar\":{\"bgcolor\":\"#E5ECF6\",\"angularaxis\":{\"gridcolor\":\"white\",\"linecolor\":\"white\",\"ticks\":\"\"},\"radialaxis\":{\"gridcolor\":\"white\",\"linecolor\":\"white\",\"ticks\":\"\"}},\"ternary\":{\"bgcolor\":\"#E5ECF6\",\"aaxis\":{\"gridcolor\":\"white\",\"linecolor\":\"white\",\"ticks\":\"\"},\"baxis\":{\"gridcolor\":\"white\",\"linecolor\":\"white\",\"ticks\":\"\"},\"caxis\":{\"gridcolor\":\"white\",\"linecolor\":\"white\",\"ticks\":\"\"}},\"coloraxis\":{\"colorbar\":{\"outlinewidth\":0,\"ticks\":\"\"}},\"colorscale\":{\"sequential\":[[0.0,\"#0d0887\"],[0.1111111111111111,\"#46039f\"],[0.2222222222222222,\"#7201a8\"],[0.3333333333333333,\"#9c179e\"],[0.4444444444444444,\"#bd3786\"],[0.5555555555555556,\"#d8576b\"],[0.6666666666666666,\"#ed7953\"],[0.7777777777777778,\"#fb9f3a\"],[0.8888888888888888,\"#fdca26\"],[1.0,\"#f0f921\"]],\"sequentialminus\":[[0.0,\"#0d0887\"],[0.1111111111111111,\"#46039f\"],[0.2222222222222222,\"#7201a8\"],[0.3333333333333333,\"#9c179e\"],[0.4444444444444444,\"#bd3786\"],[0.5555555555555556,\"#d8576b\"],[0.6666666666666666,\"#ed7953\"],[0.7777777777777778,\"#fb9f3a\"],[0.8888888888888888,\"#fdca26\"],[1.0,\"#f0f921\"]],\"diverging\":[[0,\"#8e0152\"],[0.1,\"#c51b7d\"],[0.2,\"#de77ae\"],[0.3,\"#f1b6da\"],[0.4,\"#fde0ef\"],[0.5,\"#f7f7f7\"],[0.6,\"#e6f5d0\"],[0.7,\"#b8e186\"],[0.8,\"#7fbc41\"],[0.9,\"#4d9221\"],[1,\"#276419\"]]},\"xaxis\":{\"gridcolor\":\"white\",\"linecolor\":\"white\",\"ticks\":\"\",\"title\":{\"standoff\":15},\"zerolinecolor\":\"white\",\"automargin\":true,\"zerolinewidth\":2},\"yaxis\":{\"gridcolor\":\"white\",\"linecolor\":\"white\",\"ticks\":\"\",\"title\":{\"standoff\":15},\"zerolinecolor\":\"white\",\"automargin\":true,\"zerolinewidth\":2},\"scene\":{\"xaxis\":{\"backgroundcolor\":\"#E5ECF6\",\"gridcolor\":\"white\",\"linecolor\":\"white\",\"showbackground\":true,\"ticks\":\"\",\"zerolinecolor\":\"white\",\"gridwidth\":2},\"yaxis\":{\"backgroundcolor\":\"#E5ECF6\",\"gridcolor\":\"white\",\"linecolor\":\"white\",\"showbackground\":true,\"ticks\":\"\",\"zerolinecolor\":\"white\",\"gridwidth\":2},\"zaxis\":{\"backgroundcolor\":\"#E5ECF6\",\"gridcolor\":\"white\",\"linecolor\":\"white\",\"showbackground\":true,\"ticks\":\"\",\"zerolinecolor\":\"white\",\"gridwidth\":2}},\"shapedefaults\":{\"line\":{\"color\":\"#2a3f5f\"}},\"annotationdefaults\":{\"arrowcolor\":\"#2a3f5f\",\"arrowhead\":0,\"arrowwidth\":1},\"geo\":{\"bgcolor\":\"white\",\"landcolor\":\"#E5ECF6\",\"subunitcolor\":\"white\",\"showland\":true,\"showlakes\":true,\"lakecolor\":\"white\"},\"title\":{\"x\":0.05},\"mapbox\":{\"style\":\"light\"}}},\"xaxis\":{\"tickangle\":-45},\"barmode\":\"group\",\"title\":{\"text\":\"\"}},                        {\"responsive\": true}                    ).then(function(){\n",
       "                            \n",
       "var gd = document.getElementById('c5014c97-3e28-47f3-a2d9-2a1e463d7b81');\n",
       "var x = new MutationObserver(function (mutations, observer) {{\n",
       "        var display = window.getComputedStyle(gd).display;\n",
       "        if (!display || display === 'none') {{\n",
       "            console.log([gd, 'removed!']);\n",
       "            Plotly.purge(gd);\n",
       "            observer.disconnect();\n",
       "        }}\n",
       "}});\n",
       "\n",
       "// Listen for the removal of the full notebook cells\n",
       "var notebookContainer = gd.closest('#notebook-container');\n",
       "if (notebookContainer) {{\n",
       "    x.observe(notebookContainer, {childList: true});\n",
       "}}\n",
       "\n",
       "// Listen for the clearing of the current output cell\n",
       "var outputEl = gd.closest('.output');\n",
       "if (outputEl) {{\n",
       "    x.observe(outputEl, {childList: true});\n",
       "}}\n",
       "\n",
       "                        })                };                });            </script>        </div>"
      ]
     },
     "metadata": {},
     "output_type": "display_data"
    }
   ],
   "source": [
    "df_graph = df.sort_values(by=[\"popularity\"], ascending=False).head(10)\n",
    "\n",
    "fig = go.Figure()\n",
    "fig.add_trace(go.Bar(\n",
    "     x=df_graph[\"_id\"],\n",
    "     y=df_graph[\"popularity\"],\n",
    "     name=max_date,\n",
    "     marker_color='indianred'\n",
    " ))\n",
    "\n",
    "# Here we modify the tickangle of the xaxis, resulting in rotated labels.\n",
    "fig.update_layout(barmode='group', xaxis_tickangle=-45, title=\"\")\n"
   ]
  },
  {
   "cell_type": "code",
   "execution_count": 58,
   "id": "b00b2bfe",
   "metadata": {},
   "outputs": [
    {
     "data": {
      "application/vnd.plotly.v1+json": {
       "config": {
        "plotlyServerURL": "https://plot.ly"
       },
       "data": [
        {
         "marker": {
          "color": "blue"
         },
         "name": "20/01/2023",
         "type": "bar",
         "x": [
          "-M- (MATTHIEU CHEDID)",
          "ORELSAN",
          "DADJU",
          "MICHEL SARDOU",
          "BIGFLO ET OLI",
          "STROMAE",
          "JULIETTE ARMANET",
          "SHAKA PONK",
          "LOMEPAL",
          "GOLDMEN (Tribute to J.J Goldman)"
         ],
         "y": [
          100,
          67,
          52,
          52,
          50,
          48,
          48,
          43,
          43,
          43
         ]
        }
       ],
       "layout": {
        "barmode": "group",
        "template": {
         "data": {
          "bar": [
           {
            "error_x": {
             "color": "#2a3f5f"
            },
            "error_y": {
             "color": "#2a3f5f"
            },
            "marker": {
             "line": {
              "color": "#E5ECF6",
              "width": 0.5
             },
             "pattern": {
              "fillmode": "overlay",
              "size": 10,
              "solidity": 0.2
             }
            },
            "type": "bar"
           }
          ],
          "barpolar": [
           {
            "marker": {
             "line": {
              "color": "#E5ECF6",
              "width": 0.5
             },
             "pattern": {
              "fillmode": "overlay",
              "size": 10,
              "solidity": 0.2
             }
            },
            "type": "barpolar"
           }
          ],
          "carpet": [
           {
            "aaxis": {
             "endlinecolor": "#2a3f5f",
             "gridcolor": "white",
             "linecolor": "white",
             "minorgridcolor": "white",
             "startlinecolor": "#2a3f5f"
            },
            "baxis": {
             "endlinecolor": "#2a3f5f",
             "gridcolor": "white",
             "linecolor": "white",
             "minorgridcolor": "white",
             "startlinecolor": "#2a3f5f"
            },
            "type": "carpet"
           }
          ],
          "choropleth": [
           {
            "colorbar": {
             "outlinewidth": 0,
             "ticks": ""
            },
            "type": "choropleth"
           }
          ],
          "contour": [
           {
            "colorbar": {
             "outlinewidth": 0,
             "ticks": ""
            },
            "colorscale": [
             [
              0,
              "#0d0887"
             ],
             [
              0.1111111111111111,
              "#46039f"
             ],
             [
              0.2222222222222222,
              "#7201a8"
             ],
             [
              0.3333333333333333,
              "#9c179e"
             ],
             [
              0.4444444444444444,
              "#bd3786"
             ],
             [
              0.5555555555555556,
              "#d8576b"
             ],
             [
              0.6666666666666666,
              "#ed7953"
             ],
             [
              0.7777777777777778,
              "#fb9f3a"
             ],
             [
              0.8888888888888888,
              "#fdca26"
             ],
             [
              1,
              "#f0f921"
             ]
            ],
            "type": "contour"
           }
          ],
          "contourcarpet": [
           {
            "colorbar": {
             "outlinewidth": 0,
             "ticks": ""
            },
            "type": "contourcarpet"
           }
          ],
          "heatmap": [
           {
            "colorbar": {
             "outlinewidth": 0,
             "ticks": ""
            },
            "colorscale": [
             [
              0,
              "#0d0887"
             ],
             [
              0.1111111111111111,
              "#46039f"
             ],
             [
              0.2222222222222222,
              "#7201a8"
             ],
             [
              0.3333333333333333,
              "#9c179e"
             ],
             [
              0.4444444444444444,
              "#bd3786"
             ],
             [
              0.5555555555555556,
              "#d8576b"
             ],
             [
              0.6666666666666666,
              "#ed7953"
             ],
             [
              0.7777777777777778,
              "#fb9f3a"
             ],
             [
              0.8888888888888888,
              "#fdca26"
             ],
             [
              1,
              "#f0f921"
             ]
            ],
            "type": "heatmap"
           }
          ],
          "heatmapgl": [
           {
            "colorbar": {
             "outlinewidth": 0,
             "ticks": ""
            },
            "colorscale": [
             [
              0,
              "#0d0887"
             ],
             [
              0.1111111111111111,
              "#46039f"
             ],
             [
              0.2222222222222222,
              "#7201a8"
             ],
             [
              0.3333333333333333,
              "#9c179e"
             ],
             [
              0.4444444444444444,
              "#bd3786"
             ],
             [
              0.5555555555555556,
              "#d8576b"
             ],
             [
              0.6666666666666666,
              "#ed7953"
             ],
             [
              0.7777777777777778,
              "#fb9f3a"
             ],
             [
              0.8888888888888888,
              "#fdca26"
             ],
             [
              1,
              "#f0f921"
             ]
            ],
            "type": "heatmapgl"
           }
          ],
          "histogram": [
           {
            "marker": {
             "pattern": {
              "fillmode": "overlay",
              "size": 10,
              "solidity": 0.2
             }
            },
            "type": "histogram"
           }
          ],
          "histogram2d": [
           {
            "colorbar": {
             "outlinewidth": 0,
             "ticks": ""
            },
            "colorscale": [
             [
              0,
              "#0d0887"
             ],
             [
              0.1111111111111111,
              "#46039f"
             ],
             [
              0.2222222222222222,
              "#7201a8"
             ],
             [
              0.3333333333333333,
              "#9c179e"
             ],
             [
              0.4444444444444444,
              "#bd3786"
             ],
             [
              0.5555555555555556,
              "#d8576b"
             ],
             [
              0.6666666666666666,
              "#ed7953"
             ],
             [
              0.7777777777777778,
              "#fb9f3a"
             ],
             [
              0.8888888888888888,
              "#fdca26"
             ],
             [
              1,
              "#f0f921"
             ]
            ],
            "type": "histogram2d"
           }
          ],
          "histogram2dcontour": [
           {
            "colorbar": {
             "outlinewidth": 0,
             "ticks": ""
            },
            "colorscale": [
             [
              0,
              "#0d0887"
             ],
             [
              0.1111111111111111,
              "#46039f"
             ],
             [
              0.2222222222222222,
              "#7201a8"
             ],
             [
              0.3333333333333333,
              "#9c179e"
             ],
             [
              0.4444444444444444,
              "#bd3786"
             ],
             [
              0.5555555555555556,
              "#d8576b"
             ],
             [
              0.6666666666666666,
              "#ed7953"
             ],
             [
              0.7777777777777778,
              "#fb9f3a"
             ],
             [
              0.8888888888888888,
              "#fdca26"
             ],
             [
              1,
              "#f0f921"
             ]
            ],
            "type": "histogram2dcontour"
           }
          ],
          "mesh3d": [
           {
            "colorbar": {
             "outlinewidth": 0,
             "ticks": ""
            },
            "type": "mesh3d"
           }
          ],
          "parcoords": [
           {
            "line": {
             "colorbar": {
              "outlinewidth": 0,
              "ticks": ""
             }
            },
            "type": "parcoords"
           }
          ],
          "pie": [
           {
            "automargin": true,
            "type": "pie"
           }
          ],
          "scatter": [
           {
            "fillpattern": {
             "fillmode": "overlay",
             "size": 10,
             "solidity": 0.2
            },
            "type": "scatter"
           }
          ],
          "scatter3d": [
           {
            "line": {
             "colorbar": {
              "outlinewidth": 0,
              "ticks": ""
             }
            },
            "marker": {
             "colorbar": {
              "outlinewidth": 0,
              "ticks": ""
             }
            },
            "type": "scatter3d"
           }
          ],
          "scattercarpet": [
           {
            "marker": {
             "colorbar": {
              "outlinewidth": 0,
              "ticks": ""
             }
            },
            "type": "scattercarpet"
           }
          ],
          "scattergeo": [
           {
            "marker": {
             "colorbar": {
              "outlinewidth": 0,
              "ticks": ""
             }
            },
            "type": "scattergeo"
           }
          ],
          "scattergl": [
           {
            "marker": {
             "colorbar": {
              "outlinewidth": 0,
              "ticks": ""
             }
            },
            "type": "scattergl"
           }
          ],
          "scattermapbox": [
           {
            "marker": {
             "colorbar": {
              "outlinewidth": 0,
              "ticks": ""
             }
            },
            "type": "scattermapbox"
           }
          ],
          "scatterpolar": [
           {
            "marker": {
             "colorbar": {
              "outlinewidth": 0,
              "ticks": ""
             }
            },
            "type": "scatterpolar"
           }
          ],
          "scatterpolargl": [
           {
            "marker": {
             "colorbar": {
              "outlinewidth": 0,
              "ticks": ""
             }
            },
            "type": "scatterpolargl"
           }
          ],
          "scatterternary": [
           {
            "marker": {
             "colorbar": {
              "outlinewidth": 0,
              "ticks": ""
             }
            },
            "type": "scatterternary"
           }
          ],
          "surface": [
           {
            "colorbar": {
             "outlinewidth": 0,
             "ticks": ""
            },
            "colorscale": [
             [
              0,
              "#0d0887"
             ],
             [
              0.1111111111111111,
              "#46039f"
             ],
             [
              0.2222222222222222,
              "#7201a8"
             ],
             [
              0.3333333333333333,
              "#9c179e"
             ],
             [
              0.4444444444444444,
              "#bd3786"
             ],
             [
              0.5555555555555556,
              "#d8576b"
             ],
             [
              0.6666666666666666,
              "#ed7953"
             ],
             [
              0.7777777777777778,
              "#fb9f3a"
             ],
             [
              0.8888888888888888,
              "#fdca26"
             ],
             [
              1,
              "#f0f921"
             ]
            ],
            "type": "surface"
           }
          ],
          "table": [
           {
            "cells": {
             "fill": {
              "color": "#EBF0F8"
             },
             "line": {
              "color": "white"
             }
            },
            "header": {
             "fill": {
              "color": "#C8D4E3"
             },
             "line": {
              "color": "white"
             }
            },
            "type": "table"
           }
          ]
         },
         "layout": {
          "annotationdefaults": {
           "arrowcolor": "#2a3f5f",
           "arrowhead": 0,
           "arrowwidth": 1
          },
          "autotypenumbers": "strict",
          "coloraxis": {
           "colorbar": {
            "outlinewidth": 0,
            "ticks": ""
           }
          },
          "colorscale": {
           "diverging": [
            [
             0,
             "#8e0152"
            ],
            [
             0.1,
             "#c51b7d"
            ],
            [
             0.2,
             "#de77ae"
            ],
            [
             0.3,
             "#f1b6da"
            ],
            [
             0.4,
             "#fde0ef"
            ],
            [
             0.5,
             "#f7f7f7"
            ],
            [
             0.6,
             "#e6f5d0"
            ],
            [
             0.7,
             "#b8e186"
            ],
            [
             0.8,
             "#7fbc41"
            ],
            [
             0.9,
             "#4d9221"
            ],
            [
             1,
             "#276419"
            ]
           ],
           "sequential": [
            [
             0,
             "#0d0887"
            ],
            [
             0.1111111111111111,
             "#46039f"
            ],
            [
             0.2222222222222222,
             "#7201a8"
            ],
            [
             0.3333333333333333,
             "#9c179e"
            ],
            [
             0.4444444444444444,
             "#bd3786"
            ],
            [
             0.5555555555555556,
             "#d8576b"
            ],
            [
             0.6666666666666666,
             "#ed7953"
            ],
            [
             0.7777777777777778,
             "#fb9f3a"
            ],
            [
             0.8888888888888888,
             "#fdca26"
            ],
            [
             1,
             "#f0f921"
            ]
           ],
           "sequentialminus": [
            [
             0,
             "#0d0887"
            ],
            [
             0.1111111111111111,
             "#46039f"
            ],
            [
             0.2222222222222222,
             "#7201a8"
            ],
            [
             0.3333333333333333,
             "#9c179e"
            ],
            [
             0.4444444444444444,
             "#bd3786"
            ],
            [
             0.5555555555555556,
             "#d8576b"
            ],
            [
             0.6666666666666666,
             "#ed7953"
            ],
            [
             0.7777777777777778,
             "#fb9f3a"
            ],
            [
             0.8888888888888888,
             "#fdca26"
            ],
            [
             1,
             "#f0f921"
            ]
           ]
          },
          "colorway": [
           "#636efa",
           "#EF553B",
           "#00cc96",
           "#ab63fa",
           "#FFA15A",
           "#19d3f3",
           "#FF6692",
           "#B6E880",
           "#FF97FF",
           "#FECB52"
          ],
          "font": {
           "color": "#2a3f5f"
          },
          "geo": {
           "bgcolor": "white",
           "lakecolor": "white",
           "landcolor": "#E5ECF6",
           "showlakes": true,
           "showland": true,
           "subunitcolor": "white"
          },
          "hoverlabel": {
           "align": "left"
          },
          "hovermode": "closest",
          "mapbox": {
           "style": "light"
          },
          "paper_bgcolor": "white",
          "plot_bgcolor": "#E5ECF6",
          "polar": {
           "angularaxis": {
            "gridcolor": "white",
            "linecolor": "white",
            "ticks": ""
           },
           "bgcolor": "#E5ECF6",
           "radialaxis": {
            "gridcolor": "white",
            "linecolor": "white",
            "ticks": ""
           }
          },
          "scene": {
           "xaxis": {
            "backgroundcolor": "#E5ECF6",
            "gridcolor": "white",
            "gridwidth": 2,
            "linecolor": "white",
            "showbackground": true,
            "ticks": "",
            "zerolinecolor": "white"
           },
           "yaxis": {
            "backgroundcolor": "#E5ECF6",
            "gridcolor": "white",
            "gridwidth": 2,
            "linecolor": "white",
            "showbackground": true,
            "ticks": "",
            "zerolinecolor": "white"
           },
           "zaxis": {
            "backgroundcolor": "#E5ECF6",
            "gridcolor": "white",
            "gridwidth": 2,
            "linecolor": "white",
            "showbackground": true,
            "ticks": "",
            "zerolinecolor": "white"
           }
          },
          "shapedefaults": {
           "line": {
            "color": "#2a3f5f"
           }
          },
          "ternary": {
           "aaxis": {
            "gridcolor": "white",
            "linecolor": "white",
            "ticks": ""
           },
           "baxis": {
            "gridcolor": "white",
            "linecolor": "white",
            "ticks": ""
           },
           "bgcolor": "#E5ECF6",
           "caxis": {
            "gridcolor": "white",
            "linecolor": "white",
            "ticks": ""
           }
          },
          "title": {
           "x": 0.05
          },
          "xaxis": {
           "automargin": true,
           "gridcolor": "white",
           "linecolor": "white",
           "ticks": "",
           "title": {
            "standoff": 15
           },
           "zerolinecolor": "white",
           "zerolinewidth": 2
          },
          "yaxis": {
           "automargin": true,
           "gridcolor": "white",
           "linecolor": "white",
           "ticks": "",
           "title": {
            "standoff": 15
           },
           "zerolinecolor": "white",
           "zerolinewidth": 2
          }
         }
        },
        "title": {
         "text": ""
        },
        "xaxis": {
         "tickangle": -45
        }
       }
      },
      "text/html": [
       "<div>                            <div id=\"c91558c5-3603-44df-b41f-883c2d7766aa\" class=\"plotly-graph-div\" style=\"height:525px; width:100%;\"></div>            <script type=\"text/javascript\">                require([\"plotly\"], function(Plotly) {                    window.PLOTLYENV=window.PLOTLYENV || {};                                    if (document.getElementById(\"c91558c5-3603-44df-b41f-883c2d7766aa\")) {                    Plotly.newPlot(                        \"c91558c5-3603-44df-b41f-883c2d7766aa\",                        [{\"marker\":{\"color\":\"blue\"},\"name\":\"20/01/2023\",\"x\":[\"-M- (MATTHIEU CHEDID)\",\"ORELSAN\",\"DADJU\",\"MICHEL SARDOU\",\"BIGFLO ET OLI\",\"STROMAE\",\"JULIETTE ARMANET\",\"SHAKA PONK\",\"LOMEPAL\",\"GOLDMEN (Tribute to J.J Goldman)\"],\"y\":[100,67,52,52,50,48,48,43,43,43],\"type\":\"bar\"}],                        {\"template\":{\"data\":{\"histogram2dcontour\":[{\"type\":\"histogram2dcontour\",\"colorbar\":{\"outlinewidth\":0,\"ticks\":\"\"},\"colorscale\":[[0.0,\"#0d0887\"],[0.1111111111111111,\"#46039f\"],[0.2222222222222222,\"#7201a8\"],[0.3333333333333333,\"#9c179e\"],[0.4444444444444444,\"#bd3786\"],[0.5555555555555556,\"#d8576b\"],[0.6666666666666666,\"#ed7953\"],[0.7777777777777778,\"#fb9f3a\"],[0.8888888888888888,\"#fdca26\"],[1.0,\"#f0f921\"]]}],\"choropleth\":[{\"type\":\"choropleth\",\"colorbar\":{\"outlinewidth\":0,\"ticks\":\"\"}}],\"histogram2d\":[{\"type\":\"histogram2d\",\"colorbar\":{\"outlinewidth\":0,\"ticks\":\"\"},\"colorscale\":[[0.0,\"#0d0887\"],[0.1111111111111111,\"#46039f\"],[0.2222222222222222,\"#7201a8\"],[0.3333333333333333,\"#9c179e\"],[0.4444444444444444,\"#bd3786\"],[0.5555555555555556,\"#d8576b\"],[0.6666666666666666,\"#ed7953\"],[0.7777777777777778,\"#fb9f3a\"],[0.8888888888888888,\"#fdca26\"],[1.0,\"#f0f921\"]]}],\"heatmap\":[{\"type\":\"heatmap\",\"colorbar\":{\"outlinewidth\":0,\"ticks\":\"\"},\"colorscale\":[[0.0,\"#0d0887\"],[0.1111111111111111,\"#46039f\"],[0.2222222222222222,\"#7201a8\"],[0.3333333333333333,\"#9c179e\"],[0.4444444444444444,\"#bd3786\"],[0.5555555555555556,\"#d8576b\"],[0.6666666666666666,\"#ed7953\"],[0.7777777777777778,\"#fb9f3a\"],[0.8888888888888888,\"#fdca26\"],[1.0,\"#f0f921\"]]}],\"heatmapgl\":[{\"type\":\"heatmapgl\",\"colorbar\":{\"outlinewidth\":0,\"ticks\":\"\"},\"colorscale\":[[0.0,\"#0d0887\"],[0.1111111111111111,\"#46039f\"],[0.2222222222222222,\"#7201a8\"],[0.3333333333333333,\"#9c179e\"],[0.4444444444444444,\"#bd3786\"],[0.5555555555555556,\"#d8576b\"],[0.6666666666666666,\"#ed7953\"],[0.7777777777777778,\"#fb9f3a\"],[0.8888888888888888,\"#fdca26\"],[1.0,\"#f0f921\"]]}],\"contourcarpet\":[{\"type\":\"contourcarpet\",\"colorbar\":{\"outlinewidth\":0,\"ticks\":\"\"}}],\"contour\":[{\"type\":\"contour\",\"colorbar\":{\"outlinewidth\":0,\"ticks\":\"\"},\"colorscale\":[[0.0,\"#0d0887\"],[0.1111111111111111,\"#46039f\"],[0.2222222222222222,\"#7201a8\"],[0.3333333333333333,\"#9c179e\"],[0.4444444444444444,\"#bd3786\"],[0.5555555555555556,\"#d8576b\"],[0.6666666666666666,\"#ed7953\"],[0.7777777777777778,\"#fb9f3a\"],[0.8888888888888888,\"#fdca26\"],[1.0,\"#f0f921\"]]}],\"surface\":[{\"type\":\"surface\",\"colorbar\":{\"outlinewidth\":0,\"ticks\":\"\"},\"colorscale\":[[0.0,\"#0d0887\"],[0.1111111111111111,\"#46039f\"],[0.2222222222222222,\"#7201a8\"],[0.3333333333333333,\"#9c179e\"],[0.4444444444444444,\"#bd3786\"],[0.5555555555555556,\"#d8576b\"],[0.6666666666666666,\"#ed7953\"],[0.7777777777777778,\"#fb9f3a\"],[0.8888888888888888,\"#fdca26\"],[1.0,\"#f0f921\"]]}],\"mesh3d\":[{\"type\":\"mesh3d\",\"colorbar\":{\"outlinewidth\":0,\"ticks\":\"\"}}],\"scatter\":[{\"fillpattern\":{\"fillmode\":\"overlay\",\"size\":10,\"solidity\":0.2},\"type\":\"scatter\"}],\"parcoords\":[{\"type\":\"parcoords\",\"line\":{\"colorbar\":{\"outlinewidth\":0,\"ticks\":\"\"}}}],\"scatterpolargl\":[{\"type\":\"scatterpolargl\",\"marker\":{\"colorbar\":{\"outlinewidth\":0,\"ticks\":\"\"}}}],\"bar\":[{\"error_x\":{\"color\":\"#2a3f5f\"},\"error_y\":{\"color\":\"#2a3f5f\"},\"marker\":{\"line\":{\"color\":\"#E5ECF6\",\"width\":0.5},\"pattern\":{\"fillmode\":\"overlay\",\"size\":10,\"solidity\":0.2}},\"type\":\"bar\"}],\"scattergeo\":[{\"type\":\"scattergeo\",\"marker\":{\"colorbar\":{\"outlinewidth\":0,\"ticks\":\"\"}}}],\"scatterpolar\":[{\"type\":\"scatterpolar\",\"marker\":{\"colorbar\":{\"outlinewidth\":0,\"ticks\":\"\"}}}],\"histogram\":[{\"marker\":{\"pattern\":{\"fillmode\":\"overlay\",\"size\":10,\"solidity\":0.2}},\"type\":\"histogram\"}],\"scattergl\":[{\"type\":\"scattergl\",\"marker\":{\"colorbar\":{\"outlinewidth\":0,\"ticks\":\"\"}}}],\"scatter3d\":[{\"type\":\"scatter3d\",\"line\":{\"colorbar\":{\"outlinewidth\":0,\"ticks\":\"\"}},\"marker\":{\"colorbar\":{\"outlinewidth\":0,\"ticks\":\"\"}}}],\"scattermapbox\":[{\"type\":\"scattermapbox\",\"marker\":{\"colorbar\":{\"outlinewidth\":0,\"ticks\":\"\"}}}],\"scatterternary\":[{\"type\":\"scatterternary\",\"marker\":{\"colorbar\":{\"outlinewidth\":0,\"ticks\":\"\"}}}],\"scattercarpet\":[{\"type\":\"scattercarpet\",\"marker\":{\"colorbar\":{\"outlinewidth\":0,\"ticks\":\"\"}}}],\"carpet\":[{\"aaxis\":{\"endlinecolor\":\"#2a3f5f\",\"gridcolor\":\"white\",\"linecolor\":\"white\",\"minorgridcolor\":\"white\",\"startlinecolor\":\"#2a3f5f\"},\"baxis\":{\"endlinecolor\":\"#2a3f5f\",\"gridcolor\":\"white\",\"linecolor\":\"white\",\"minorgridcolor\":\"white\",\"startlinecolor\":\"#2a3f5f\"},\"type\":\"carpet\"}],\"table\":[{\"cells\":{\"fill\":{\"color\":\"#EBF0F8\"},\"line\":{\"color\":\"white\"}},\"header\":{\"fill\":{\"color\":\"#C8D4E3\"},\"line\":{\"color\":\"white\"}},\"type\":\"table\"}],\"barpolar\":[{\"marker\":{\"line\":{\"color\":\"#E5ECF6\",\"width\":0.5},\"pattern\":{\"fillmode\":\"overlay\",\"size\":10,\"solidity\":0.2}},\"type\":\"barpolar\"}],\"pie\":[{\"automargin\":true,\"type\":\"pie\"}]},\"layout\":{\"autotypenumbers\":\"strict\",\"colorway\":[\"#636efa\",\"#EF553B\",\"#00cc96\",\"#ab63fa\",\"#FFA15A\",\"#19d3f3\",\"#FF6692\",\"#B6E880\",\"#FF97FF\",\"#FECB52\"],\"font\":{\"color\":\"#2a3f5f\"},\"hovermode\":\"closest\",\"hoverlabel\":{\"align\":\"left\"},\"paper_bgcolor\":\"white\",\"plot_bgcolor\":\"#E5ECF6\",\"polar\":{\"bgcolor\":\"#E5ECF6\",\"angularaxis\":{\"gridcolor\":\"white\",\"linecolor\":\"white\",\"ticks\":\"\"},\"radialaxis\":{\"gridcolor\":\"white\",\"linecolor\":\"white\",\"ticks\":\"\"}},\"ternary\":{\"bgcolor\":\"#E5ECF6\",\"aaxis\":{\"gridcolor\":\"white\",\"linecolor\":\"white\",\"ticks\":\"\"},\"baxis\":{\"gridcolor\":\"white\",\"linecolor\":\"white\",\"ticks\":\"\"},\"caxis\":{\"gridcolor\":\"white\",\"linecolor\":\"white\",\"ticks\":\"\"}},\"coloraxis\":{\"colorbar\":{\"outlinewidth\":0,\"ticks\":\"\"}},\"colorscale\":{\"sequential\":[[0.0,\"#0d0887\"],[0.1111111111111111,\"#46039f\"],[0.2222222222222222,\"#7201a8\"],[0.3333333333333333,\"#9c179e\"],[0.4444444444444444,\"#bd3786\"],[0.5555555555555556,\"#d8576b\"],[0.6666666666666666,\"#ed7953\"],[0.7777777777777778,\"#fb9f3a\"],[0.8888888888888888,\"#fdca26\"],[1.0,\"#f0f921\"]],\"sequentialminus\":[[0.0,\"#0d0887\"],[0.1111111111111111,\"#46039f\"],[0.2222222222222222,\"#7201a8\"],[0.3333333333333333,\"#9c179e\"],[0.4444444444444444,\"#bd3786\"],[0.5555555555555556,\"#d8576b\"],[0.6666666666666666,\"#ed7953\"],[0.7777777777777778,\"#fb9f3a\"],[0.8888888888888888,\"#fdca26\"],[1.0,\"#f0f921\"]],\"diverging\":[[0,\"#8e0152\"],[0.1,\"#c51b7d\"],[0.2,\"#de77ae\"],[0.3,\"#f1b6da\"],[0.4,\"#fde0ef\"],[0.5,\"#f7f7f7\"],[0.6,\"#e6f5d0\"],[0.7,\"#b8e186\"],[0.8,\"#7fbc41\"],[0.9,\"#4d9221\"],[1,\"#276419\"]]},\"xaxis\":{\"gridcolor\":\"white\",\"linecolor\":\"white\",\"ticks\":\"\",\"title\":{\"standoff\":15},\"zerolinecolor\":\"white\",\"automargin\":true,\"zerolinewidth\":2},\"yaxis\":{\"gridcolor\":\"white\",\"linecolor\":\"white\",\"ticks\":\"\",\"title\":{\"standoff\":15},\"zerolinecolor\":\"white\",\"automargin\":true,\"zerolinewidth\":2},\"scene\":{\"xaxis\":{\"backgroundcolor\":\"#E5ECF6\",\"gridcolor\":\"white\",\"linecolor\":\"white\",\"showbackground\":true,\"ticks\":\"\",\"zerolinecolor\":\"white\",\"gridwidth\":2},\"yaxis\":{\"backgroundcolor\":\"#E5ECF6\",\"gridcolor\":\"white\",\"linecolor\":\"white\",\"showbackground\":true,\"ticks\":\"\",\"zerolinecolor\":\"white\",\"gridwidth\":2},\"zaxis\":{\"backgroundcolor\":\"#E5ECF6\",\"gridcolor\":\"white\",\"linecolor\":\"white\",\"showbackground\":true,\"ticks\":\"\",\"zerolinecolor\":\"white\",\"gridwidth\":2}},\"shapedefaults\":{\"line\":{\"color\":\"#2a3f5f\"}},\"annotationdefaults\":{\"arrowcolor\":\"#2a3f5f\",\"arrowhead\":0,\"arrowwidth\":1},\"geo\":{\"bgcolor\":\"white\",\"landcolor\":\"#E5ECF6\",\"subunitcolor\":\"white\",\"showland\":true,\"showlakes\":true,\"lakecolor\":\"white\"},\"title\":{\"x\":0.05},\"mapbox\":{\"style\":\"light\"}}},\"xaxis\":{\"tickangle\":-45},\"barmode\":\"group\",\"title\":{\"text\":\"\"}},                        {\"responsive\": true}                    ).then(function(){\n",
       "                            \n",
       "var gd = document.getElementById('c91558c5-3603-44df-b41f-883c2d7766aa');\n",
       "var x = new MutationObserver(function (mutations, observer) {{\n",
       "        var display = window.getComputedStyle(gd).display;\n",
       "        if (!display || display === 'none') {{\n",
       "            console.log([gd, 'removed!']);\n",
       "            Plotly.purge(gd);\n",
       "            observer.disconnect();\n",
       "        }}\n",
       "}});\n",
       "\n",
       "// Listen for the removal of the full notebook cells\n",
       "var notebookContainer = gd.closest('#notebook-container');\n",
       "if (notebookContainer) {{\n",
       "    x.observe(notebookContainer, {childList: true});\n",
       "}}\n",
       "\n",
       "// Listen for the clearing of the current output cell\n",
       "var outputEl = gd.closest('.output');\n",
       "if (outputEl) {{\n",
       "    x.observe(outputEl, {childList: true});\n",
       "}}\n",
       "\n",
       "                        })                };                });            </script>        </div>"
      ]
     },
     "metadata": {},
     "output_type": "display_data"
    }
   ],
   "source": [
    "df_graph = df.sort_values(by=[\"count_concerts\"], ascending=False).head(10)\n",
    "\n",
    "fig = go.Figure()\n",
    "fig.add_trace(go.Bar(\n",
    "     x=df_graph[\"_id\"],\n",
    "     y=df_graph[\"count_concerts\"],\n",
    "     name=max_date,\n",
    "     marker_color='blue'\n",
    " ))\n",
    "\n",
    "# Here we modify the tickangle of the xaxis, resulting in rotated labels.\n",
    "fig.update_layout(barmode='group', xaxis_tickangle=-45, title=\"\")\n"
   ]
  },
  {
   "cell_type": "code",
   "execution_count": 66,
   "id": "91ceb97b",
   "metadata": {},
   "outputs": [
    {
     "data": {
      "image/png": "[encoded data removed]",
      "text/plain": [
       "<Figure size 432x288 with 1 Axes>"
      ]
     },
     "metadata": {
      "needs_background": "light"
     },
     "output_type": "display_data"
    }
   ],
   "source": [
    "ax=plt.subplots()\n",
    " \n",
    "df_graph = df.sort_values(by=[\"count_concerts\"], ascending=False).head(10)\n",
    "\n",
    "ax=sns.barplot(x=df_graph[\"_id\"],y=df_graph[\"count_concerts\"],color = 'b')\n",
    "ax=sns.barplot(x=df_graph[\"_id\"],y=df_graph[\"popularity\"],color = 'r')\n",
    " \n",
    "plt.show()"
   ]
  },
  {
   "cell_type": "code",
   "execution_count": null,
   "id": "f3ad4232",
   "metadata": {},
   "outputs": [],
   "source": [
    "import seaborn as sns\n",
    "sns.set_theme(style=\"whitegrid\")\n",
    "\n",
    "\n",
    "# Draw a nested barplot by species and sex\n",
    "g = sns.catplot(\n",
    "    data=df, kind=\"bar\",\n",
    "    x=\"species\", y=\"body_mass_g\", hue=\"sex\",\n",
    "    errorbar=\"sd\", palette=\"dark\", alpha=.6, height=6\n",
    ")\n",
    "g.despine(left=True)\n",
    "g.set_axis_labels(\"\", \"Body mass (g)\")\n",
    "g.legend.set_title(\"\")"
   ]
  },
  {
   "cell_type": "code",
   "execution_count": 35,
   "id": "01884e1f",
   "metadata": {},
   "outputs": [
    {
     "name": "stdout",
     "output_type": "stream",
     "text": [
      "[{'_id': 'AYA NAKAMURA', 'concerts': {'2023-05-28T18:00:00': {'location': 'Paris', 'salle': 'Accorhotels Arena - Popb Bercy', 'price': None}, '2023-05-26T20:00:00': {'location': 'Paris', 'salle': 'Accorhotels Arena - Popb Bercy', 'price': None}, '2023-05-27T00:00:00': {'location': 'Paris', 'salle': 'Accorhotels Arena - Popb Bercy', 'price': None}}, 'spotify_id': '7IlRNXHjoOCgEAWN5qYksg', 'followers': {'13/01/2023': 3749329, '19/01/2023': 3761948, '20/01/2023': 3763975}, 'popularity': 72}]\n"
     ]
    }
   ],
   "source": [
    "with open('uni_data.json') as file:\n",
    "    file2_data = json.load(file)\n",
    "print(file2_data)"
   ]
  },
  {
   "cell_type": "code",
   "execution_count": 36,
   "id": "00eb795b",
   "metadata": {},
   "outputs": [
    {
     "name": "stdout",
     "output_type": "stream",
     "text": [
      "13/01/2023\n",
      "{'13/01/2023': 3749329, '19/01/2023': 3761948, '20/01/2023': 3763975}\n",
      "19/01/2023\n",
      "{'13/01/2023': 3749329, '19/01/2023': 3761948, '20/01/2023': 3763975}\n",
      "20/01/2023\n",
      "{'13/01/2023': 3749329, '19/01/2023': 3761948, '20/01/2023': 3763975}\n"
     ]
    }
   ],
   "source": [
    "i = 0\n",
    "for doc in file2_data:\n",
    "    count_concerts = 0\n",
    "    if \"followers\" in doc.keys():\n",
    "        for elem in doc[\"followers\"]:\n",
    "            print(elem)\n",
    "            print(file2_data[i][\"followers\"])\n",
    "            file2_data[i][elem] = file2_data[i][\"followers\"][elem]\n",
    "        del file2_data[i][\"followers\"]\n",
    "    if \"concerts\" in doc.keys():\n",
    "        for elem in doc[\"concerts\"]:\n",
    "            count_concerts += 1\n",
    "        file2_data[i][\"numb_concerts\"] = count_concerts\n",
    "        del file2_data[i][\"concerts\"]\n",
    "    i += 1"
   ]
  },
  {
   "cell_type": "code",
   "execution_count": 37,
   "id": "90d153c3",
   "metadata": {},
   "outputs": [
    {
     "data": {
      "text/plain": [
       "[{'_id': 'AYA NAKAMURA',\n",
       "  'spotify_id': '7IlRNXHjoOCgEAWN5qYksg',\n",
       "  'popularity': 72,\n",
       "  '13/01/2023': 3749329,\n",
       "  '19/01/2023': 3761948,\n",
       "  '20/01/2023': 3763975,\n",
       "  'numb_concerts': 3}]"
      ]
     },
     "execution_count": 37,
     "metadata": {},
     "output_type": "execute_result"
    }
   ],
   "source": [
    "file2_data"
   ]
  },
  {
   "cell_type": "code",
   "execution_count": 38,
   "id": "873dace4",
   "metadata": {},
   "outputs": [],
   "source": [
    "df2 = pd.json_normalize(file2_data)"
   ]
  },
  {
   "cell_type": "code",
   "execution_count": 39,
   "id": "63a15a91",
   "metadata": {},
   "outputs": [],
   "source": [
    "df3 = pd.melt(df2, id_vars=[\"_id\", \"spotify_id\", \"popularity\", \"numb_concerts\"], \n",
    "                  var_name=\"date\", value_name=\"followers\")"
   ]
  },
  {
   "cell_type": "code",
   "execution_count": 40,
   "id": "2ef6ba1d",
   "metadata": {},
   "outputs": [
    {
     "data": {
      "text/html": [
       "<div>\n",
       "<style scoped>\n",
       "    .dataframe tbody tr th:only-of-type {\n",
       "        vertical-align: middle;\n",
       "    }\n",
       "\n",
       "    .dataframe tbody tr th {\n",
       "        vertical-align: top;\n",
       "    }\n",
       "\n",
       "    .dataframe thead th {\n",
       "        text-align: right;\n",
       "    }\n",
       "</style>\n",
       "<table border=\"1\" class=\"dataframe\">\n",
       "  <thead>\n",
       "    <tr style=\"text-align: right;\">\n",
       "      <th></th>\n",
       "      <th>_id</th>\n",
       "      <th>spotify_id</th>\n",
       "      <th>popularity</th>\n",
       "      <th>numb_concerts</th>\n",
       "      <th>date</th>\n",
       "      <th>followers</th>\n",
       "    </tr>\n",
       "  </thead>\n",
       "  <tbody>\n",
       "    <tr>\n",
       "      <th>0</th>\n",
       "      <td>AYA NAKAMURA</td>\n",
       "      <td>7IlRNXHjoOCgEAWN5qYksg</td>\n",
       "      <td>72</td>\n",
       "      <td>3</td>\n",
       "      <td>13/01/2023</td>\n",
       "      <td>3749329</td>\n",
       "    </tr>\n",
       "    <tr>\n",
       "      <th>1</th>\n",
       "      <td>AYA NAKAMURA</td>\n",
       "      <td>7IlRNXHjoOCgEAWN5qYksg</td>\n",
       "      <td>72</td>\n",
       "      <td>3</td>\n",
       "      <td>19/01/2023</td>\n",
       "      <td>3761948</td>\n",
       "    </tr>\n",
       "    <tr>\n",
       "      <th>2</th>\n",
       "      <td>AYA NAKAMURA</td>\n",
       "      <td>7IlRNXHjoOCgEAWN5qYksg</td>\n",
       "      <td>72</td>\n",
       "      <td>3</td>\n",
       "      <td>20/01/2023</td>\n",
       "      <td>3763975</td>\n",
       "    </tr>\n",
       "  </tbody>\n",
       "</table>\n",
       "</div>"
      ],
      "text/plain": [
       "            _id              spotify_id  popularity  numb_concerts  \\\n",
       "0  AYA NAKAMURA  7IlRNXHjoOCgEAWN5qYksg          72              3   \n",
       "1  AYA NAKAMURA  7IlRNXHjoOCgEAWN5qYksg          72              3   \n",
       "2  AYA NAKAMURA  7IlRNXHjoOCgEAWN5qYksg          72              3   \n",
       "\n",
       "         date  followers  \n",
       "0  13/01/2023    3749329  \n",
       "1  19/01/2023    3761948  \n",
       "2  20/01/2023    3763975  "
      ]
     },
     "execution_count": 40,
     "metadata": {},
     "output_type": "execute_result"
    }
   ],
   "source": [
    "df3"
   ]
  },
  {
   "cell_type": "code",
   "execution_count": 61,
   "id": "ac99183a",
   "metadata": {},
   "outputs": [
    {
     "data": {
      "text/plain": [
       "<AxesSubplot:xlabel='date', ylabel='followers'>"
      ]
     },
     "execution_count": 61,
     "metadata": {},
     "output_type": "execute_result"
    },
    {
     "data": {
      "image/png": "[encoded data removed]",
      "text/plain": [
       "<Figure size 432x288 with 1 Axes>"
      ]
     },
     "metadata": {
      "needs_background": "light"
     },
     "output_type": "display_data"
    }
   ],
   "source": [
    "plt.ticklabel_format(style='plain', axis='y')\n",
    "plt.xticks(rotation=45)\n",
    "sns.lineplot(x=\"date\", y=\"followers\",\n",
    "             data=df3)"
   ]
  },
  {
   "cell_type": "code",
   "execution_count": 70,
   "id": "f446e489",
   "metadata": {},
   "outputs": [
    {
     "data": {
      "image/png": "[encoded data removed]",
      "text/plain": [
       "<Figure size 432x288 with 1 Axes>"
      ]
     },
     "metadata": {
      "needs_background": "light"
     },
     "output_type": "display_data"
    }
   ],
   "source": [
    "plt.plot(df3['date'], df3['followers'])\n",
    "plt.ticklabel_format(style='plain', axis='y')\n",
    "plt.xticks(rotation=45)\n",
    "plt.title('Evolution du nombre de followers')\n",
    "plt.ylabel('Nombre de followers')\n",
    "plt.show()"
   ]
  },
  {
   "cell_type": "code",
   "execution_count": null,
   "id": "bcbf53d7",
   "metadata": {},
   "outputs": [],
   "source": []
  }
 ],
 "metadata": {
  "kernelspec": {
   "display_name": "Python 3 (ipykernel)",
   "language": "python",
   "name": "python3"
  },
  "language_info": {
   "codemirror_mode": {
    "name": "ipython",
    "version": 3
   },
   "file_extension": ".py",
   "mimetype": "text/x-python",
   "name": "python",
   "nbconvert_exporter": "python",
   "pygments_lexer": "ipython3",
   "version": "3.9.7"
  }
 },
 "nbformat": 4,
 "nbformat_minor": 5
}
